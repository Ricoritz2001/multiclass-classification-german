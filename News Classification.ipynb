{
  "nbformat": 4,
  "nbformat_minor": 0,
  "metadata": {
    "colab": {
      "provenance": [],
      "machine_shape": "hm",
      "gpuType": "A100"
    },
    "kernelspec": {
      "name": "python3",
      "display_name": "Python 3"
    },
    "language_info": {
      "name": "python"
    },
    "widgets": {
      "application/vnd.jupyter.widget-state+json": {
        "75a7d5be53dd4622824422b2c8bc3293": {
          "model_module": "@jupyter-widgets/controls",
          "model_name": "HBoxModel",
          "model_module_version": "1.5.0",
          "state": {
            "_dom_classes": [],
            "_model_module": "@jupyter-widgets/controls",
            "_model_module_version": "1.5.0",
            "_model_name": "HBoxModel",
            "_view_count": null,
            "_view_module": "@jupyter-widgets/controls",
            "_view_module_version": "1.5.0",
            "_view_name": "HBoxView",
            "box_style": "",
            "children": [
              "IPY_MODEL_23363b799d4d46b796c95a56bdc87656",
              "IPY_MODEL_010a58a284b644e89b11d57db9737dcb",
              "IPY_MODEL_d7998a6b5e4a4a878b1e253ee6bf1cd9"
            ],
            "layout": "IPY_MODEL_ae55e14e5b7d41b3bc85551118db79e0"
          }
        },
        "23363b799d4d46b796c95a56bdc87656": {
          "model_module": "@jupyter-widgets/controls",
          "model_name": "HTMLModel",
          "model_module_version": "1.5.0",
          "state": {
            "_dom_classes": [],
            "_model_module": "@jupyter-widgets/controls",
            "_model_module_version": "1.5.0",
            "_model_name": "HTMLModel",
            "_view_count": null,
            "_view_module": "@jupyter-widgets/controls",
            "_view_module_version": "1.5.0",
            "_view_name": "HTMLView",
            "description": "",
            "description_tooltip": null,
            "layout": "IPY_MODEL_260a9b538a9f4f758254043a9a0287e6",
            "placeholder": "​",
            "style": "IPY_MODEL_ce79776dbfc046cba57d92c62fbbfcd4",
            "value": "model.safetensors: 100%"
          }
        },
        "010a58a284b644e89b11d57db9737dcb": {
          "model_module": "@jupyter-widgets/controls",
          "model_name": "FloatProgressModel",
          "model_module_version": "1.5.0",
          "state": {
            "_dom_classes": [],
            "_model_module": "@jupyter-widgets/controls",
            "_model_module_version": "1.5.0",
            "_model_name": "FloatProgressModel",
            "_view_count": null,
            "_view_module": "@jupyter-widgets/controls",
            "_view_module_version": "1.5.0",
            "_view_name": "ProgressView",
            "bar_style": "success",
            "description": "",
            "description_tooltip": null,
            "layout": "IPY_MODEL_5ad82988622746e9bf7ed522b00e1fd1",
            "max": 269738848,
            "min": 0,
            "orientation": "horizontal",
            "style": "IPY_MODEL_7fa9a718cf624f0f8d772ac5f301106c",
            "value": 269738848
          }
        },
        "d7998a6b5e4a4a878b1e253ee6bf1cd9": {
          "model_module": "@jupyter-widgets/controls",
          "model_name": "HTMLModel",
          "model_module_version": "1.5.0",
          "state": {
            "_dom_classes": [],
            "_model_module": "@jupyter-widgets/controls",
            "_model_module_version": "1.5.0",
            "_model_name": "HTMLModel",
            "_view_count": null,
            "_view_module": "@jupyter-widgets/controls",
            "_view_module_version": "1.5.0",
            "_view_name": "HTMLView",
            "description": "",
            "description_tooltip": null,
            "layout": "IPY_MODEL_de3397007337499fb89e94cb488d5c5a",
            "placeholder": "​",
            "style": "IPY_MODEL_927d5aa101434e5daf70fa157d4c8a1c",
            "value": " 270M/270M [00:01&lt;00:00, 221MB/s]"
          }
        },
        "ae55e14e5b7d41b3bc85551118db79e0": {
          "model_module": "@jupyter-widgets/base",
          "model_name": "LayoutModel",
          "model_module_version": "1.2.0",
          "state": {
            "_model_module": "@jupyter-widgets/base",
            "_model_module_version": "1.2.0",
            "_model_name": "LayoutModel",
            "_view_count": null,
            "_view_module": "@jupyter-widgets/base",
            "_view_module_version": "1.2.0",
            "_view_name": "LayoutView",
            "align_content": null,
            "align_items": null,
            "align_self": null,
            "border": null,
            "bottom": null,
            "display": null,
            "flex": null,
            "flex_flow": null,
            "grid_area": null,
            "grid_auto_columns": null,
            "grid_auto_flow": null,
            "grid_auto_rows": null,
            "grid_column": null,
            "grid_gap": null,
            "grid_row": null,
            "grid_template_areas": null,
            "grid_template_columns": null,
            "grid_template_rows": null,
            "height": null,
            "justify_content": null,
            "justify_items": null,
            "left": null,
            "margin": null,
            "max_height": null,
            "max_width": null,
            "min_height": null,
            "min_width": null,
            "object_fit": null,
            "object_position": null,
            "order": null,
            "overflow": null,
            "overflow_x": null,
            "overflow_y": null,
            "padding": null,
            "right": null,
            "top": null,
            "visibility": null,
            "width": null
          }
        },
        "260a9b538a9f4f758254043a9a0287e6": {
          "model_module": "@jupyter-widgets/base",
          "model_name": "LayoutModel",
          "model_module_version": "1.2.0",
          "state": {
            "_model_module": "@jupyter-widgets/base",
            "_model_module_version": "1.2.0",
            "_model_name": "LayoutModel",
            "_view_count": null,
            "_view_module": "@jupyter-widgets/base",
            "_view_module_version": "1.2.0",
            "_view_name": "LayoutView",
            "align_content": null,
            "align_items": null,
            "align_self": null,
            "border": null,
            "bottom": null,
            "display": null,
            "flex": null,
            "flex_flow": null,
            "grid_area": null,
            "grid_auto_columns": null,
            "grid_auto_flow": null,
            "grid_auto_rows": null,
            "grid_column": null,
            "grid_gap": null,
            "grid_row": null,
            "grid_template_areas": null,
            "grid_template_columns": null,
            "grid_template_rows": null,
            "height": null,
            "justify_content": null,
            "justify_items": null,
            "left": null,
            "margin": null,
            "max_height": null,
            "max_width": null,
            "min_height": null,
            "min_width": null,
            "object_fit": null,
            "object_position": null,
            "order": null,
            "overflow": null,
            "overflow_x": null,
            "overflow_y": null,
            "padding": null,
            "right": null,
            "top": null,
            "visibility": null,
            "width": null
          }
        },
        "ce79776dbfc046cba57d92c62fbbfcd4": {
          "model_module": "@jupyter-widgets/controls",
          "model_name": "DescriptionStyleModel",
          "model_module_version": "1.5.0",
          "state": {
            "_model_module": "@jupyter-widgets/controls",
            "_model_module_version": "1.5.0",
            "_model_name": "DescriptionStyleModel",
            "_view_count": null,
            "_view_module": "@jupyter-widgets/base",
            "_view_module_version": "1.2.0",
            "_view_name": "StyleView",
            "description_width": ""
          }
        },
        "5ad82988622746e9bf7ed522b00e1fd1": {
          "model_module": "@jupyter-widgets/base",
          "model_name": "LayoutModel",
          "model_module_version": "1.2.0",
          "state": {
            "_model_module": "@jupyter-widgets/base",
            "_model_module_version": "1.2.0",
            "_model_name": "LayoutModel",
            "_view_count": null,
            "_view_module": "@jupyter-widgets/base",
            "_view_module_version": "1.2.0",
            "_view_name": "LayoutView",
            "align_content": null,
            "align_items": null,
            "align_self": null,
            "border": null,
            "bottom": null,
            "display": null,
            "flex": null,
            "flex_flow": null,
            "grid_area": null,
            "grid_auto_columns": null,
            "grid_auto_flow": null,
            "grid_auto_rows": null,
            "grid_column": null,
            "grid_gap": null,
            "grid_row": null,
            "grid_template_areas": null,
            "grid_template_columns": null,
            "grid_template_rows": null,
            "height": null,
            "justify_content": null,
            "justify_items": null,
            "left": null,
            "margin": null,
            "max_height": null,
            "max_width": null,
            "min_height": null,
            "min_width": null,
            "object_fit": null,
            "object_position": null,
            "order": null,
            "overflow": null,
            "overflow_x": null,
            "overflow_y": null,
            "padding": null,
            "right": null,
            "top": null,
            "visibility": null,
            "width": null
          }
        },
        "7fa9a718cf624f0f8d772ac5f301106c": {
          "model_module": "@jupyter-widgets/controls",
          "model_name": "ProgressStyleModel",
          "model_module_version": "1.5.0",
          "state": {
            "_model_module": "@jupyter-widgets/controls",
            "_model_module_version": "1.5.0",
            "_model_name": "ProgressStyleModel",
            "_view_count": null,
            "_view_module": "@jupyter-widgets/base",
            "_view_module_version": "1.2.0",
            "_view_name": "StyleView",
            "bar_color": null,
            "description_width": ""
          }
        },
        "de3397007337499fb89e94cb488d5c5a": {
          "model_module": "@jupyter-widgets/base",
          "model_name": "LayoutModel",
          "model_module_version": "1.2.0",
          "state": {
            "_model_module": "@jupyter-widgets/base",
            "_model_module_version": "1.2.0",
            "_model_name": "LayoutModel",
            "_view_count": null,
            "_view_module": "@jupyter-widgets/base",
            "_view_module_version": "1.2.0",
            "_view_name": "LayoutView",
            "align_content": null,
            "align_items": null,
            "align_self": null,
            "border": null,
            "bottom": null,
            "display": null,
            "flex": null,
            "flex_flow": null,
            "grid_area": null,
            "grid_auto_columns": null,
            "grid_auto_flow": null,
            "grid_auto_rows": null,
            "grid_column": null,
            "grid_gap": null,
            "grid_row": null,
            "grid_template_areas": null,
            "grid_template_columns": null,
            "grid_template_rows": null,
            "height": null,
            "justify_content": null,
            "justify_items": null,
            "left": null,
            "margin": null,
            "max_height": null,
            "max_width": null,
            "min_height": null,
            "min_width": null,
            "object_fit": null,
            "object_position": null,
            "order": null,
            "overflow": null,
            "overflow_x": null,
            "overflow_y": null,
            "padding": null,
            "right": null,
            "top": null,
            "visibility": null,
            "width": null
          }
        },
        "927d5aa101434e5daf70fa157d4c8a1c": {
          "model_module": "@jupyter-widgets/controls",
          "model_name": "DescriptionStyleModel",
          "model_module_version": "1.5.0",
          "state": {
            "_model_module": "@jupyter-widgets/controls",
            "_model_module_version": "1.5.0",
            "_model_name": "DescriptionStyleModel",
            "_view_count": null,
            "_view_module": "@jupyter-widgets/base",
            "_view_module_version": "1.2.0",
            "_view_name": "StyleView",
            "description_width": ""
          }
        },
        "ef5a5f55216d47b3a755021ba8050363": {
          "model_module": "@jupyter-widgets/controls",
          "model_name": "HBoxModel",
          "model_module_version": "1.5.0",
          "state": {
            "_dom_classes": [],
            "_model_module": "@jupyter-widgets/controls",
            "_model_module_version": "1.5.0",
            "_model_name": "HBoxModel",
            "_view_count": null,
            "_view_module": "@jupyter-widgets/controls",
            "_view_module_version": "1.5.0",
            "_view_name": "HBoxView",
            "box_style": "",
            "children": [
              "IPY_MODEL_603a59ae67de4eac964ceba19630da89",
              "IPY_MODEL_3ade12bf74d2463983d1c79cffadd798",
              "IPY_MODEL_e214014893e54746865521dde186743e"
            ],
            "layout": "IPY_MODEL_ed81a565fbd44b9696aa12e3c531edc1"
          }
        },
        "603a59ae67de4eac964ceba19630da89": {
          "model_module": "@jupyter-widgets/controls",
          "model_name": "HTMLModel",
          "model_module_version": "1.5.0",
          "state": {
            "_dom_classes": [],
            "_model_module": "@jupyter-widgets/controls",
            "_model_module_version": "1.5.0",
            "_model_name": "HTMLModel",
            "_view_count": null,
            "_view_module": "@jupyter-widgets/controls",
            "_view_module_version": "1.5.0",
            "_view_name": "HTMLView",
            "description": "",
            "description_tooltip": null,
            "layout": "IPY_MODEL_ed2cdb54b8264ce89d257002df13b9d4",
            "placeholder": "​",
            "style": "IPY_MODEL_8469a65a25e2443d9faf94f9e023bec8",
            "value": "Downloading builder script: 100%"
          }
        },
        "3ade12bf74d2463983d1c79cffadd798": {
          "model_module": "@jupyter-widgets/controls",
          "model_name": "FloatProgressModel",
          "model_module_version": "1.5.0",
          "state": {
            "_dom_classes": [],
            "_model_module": "@jupyter-widgets/controls",
            "_model_module_version": "1.5.0",
            "_model_name": "FloatProgressModel",
            "_view_count": null,
            "_view_module": "@jupyter-widgets/controls",
            "_view_module_version": "1.5.0",
            "_view_name": "ProgressView",
            "bar_style": "success",
            "description": "",
            "description_tooltip": null,
            "layout": "IPY_MODEL_a2955049e3374bbd85d7e56ed1c98c76",
            "max": 4203,
            "min": 0,
            "orientation": "horizontal",
            "style": "IPY_MODEL_3ef7cdad8fed42e1aaf614af7379064b",
            "value": 4203
          }
        },
        "e214014893e54746865521dde186743e": {
          "model_module": "@jupyter-widgets/controls",
          "model_name": "HTMLModel",
          "model_module_version": "1.5.0",
          "state": {
            "_dom_classes": [],
            "_model_module": "@jupyter-widgets/controls",
            "_model_module_version": "1.5.0",
            "_model_name": "HTMLModel",
            "_view_count": null,
            "_view_module": "@jupyter-widgets/controls",
            "_view_module_version": "1.5.0",
            "_view_name": "HTMLView",
            "description": "",
            "description_tooltip": null,
            "layout": "IPY_MODEL_4b72e2c88dae427f9337627b08231104",
            "placeholder": "​",
            "style": "IPY_MODEL_0cddde983332424f85399cef5574de9b",
            "value": " 4.20k/4.20k [00:00&lt;00:00, 364kB/s]"
          }
        },
        "ed81a565fbd44b9696aa12e3c531edc1": {
          "model_module": "@jupyter-widgets/base",
          "model_name": "LayoutModel",
          "model_module_version": "1.2.0",
          "state": {
            "_model_module": "@jupyter-widgets/base",
            "_model_module_version": "1.2.0",
            "_model_name": "LayoutModel",
            "_view_count": null,
            "_view_module": "@jupyter-widgets/base",
            "_view_module_version": "1.2.0",
            "_view_name": "LayoutView",
            "align_content": null,
            "align_items": null,
            "align_self": null,
            "border": null,
            "bottom": null,
            "display": null,
            "flex": null,
            "flex_flow": null,
            "grid_area": null,
            "grid_auto_columns": null,
            "grid_auto_flow": null,
            "grid_auto_rows": null,
            "grid_column": null,
            "grid_gap": null,
            "grid_row": null,
            "grid_template_areas": null,
            "grid_template_columns": null,
            "grid_template_rows": null,
            "height": null,
            "justify_content": null,
            "justify_items": null,
            "left": null,
            "margin": null,
            "max_height": null,
            "max_width": null,
            "min_height": null,
            "min_width": null,
            "object_fit": null,
            "object_position": null,
            "order": null,
            "overflow": null,
            "overflow_x": null,
            "overflow_y": null,
            "padding": null,
            "right": null,
            "top": null,
            "visibility": null,
            "width": null
          }
        },
        "ed2cdb54b8264ce89d257002df13b9d4": {
          "model_module": "@jupyter-widgets/base",
          "model_name": "LayoutModel",
          "model_module_version": "1.2.0",
          "state": {
            "_model_module": "@jupyter-widgets/base",
            "_model_module_version": "1.2.0",
            "_model_name": "LayoutModel",
            "_view_count": null,
            "_view_module": "@jupyter-widgets/base",
            "_view_module_version": "1.2.0",
            "_view_name": "LayoutView",
            "align_content": null,
            "align_items": null,
            "align_self": null,
            "border": null,
            "bottom": null,
            "display": null,
            "flex": null,
            "flex_flow": null,
            "grid_area": null,
            "grid_auto_columns": null,
            "grid_auto_flow": null,
            "grid_auto_rows": null,
            "grid_column": null,
            "grid_gap": null,
            "grid_row": null,
            "grid_template_areas": null,
            "grid_template_columns": null,
            "grid_template_rows": null,
            "height": null,
            "justify_content": null,
            "justify_items": null,
            "left": null,
            "margin": null,
            "max_height": null,
            "max_width": null,
            "min_height": null,
            "min_width": null,
            "object_fit": null,
            "object_position": null,
            "order": null,
            "overflow": null,
            "overflow_x": null,
            "overflow_y": null,
            "padding": null,
            "right": null,
            "top": null,
            "visibility": null,
            "width": null
          }
        },
        "8469a65a25e2443d9faf94f9e023bec8": {
          "model_module": "@jupyter-widgets/controls",
          "model_name": "DescriptionStyleModel",
          "model_module_version": "1.5.0",
          "state": {
            "_model_module": "@jupyter-widgets/controls",
            "_model_module_version": "1.5.0",
            "_model_name": "DescriptionStyleModel",
            "_view_count": null,
            "_view_module": "@jupyter-widgets/base",
            "_view_module_version": "1.2.0",
            "_view_name": "StyleView",
            "description_width": ""
          }
        },
        "a2955049e3374bbd85d7e56ed1c98c76": {
          "model_module": "@jupyter-widgets/base",
          "model_name": "LayoutModel",
          "model_module_version": "1.2.0",
          "state": {
            "_model_module": "@jupyter-widgets/base",
            "_model_module_version": "1.2.0",
            "_model_name": "LayoutModel",
            "_view_count": null,
            "_view_module": "@jupyter-widgets/base",
            "_view_module_version": "1.2.0",
            "_view_name": "LayoutView",
            "align_content": null,
            "align_items": null,
            "align_self": null,
            "border": null,
            "bottom": null,
            "display": null,
            "flex": null,
            "flex_flow": null,
            "grid_area": null,
            "grid_auto_columns": null,
            "grid_auto_flow": null,
            "grid_auto_rows": null,
            "grid_column": null,
            "grid_gap": null,
            "grid_row": null,
            "grid_template_areas": null,
            "grid_template_columns": null,
            "grid_template_rows": null,
            "height": null,
            "justify_content": null,
            "justify_items": null,
            "left": null,
            "margin": null,
            "max_height": null,
            "max_width": null,
            "min_height": null,
            "min_width": null,
            "object_fit": null,
            "object_position": null,
            "order": null,
            "overflow": null,
            "overflow_x": null,
            "overflow_y": null,
            "padding": null,
            "right": null,
            "top": null,
            "visibility": null,
            "width": null
          }
        },
        "3ef7cdad8fed42e1aaf614af7379064b": {
          "model_module": "@jupyter-widgets/controls",
          "model_name": "ProgressStyleModel",
          "model_module_version": "1.5.0",
          "state": {
            "_model_module": "@jupyter-widgets/controls",
            "_model_module_version": "1.5.0",
            "_model_name": "ProgressStyleModel",
            "_view_count": null,
            "_view_module": "@jupyter-widgets/base",
            "_view_module_version": "1.2.0",
            "_view_name": "StyleView",
            "bar_color": null,
            "description_width": ""
          }
        },
        "4b72e2c88dae427f9337627b08231104": {
          "model_module": "@jupyter-widgets/base",
          "model_name": "LayoutModel",
          "model_module_version": "1.2.0",
          "state": {
            "_model_module": "@jupyter-widgets/base",
            "_model_module_version": "1.2.0",
            "_model_name": "LayoutModel",
            "_view_count": null,
            "_view_module": "@jupyter-widgets/base",
            "_view_module_version": "1.2.0",
            "_view_name": "LayoutView",
            "align_content": null,
            "align_items": null,
            "align_self": null,
            "border": null,
            "bottom": null,
            "display": null,
            "flex": null,
            "flex_flow": null,
            "grid_area": null,
            "grid_auto_columns": null,
            "grid_auto_flow": null,
            "grid_auto_rows": null,
            "grid_column": null,
            "grid_gap": null,
            "grid_row": null,
            "grid_template_areas": null,
            "grid_template_columns": null,
            "grid_template_rows": null,
            "height": null,
            "justify_content": null,
            "justify_items": null,
            "left": null,
            "margin": null,
            "max_height": null,
            "max_width": null,
            "min_height": null,
            "min_width": null,
            "object_fit": null,
            "object_position": null,
            "order": null,
            "overflow": null,
            "overflow_x": null,
            "overflow_y": null,
            "padding": null,
            "right": null,
            "top": null,
            "visibility": null,
            "width": null
          }
        },
        "0cddde983332424f85399cef5574de9b": {
          "model_module": "@jupyter-widgets/controls",
          "model_name": "DescriptionStyleModel",
          "model_module_version": "1.5.0",
          "state": {
            "_model_module": "@jupyter-widgets/controls",
            "_model_module_version": "1.5.0",
            "_model_name": "DescriptionStyleModel",
            "_view_count": null,
            "_view_module": "@jupyter-widgets/base",
            "_view_module_version": "1.2.0",
            "_view_name": "StyleView",
            "description_width": ""
          }
        },
        "f2ad2ac6b1a542fcb0b7e1c1c49a8eee": {
          "model_module": "@jupyter-widgets/controls",
          "model_name": "HBoxModel",
          "model_module_version": "1.5.0",
          "state": {
            "_dom_classes": [],
            "_model_module": "@jupyter-widgets/controls",
            "_model_module_version": "1.5.0",
            "_model_name": "HBoxModel",
            "_view_count": null,
            "_view_module": "@jupyter-widgets/controls",
            "_view_module_version": "1.5.0",
            "_view_name": "HBoxView",
            "box_style": "",
            "children": [
              "IPY_MODEL_4b3d9503d769449eb1312d22db03052f",
              "IPY_MODEL_d21dd5a34eb7424da0a86fac45468a5d",
              "IPY_MODEL_19b0be9a478c4345aed9570716ffcc07"
            ],
            "layout": "IPY_MODEL_b25359d90edb416e9549aa8c8ca71532"
          }
        },
        "4b3d9503d769449eb1312d22db03052f": {
          "model_module": "@jupyter-widgets/controls",
          "model_name": "HTMLModel",
          "model_module_version": "1.5.0",
          "state": {
            "_dom_classes": [],
            "_model_module": "@jupyter-widgets/controls",
            "_model_module_version": "1.5.0",
            "_model_name": "HTMLModel",
            "_view_count": null,
            "_view_module": "@jupyter-widgets/controls",
            "_view_module_version": "1.5.0",
            "_view_name": "HTMLView",
            "description": "",
            "description_tooltip": null,
            "layout": "IPY_MODEL_8f9df44900aa4b7886e6fc147fc5e1e8",
            "placeholder": "​",
            "style": "IPY_MODEL_a5ecbe20605c4fb79634579483eceafd",
            "value": "Map: 100%"
          }
        },
        "d21dd5a34eb7424da0a86fac45468a5d": {
          "model_module": "@jupyter-widgets/controls",
          "model_name": "FloatProgressModel",
          "model_module_version": "1.5.0",
          "state": {
            "_dom_classes": [],
            "_model_module": "@jupyter-widgets/controls",
            "_model_module_version": "1.5.0",
            "_model_name": "FloatProgressModel",
            "_view_count": null,
            "_view_module": "@jupyter-widgets/controls",
            "_view_module_version": "1.5.0",
            "_view_name": "ProgressView",
            "bar_style": "success",
            "description": "",
            "description_tooltip": null,
            "layout": "IPY_MODEL_e0a3a6d169cf400aa6d0b9ea2c3b5e36",
            "max": 9612,
            "min": 0,
            "orientation": "horizontal",
            "style": "IPY_MODEL_a93a3f9726e645619b8386b9e22de20d",
            "value": 9612
          }
        },
        "19b0be9a478c4345aed9570716ffcc07": {
          "model_module": "@jupyter-widgets/controls",
          "model_name": "HTMLModel",
          "model_module_version": "1.5.0",
          "state": {
            "_dom_classes": [],
            "_model_module": "@jupyter-widgets/controls",
            "_model_module_version": "1.5.0",
            "_model_name": "HTMLModel",
            "_view_count": null,
            "_view_module": "@jupyter-widgets/controls",
            "_view_module_version": "1.5.0",
            "_view_name": "HTMLView",
            "description": "",
            "description_tooltip": null,
            "layout": "IPY_MODEL_208aa23a516d47efaf2b1d8430997a7a",
            "placeholder": "​",
            "style": "IPY_MODEL_4f3034fe59224d508c291639e17b16c6",
            "value": " 9612/9612 [00:00&lt;00:00, 226578.97 examples/s]"
          }
        },
        "b25359d90edb416e9549aa8c8ca71532": {
          "model_module": "@jupyter-widgets/base",
          "model_name": "LayoutModel",
          "model_module_version": "1.2.0",
          "state": {
            "_model_module": "@jupyter-widgets/base",
            "_model_module_version": "1.2.0",
            "_model_name": "LayoutModel",
            "_view_count": null,
            "_view_module": "@jupyter-widgets/base",
            "_view_module_version": "1.2.0",
            "_view_name": "LayoutView",
            "align_content": null,
            "align_items": null,
            "align_self": null,
            "border": null,
            "bottom": null,
            "display": null,
            "flex": null,
            "flex_flow": null,
            "grid_area": null,
            "grid_auto_columns": null,
            "grid_auto_flow": null,
            "grid_auto_rows": null,
            "grid_column": null,
            "grid_gap": null,
            "grid_row": null,
            "grid_template_areas": null,
            "grid_template_columns": null,
            "grid_template_rows": null,
            "height": null,
            "justify_content": null,
            "justify_items": null,
            "left": null,
            "margin": null,
            "max_height": null,
            "max_width": null,
            "min_height": null,
            "min_width": null,
            "object_fit": null,
            "object_position": null,
            "order": null,
            "overflow": null,
            "overflow_x": null,
            "overflow_y": null,
            "padding": null,
            "right": null,
            "top": null,
            "visibility": null,
            "width": null
          }
        },
        "8f9df44900aa4b7886e6fc147fc5e1e8": {
          "model_module": "@jupyter-widgets/base",
          "model_name": "LayoutModel",
          "model_module_version": "1.2.0",
          "state": {
            "_model_module": "@jupyter-widgets/base",
            "_model_module_version": "1.2.0",
            "_model_name": "LayoutModel",
            "_view_count": null,
            "_view_module": "@jupyter-widgets/base",
            "_view_module_version": "1.2.0",
            "_view_name": "LayoutView",
            "align_content": null,
            "align_items": null,
            "align_self": null,
            "border": null,
            "bottom": null,
            "display": null,
            "flex": null,
            "flex_flow": null,
            "grid_area": null,
            "grid_auto_columns": null,
            "grid_auto_flow": null,
            "grid_auto_rows": null,
            "grid_column": null,
            "grid_gap": null,
            "grid_row": null,
            "grid_template_areas": null,
            "grid_template_columns": null,
            "grid_template_rows": null,
            "height": null,
            "justify_content": null,
            "justify_items": null,
            "left": null,
            "margin": null,
            "max_height": null,
            "max_width": null,
            "min_height": null,
            "min_width": null,
            "object_fit": null,
            "object_position": null,
            "order": null,
            "overflow": null,
            "overflow_x": null,
            "overflow_y": null,
            "padding": null,
            "right": null,
            "top": null,
            "visibility": null,
            "width": null
          }
        },
        "a5ecbe20605c4fb79634579483eceafd": {
          "model_module": "@jupyter-widgets/controls",
          "model_name": "DescriptionStyleModel",
          "model_module_version": "1.5.0",
          "state": {
            "_model_module": "@jupyter-widgets/controls",
            "_model_module_version": "1.5.0",
            "_model_name": "DescriptionStyleModel",
            "_view_count": null,
            "_view_module": "@jupyter-widgets/base",
            "_view_module_version": "1.2.0",
            "_view_name": "StyleView",
            "description_width": ""
          }
        },
        "e0a3a6d169cf400aa6d0b9ea2c3b5e36": {
          "model_module": "@jupyter-widgets/base",
          "model_name": "LayoutModel",
          "model_module_version": "1.2.0",
          "state": {
            "_model_module": "@jupyter-widgets/base",
            "_model_module_version": "1.2.0",
            "_model_name": "LayoutModel",
            "_view_count": null,
            "_view_module": "@jupyter-widgets/base",
            "_view_module_version": "1.2.0",
            "_view_name": "LayoutView",
            "align_content": null,
            "align_items": null,
            "align_self": null,
            "border": null,
            "bottom": null,
            "display": null,
            "flex": null,
            "flex_flow": null,
            "grid_area": null,
            "grid_auto_columns": null,
            "grid_auto_flow": null,
            "grid_auto_rows": null,
            "grid_column": null,
            "grid_gap": null,
            "grid_row": null,
            "grid_template_areas": null,
            "grid_template_columns": null,
            "grid_template_rows": null,
            "height": null,
            "justify_content": null,
            "justify_items": null,
            "left": null,
            "margin": null,
            "max_height": null,
            "max_width": null,
            "min_height": null,
            "min_width": null,
            "object_fit": null,
            "object_position": null,
            "order": null,
            "overflow": null,
            "overflow_x": null,
            "overflow_y": null,
            "padding": null,
            "right": null,
            "top": null,
            "visibility": null,
            "width": null
          }
        },
        "a93a3f9726e645619b8386b9e22de20d": {
          "model_module": "@jupyter-widgets/controls",
          "model_name": "ProgressStyleModel",
          "model_module_version": "1.5.0",
          "state": {
            "_model_module": "@jupyter-widgets/controls",
            "_model_module_version": "1.5.0",
            "_model_name": "ProgressStyleModel",
            "_view_count": null,
            "_view_module": "@jupyter-widgets/base",
            "_view_module_version": "1.2.0",
            "_view_name": "StyleView",
            "bar_color": null,
            "description_width": ""
          }
        },
        "208aa23a516d47efaf2b1d8430997a7a": {
          "model_module": "@jupyter-widgets/base",
          "model_name": "LayoutModel",
          "model_module_version": "1.2.0",
          "state": {
            "_model_module": "@jupyter-widgets/base",
            "_model_module_version": "1.2.0",
            "_model_name": "LayoutModel",
            "_view_count": null,
            "_view_module": "@jupyter-widgets/base",
            "_view_module_version": "1.2.0",
            "_view_name": "LayoutView",
            "align_content": null,
            "align_items": null,
            "align_self": null,
            "border": null,
            "bottom": null,
            "display": null,
            "flex": null,
            "flex_flow": null,
            "grid_area": null,
            "grid_auto_columns": null,
            "grid_auto_flow": null,
            "grid_auto_rows": null,
            "grid_column": null,
            "grid_gap": null,
            "grid_row": null,
            "grid_template_areas": null,
            "grid_template_columns": null,
            "grid_template_rows": null,
            "height": null,
            "justify_content": null,
            "justify_items": null,
            "left": null,
            "margin": null,
            "max_height": null,
            "max_width": null,
            "min_height": null,
            "min_width": null,
            "object_fit": null,
            "object_position": null,
            "order": null,
            "overflow": null,
            "overflow_x": null,
            "overflow_y": null,
            "padding": null,
            "right": null,
            "top": null,
            "visibility": null,
            "width": null
          }
        },
        "4f3034fe59224d508c291639e17b16c6": {
          "model_module": "@jupyter-widgets/controls",
          "model_name": "DescriptionStyleModel",
          "model_module_version": "1.5.0",
          "state": {
            "_model_module": "@jupyter-widgets/controls",
            "_model_module_version": "1.5.0",
            "_model_name": "DescriptionStyleModel",
            "_view_count": null,
            "_view_module": "@jupyter-widgets/base",
            "_view_module_version": "1.2.0",
            "_view_name": "StyleView",
            "description_width": ""
          }
        },
        "c789bb9b89e84b1ab6732966a13a9e62": {
          "model_module": "@jupyter-widgets/controls",
          "model_name": "HBoxModel",
          "model_module_version": "1.5.0",
          "state": {
            "_dom_classes": [],
            "_model_module": "@jupyter-widgets/controls",
            "_model_module_version": "1.5.0",
            "_model_name": "HBoxModel",
            "_view_count": null,
            "_view_module": "@jupyter-widgets/controls",
            "_view_module_version": "1.5.0",
            "_view_name": "HBoxView",
            "box_style": "",
            "children": [
              "IPY_MODEL_727fedc3264a42c4bd3597af86f07ef2",
              "IPY_MODEL_7b110496caf14a808356c28765886796",
              "IPY_MODEL_f84b0deec1d14252b01c703e76ee1840"
            ],
            "layout": "IPY_MODEL_c044fd24e11f44e789a4cdebfa9222e6"
          }
        },
        "727fedc3264a42c4bd3597af86f07ef2": {
          "model_module": "@jupyter-widgets/controls",
          "model_name": "HTMLModel",
          "model_module_version": "1.5.0",
          "state": {
            "_dom_classes": [],
            "_model_module": "@jupyter-widgets/controls",
            "_model_module_version": "1.5.0",
            "_model_name": "HTMLModel",
            "_view_count": null,
            "_view_module": "@jupyter-widgets/controls",
            "_view_module_version": "1.5.0",
            "_view_name": "HTMLView",
            "description": "",
            "description_tooltip": null,
            "layout": "IPY_MODEL_d99f13bb13f5471489bc986f00ebf8de",
            "placeholder": "​",
            "style": "IPY_MODEL_13a2d999b6f841a58724066eadc932a2",
            "value": "Map: 100%"
          }
        },
        "7b110496caf14a808356c28765886796": {
          "model_module": "@jupyter-widgets/controls",
          "model_name": "FloatProgressModel",
          "model_module_version": "1.5.0",
          "state": {
            "_dom_classes": [],
            "_model_module": "@jupyter-widgets/controls",
            "_model_module_version": "1.5.0",
            "_model_name": "FloatProgressModel",
            "_view_count": null,
            "_view_module": "@jupyter-widgets/controls",
            "_view_module_version": "1.5.0",
            "_view_name": "ProgressView",
            "bar_style": "success",
            "description": "",
            "description_tooltip": null,
            "layout": "IPY_MODEL_7a2793c977d9478298cccd0b23b8e212",
            "max": 2410,
            "min": 0,
            "orientation": "horizontal",
            "style": "IPY_MODEL_6a46047dd6db431482e0052a0dabdd0b",
            "value": 2410
          }
        },
        "f84b0deec1d14252b01c703e76ee1840": {
          "model_module": "@jupyter-widgets/controls",
          "model_name": "HTMLModel",
          "model_module_version": "1.5.0",
          "state": {
            "_dom_classes": [],
            "_model_module": "@jupyter-widgets/controls",
            "_model_module_version": "1.5.0",
            "_model_name": "HTMLModel",
            "_view_count": null,
            "_view_module": "@jupyter-widgets/controls",
            "_view_module_version": "1.5.0",
            "_view_name": "HTMLView",
            "description": "",
            "description_tooltip": null,
            "layout": "IPY_MODEL_60d0d1280acf493686bc4578636a5ffb",
            "placeholder": "​",
            "style": "IPY_MODEL_75fd78b1f2b845e09afb57f6d59d342d",
            "value": " 2410/2410 [00:00&lt;00:00, 115916.57 examples/s]"
          }
        },
        "c044fd24e11f44e789a4cdebfa9222e6": {
          "model_module": "@jupyter-widgets/base",
          "model_name": "LayoutModel",
          "model_module_version": "1.2.0",
          "state": {
            "_model_module": "@jupyter-widgets/base",
            "_model_module_version": "1.2.0",
            "_model_name": "LayoutModel",
            "_view_count": null,
            "_view_module": "@jupyter-widgets/base",
            "_view_module_version": "1.2.0",
            "_view_name": "LayoutView",
            "align_content": null,
            "align_items": null,
            "align_self": null,
            "border": null,
            "bottom": null,
            "display": null,
            "flex": null,
            "flex_flow": null,
            "grid_area": null,
            "grid_auto_columns": null,
            "grid_auto_flow": null,
            "grid_auto_rows": null,
            "grid_column": null,
            "grid_gap": null,
            "grid_row": null,
            "grid_template_areas": null,
            "grid_template_columns": null,
            "grid_template_rows": null,
            "height": null,
            "justify_content": null,
            "justify_items": null,
            "left": null,
            "margin": null,
            "max_height": null,
            "max_width": null,
            "min_height": null,
            "min_width": null,
            "object_fit": null,
            "object_position": null,
            "order": null,
            "overflow": null,
            "overflow_x": null,
            "overflow_y": null,
            "padding": null,
            "right": null,
            "top": null,
            "visibility": null,
            "width": null
          }
        },
        "d99f13bb13f5471489bc986f00ebf8de": {
          "model_module": "@jupyter-widgets/base",
          "model_name": "LayoutModel",
          "model_module_version": "1.2.0",
          "state": {
            "_model_module": "@jupyter-widgets/base",
            "_model_module_version": "1.2.0",
            "_model_name": "LayoutModel",
            "_view_count": null,
            "_view_module": "@jupyter-widgets/base",
            "_view_module_version": "1.2.0",
            "_view_name": "LayoutView",
            "align_content": null,
            "align_items": null,
            "align_self": null,
            "border": null,
            "bottom": null,
            "display": null,
            "flex": null,
            "flex_flow": null,
            "grid_area": null,
            "grid_auto_columns": null,
            "grid_auto_flow": null,
            "grid_auto_rows": null,
            "grid_column": null,
            "grid_gap": null,
            "grid_row": null,
            "grid_template_areas": null,
            "grid_template_columns": null,
            "grid_template_rows": null,
            "height": null,
            "justify_content": null,
            "justify_items": null,
            "left": null,
            "margin": null,
            "max_height": null,
            "max_width": null,
            "min_height": null,
            "min_width": null,
            "object_fit": null,
            "object_position": null,
            "order": null,
            "overflow": null,
            "overflow_x": null,
            "overflow_y": null,
            "padding": null,
            "right": null,
            "top": null,
            "visibility": null,
            "width": null
          }
        },
        "13a2d999b6f841a58724066eadc932a2": {
          "model_module": "@jupyter-widgets/controls",
          "model_name": "DescriptionStyleModel",
          "model_module_version": "1.5.0",
          "state": {
            "_model_module": "@jupyter-widgets/controls",
            "_model_module_version": "1.5.0",
            "_model_name": "DescriptionStyleModel",
            "_view_count": null,
            "_view_module": "@jupyter-widgets/base",
            "_view_module_version": "1.2.0",
            "_view_name": "StyleView",
            "description_width": ""
          }
        },
        "7a2793c977d9478298cccd0b23b8e212": {
          "model_module": "@jupyter-widgets/base",
          "model_name": "LayoutModel",
          "model_module_version": "1.2.0",
          "state": {
            "_model_module": "@jupyter-widgets/base",
            "_model_module_version": "1.2.0",
            "_model_name": "LayoutModel",
            "_view_count": null,
            "_view_module": "@jupyter-widgets/base",
            "_view_module_version": "1.2.0",
            "_view_name": "LayoutView",
            "align_content": null,
            "align_items": null,
            "align_self": null,
            "border": null,
            "bottom": null,
            "display": null,
            "flex": null,
            "flex_flow": null,
            "grid_area": null,
            "grid_auto_columns": null,
            "grid_auto_flow": null,
            "grid_auto_rows": null,
            "grid_column": null,
            "grid_gap": null,
            "grid_row": null,
            "grid_template_areas": null,
            "grid_template_columns": null,
            "grid_template_rows": null,
            "height": null,
            "justify_content": null,
            "justify_items": null,
            "left": null,
            "margin": null,
            "max_height": null,
            "max_width": null,
            "min_height": null,
            "min_width": null,
            "object_fit": null,
            "object_position": null,
            "order": null,
            "overflow": null,
            "overflow_x": null,
            "overflow_y": null,
            "padding": null,
            "right": null,
            "top": null,
            "visibility": null,
            "width": null
          }
        },
        "6a46047dd6db431482e0052a0dabdd0b": {
          "model_module": "@jupyter-widgets/controls",
          "model_name": "ProgressStyleModel",
          "model_module_version": "1.5.0",
          "state": {
            "_model_module": "@jupyter-widgets/controls",
            "_model_module_version": "1.5.0",
            "_model_name": "ProgressStyleModel",
            "_view_count": null,
            "_view_module": "@jupyter-widgets/base",
            "_view_module_version": "1.2.0",
            "_view_name": "StyleView",
            "bar_color": null,
            "description_width": ""
          }
        },
        "60d0d1280acf493686bc4578636a5ffb": {
          "model_module": "@jupyter-widgets/base",
          "model_name": "LayoutModel",
          "model_module_version": "1.2.0",
          "state": {
            "_model_module": "@jupyter-widgets/base",
            "_model_module_version": "1.2.0",
            "_model_name": "LayoutModel",
            "_view_count": null,
            "_view_module": "@jupyter-widgets/base",
            "_view_module_version": "1.2.0",
            "_view_name": "LayoutView",
            "align_content": null,
            "align_items": null,
            "align_self": null,
            "border": null,
            "bottom": null,
            "display": null,
            "flex": null,
            "flex_flow": null,
            "grid_area": null,
            "grid_auto_columns": null,
            "grid_auto_flow": null,
            "grid_auto_rows": null,
            "grid_column": null,
            "grid_gap": null,
            "grid_row": null,
            "grid_template_areas": null,
            "grid_template_columns": null,
            "grid_template_rows": null,
            "height": null,
            "justify_content": null,
            "justify_items": null,
            "left": null,
            "margin": null,
            "max_height": null,
            "max_width": null,
            "min_height": null,
            "min_width": null,
            "object_fit": null,
            "object_position": null,
            "order": null,
            "overflow": null,
            "overflow_x": null,
            "overflow_y": null,
            "padding": null,
            "right": null,
            "top": null,
            "visibility": null,
            "width": null
          }
        },
        "75fd78b1f2b845e09afb57f6d59d342d": {
          "model_module": "@jupyter-widgets/controls",
          "model_name": "DescriptionStyleModel",
          "model_module_version": "1.5.0",
          "state": {
            "_model_module": "@jupyter-widgets/controls",
            "_model_module_version": "1.5.0",
            "_model_name": "DescriptionStyleModel",
            "_view_count": null,
            "_view_module": "@jupyter-widgets/base",
            "_view_module_version": "1.2.0",
            "_view_name": "StyleView",
            "description_width": ""
          }
        },
        "3b0dc83b2ab541ecb422f33f9a991ba2": {
          "model_module": "@jupyter-widgets/controls",
          "model_name": "HBoxModel",
          "model_module_version": "1.5.0",
          "state": {
            "_dom_classes": [],
            "_model_module": "@jupyter-widgets/controls",
            "_model_module_version": "1.5.0",
            "_model_name": "HBoxModel",
            "_view_count": null,
            "_view_module": "@jupyter-widgets/controls",
            "_view_module_version": "1.5.0",
            "_view_name": "HBoxView",
            "box_style": "",
            "children": [
              "IPY_MODEL_7bbba11251cd4f1cbc8e43a30ffd4afc",
              "IPY_MODEL_c42406acfdf3484c837868da39a4fc32",
              "IPY_MODEL_7dcebc1568d94e5e86fd7bb7516731f5"
            ],
            "layout": "IPY_MODEL_0e7395a9dc174e9a848f437eaaa6b881"
          }
        },
        "7bbba11251cd4f1cbc8e43a30ffd4afc": {
          "model_module": "@jupyter-widgets/controls",
          "model_name": "HTMLModel",
          "model_module_version": "1.5.0",
          "state": {
            "_dom_classes": [],
            "_model_module": "@jupyter-widgets/controls",
            "_model_module_version": "1.5.0",
            "_model_name": "HTMLModel",
            "_view_count": null,
            "_view_module": "@jupyter-widgets/controls",
            "_view_module_version": "1.5.0",
            "_view_name": "HTMLView",
            "description": "",
            "description_tooltip": null,
            "layout": "IPY_MODEL_dbd92c9a91c64f9287ffd84e96380d57",
            "placeholder": "​",
            "style": "IPY_MODEL_38d92a200aa04e3a916220a9de9029ac",
            "value": "tokenizer_config.json: 100%"
          }
        },
        "c42406acfdf3484c837868da39a4fc32": {
          "model_module": "@jupyter-widgets/controls",
          "model_name": "FloatProgressModel",
          "model_module_version": "1.5.0",
          "state": {
            "_dom_classes": [],
            "_model_module": "@jupyter-widgets/controls",
            "_model_module_version": "1.5.0",
            "_model_name": "FloatProgressModel",
            "_view_count": null,
            "_view_module": "@jupyter-widgets/controls",
            "_view_module_version": "1.5.0",
            "_view_name": "ProgressView",
            "bar_style": "success",
            "description": "",
            "description_tooltip": null,
            "layout": "IPY_MODEL_0340daf97ba7408fa1cdeff0ef74ebd2",
            "max": 49,
            "min": 0,
            "orientation": "horizontal",
            "style": "IPY_MODEL_4f33d2e7abea416d8294b0592c5dc2b6",
            "value": 49
          }
        },
        "7dcebc1568d94e5e86fd7bb7516731f5": {
          "model_module": "@jupyter-widgets/controls",
          "model_name": "HTMLModel",
          "model_module_version": "1.5.0",
          "state": {
            "_dom_classes": [],
            "_model_module": "@jupyter-widgets/controls",
            "_model_module_version": "1.5.0",
            "_model_name": "HTMLModel",
            "_view_count": null,
            "_view_module": "@jupyter-widgets/controls",
            "_view_module_version": "1.5.0",
            "_view_name": "HTMLView",
            "description": "",
            "description_tooltip": null,
            "layout": "IPY_MODEL_56b1e7a9c7f6450493008ce05a6362d1",
            "placeholder": "​",
            "style": "IPY_MODEL_84e15c0386b741939d29a15012fb7dd6",
            "value": " 49.0/49.0 [00:00&lt;00:00, 3.97kB/s]"
          }
        },
        "0e7395a9dc174e9a848f437eaaa6b881": {
          "model_module": "@jupyter-widgets/base",
          "model_name": "LayoutModel",
          "model_module_version": "1.2.0",
          "state": {
            "_model_module": "@jupyter-widgets/base",
            "_model_module_version": "1.2.0",
            "_model_name": "LayoutModel",
            "_view_count": null,
            "_view_module": "@jupyter-widgets/base",
            "_view_module_version": "1.2.0",
            "_view_name": "LayoutView",
            "align_content": null,
            "align_items": null,
            "align_self": null,
            "border": null,
            "bottom": null,
            "display": null,
            "flex": null,
            "flex_flow": null,
            "grid_area": null,
            "grid_auto_columns": null,
            "grid_auto_flow": null,
            "grid_auto_rows": null,
            "grid_column": null,
            "grid_gap": null,
            "grid_row": null,
            "grid_template_areas": null,
            "grid_template_columns": null,
            "grid_template_rows": null,
            "height": null,
            "justify_content": null,
            "justify_items": null,
            "left": null,
            "margin": null,
            "max_height": null,
            "max_width": null,
            "min_height": null,
            "min_width": null,
            "object_fit": null,
            "object_position": null,
            "order": null,
            "overflow": null,
            "overflow_x": null,
            "overflow_y": null,
            "padding": null,
            "right": null,
            "top": null,
            "visibility": null,
            "width": null
          }
        },
        "dbd92c9a91c64f9287ffd84e96380d57": {
          "model_module": "@jupyter-widgets/base",
          "model_name": "LayoutModel",
          "model_module_version": "1.2.0",
          "state": {
            "_model_module": "@jupyter-widgets/base",
            "_model_module_version": "1.2.0",
            "_model_name": "LayoutModel",
            "_view_count": null,
            "_view_module": "@jupyter-widgets/base",
            "_view_module_version": "1.2.0",
            "_view_name": "LayoutView",
            "align_content": null,
            "align_items": null,
            "align_self": null,
            "border": null,
            "bottom": null,
            "display": null,
            "flex": null,
            "flex_flow": null,
            "grid_area": null,
            "grid_auto_columns": null,
            "grid_auto_flow": null,
            "grid_auto_rows": null,
            "grid_column": null,
            "grid_gap": null,
            "grid_row": null,
            "grid_template_areas": null,
            "grid_template_columns": null,
            "grid_template_rows": null,
            "height": null,
            "justify_content": null,
            "justify_items": null,
            "left": null,
            "margin": null,
            "max_height": null,
            "max_width": null,
            "min_height": null,
            "min_width": null,
            "object_fit": null,
            "object_position": null,
            "order": null,
            "overflow": null,
            "overflow_x": null,
            "overflow_y": null,
            "padding": null,
            "right": null,
            "top": null,
            "visibility": null,
            "width": null
          }
        },
        "38d92a200aa04e3a916220a9de9029ac": {
          "model_module": "@jupyter-widgets/controls",
          "model_name": "DescriptionStyleModel",
          "model_module_version": "1.5.0",
          "state": {
            "_model_module": "@jupyter-widgets/controls",
            "_model_module_version": "1.5.0",
            "_model_name": "DescriptionStyleModel",
            "_view_count": null,
            "_view_module": "@jupyter-widgets/base",
            "_view_module_version": "1.2.0",
            "_view_name": "StyleView",
            "description_width": ""
          }
        },
        "0340daf97ba7408fa1cdeff0ef74ebd2": {
          "model_module": "@jupyter-widgets/base",
          "model_name": "LayoutModel",
          "model_module_version": "1.2.0",
          "state": {
            "_model_module": "@jupyter-widgets/base",
            "_model_module_version": "1.2.0",
            "_model_name": "LayoutModel",
            "_view_count": null,
            "_view_module": "@jupyter-widgets/base",
            "_view_module_version": "1.2.0",
            "_view_name": "LayoutView",
            "align_content": null,
            "align_items": null,
            "align_self": null,
            "border": null,
            "bottom": null,
            "display": null,
            "flex": null,
            "flex_flow": null,
            "grid_area": null,
            "grid_auto_columns": null,
            "grid_auto_flow": null,
            "grid_auto_rows": null,
            "grid_column": null,
            "grid_gap": null,
            "grid_row": null,
            "grid_template_areas": null,
            "grid_template_columns": null,
            "grid_template_rows": null,
            "height": null,
            "justify_content": null,
            "justify_items": null,
            "left": null,
            "margin": null,
            "max_height": null,
            "max_width": null,
            "min_height": null,
            "min_width": null,
            "object_fit": null,
            "object_position": null,
            "order": null,
            "overflow": null,
            "overflow_x": null,
            "overflow_y": null,
            "padding": null,
            "right": null,
            "top": null,
            "visibility": null,
            "width": null
          }
        },
        "4f33d2e7abea416d8294b0592c5dc2b6": {
          "model_module": "@jupyter-widgets/controls",
          "model_name": "ProgressStyleModel",
          "model_module_version": "1.5.0",
          "state": {
            "_model_module": "@jupyter-widgets/controls",
            "_model_module_version": "1.5.0",
            "_model_name": "ProgressStyleModel",
            "_view_count": null,
            "_view_module": "@jupyter-widgets/base",
            "_view_module_version": "1.2.0",
            "_view_name": "StyleView",
            "bar_color": null,
            "description_width": ""
          }
        },
        "56b1e7a9c7f6450493008ce05a6362d1": {
          "model_module": "@jupyter-widgets/base",
          "model_name": "LayoutModel",
          "model_module_version": "1.2.0",
          "state": {
            "_model_module": "@jupyter-widgets/base",
            "_model_module_version": "1.2.0",
            "_model_name": "LayoutModel",
            "_view_count": null,
            "_view_module": "@jupyter-widgets/base",
            "_view_module_version": "1.2.0",
            "_view_name": "LayoutView",
            "align_content": null,
            "align_items": null,
            "align_self": null,
            "border": null,
            "bottom": null,
            "display": null,
            "flex": null,
            "flex_flow": null,
            "grid_area": null,
            "grid_auto_columns": null,
            "grid_auto_flow": null,
            "grid_auto_rows": null,
            "grid_column": null,
            "grid_gap": null,
            "grid_row": null,
            "grid_template_areas": null,
            "grid_template_columns": null,
            "grid_template_rows": null,
            "height": null,
            "justify_content": null,
            "justify_items": null,
            "left": null,
            "margin": null,
            "max_height": null,
            "max_width": null,
            "min_height": null,
            "min_width": null,
            "object_fit": null,
            "object_position": null,
            "order": null,
            "overflow": null,
            "overflow_x": null,
            "overflow_y": null,
            "padding": null,
            "right": null,
            "top": null,
            "visibility": null,
            "width": null
          }
        },
        "84e15c0386b741939d29a15012fb7dd6": {
          "model_module": "@jupyter-widgets/controls",
          "model_name": "DescriptionStyleModel",
          "model_module_version": "1.5.0",
          "state": {
            "_model_module": "@jupyter-widgets/controls",
            "_model_module_version": "1.5.0",
            "_model_name": "DescriptionStyleModel",
            "_view_count": null,
            "_view_module": "@jupyter-widgets/base",
            "_view_module_version": "1.2.0",
            "_view_name": "StyleView",
            "description_width": ""
          }
        },
        "89e3ce33757b4ea7892b06da4f729f78": {
          "model_module": "@jupyter-widgets/controls",
          "model_name": "HBoxModel",
          "model_module_version": "1.5.0",
          "state": {
            "_dom_classes": [],
            "_model_module": "@jupyter-widgets/controls",
            "_model_module_version": "1.5.0",
            "_model_name": "HBoxModel",
            "_view_count": null,
            "_view_module": "@jupyter-widgets/controls",
            "_view_module_version": "1.5.0",
            "_view_name": "HBoxView",
            "box_style": "",
            "children": [
              "IPY_MODEL_bc39fc737d514440b202af2c5089f045",
              "IPY_MODEL_4241ff5d7b8c4ed3be2479ae5fc9f96b",
              "IPY_MODEL_211461cc0b424e42b9a3fc91e2f8987e"
            ],
            "layout": "IPY_MODEL_6776c593aa4e479d87bea971ad92e9d9"
          }
        },
        "bc39fc737d514440b202af2c5089f045": {
          "model_module": "@jupyter-widgets/controls",
          "model_name": "HTMLModel",
          "model_module_version": "1.5.0",
          "state": {
            "_dom_classes": [],
            "_model_module": "@jupyter-widgets/controls",
            "_model_module_version": "1.5.0",
            "_model_name": "HTMLModel",
            "_view_count": null,
            "_view_module": "@jupyter-widgets/controls",
            "_view_module_version": "1.5.0",
            "_view_name": "HTMLView",
            "description": "",
            "description_tooltip": null,
            "layout": "IPY_MODEL_0e7e730d455e4c0baedb87c229553860",
            "placeholder": "​",
            "style": "IPY_MODEL_78cbdee482a448b0a6923df15798b7be",
            "value": "config.json: 100%"
          }
        },
        "4241ff5d7b8c4ed3be2479ae5fc9f96b": {
          "model_module": "@jupyter-widgets/controls",
          "model_name": "FloatProgressModel",
          "model_module_version": "1.5.0",
          "state": {
            "_dom_classes": [],
            "_model_module": "@jupyter-widgets/controls",
            "_model_module_version": "1.5.0",
            "_model_name": "FloatProgressModel",
            "_view_count": null,
            "_view_module": "@jupyter-widgets/controls",
            "_view_module_version": "1.5.0",
            "_view_name": "ProgressView",
            "bar_style": "success",
            "description": "",
            "description_tooltip": null,
            "layout": "IPY_MODEL_919d057ec7be4f0da91f8296f5bec6dd",
            "max": 464,
            "min": 0,
            "orientation": "horizontal",
            "style": "IPY_MODEL_27cfb370a5fe478e9b05bf6dc8be93b8",
            "value": 464
          }
        },
        "211461cc0b424e42b9a3fc91e2f8987e": {
          "model_module": "@jupyter-widgets/controls",
          "model_name": "HTMLModel",
          "model_module_version": "1.5.0",
          "state": {
            "_dom_classes": [],
            "_model_module": "@jupyter-widgets/controls",
            "_model_module_version": "1.5.0",
            "_model_name": "HTMLModel",
            "_view_count": null,
            "_view_module": "@jupyter-widgets/controls",
            "_view_module_version": "1.5.0",
            "_view_name": "HTMLView",
            "description": "",
            "description_tooltip": null,
            "layout": "IPY_MODEL_a51654f52a3a432abf22079ef1ef656b",
            "placeholder": "​",
            "style": "IPY_MODEL_ed903d9439464fde80e25795364e6a97",
            "value": " 464/464 [00:00&lt;00:00, 33.1kB/s]"
          }
        },
        "6776c593aa4e479d87bea971ad92e9d9": {
          "model_module": "@jupyter-widgets/base",
          "model_name": "LayoutModel",
          "model_module_version": "1.2.0",
          "state": {
            "_model_module": "@jupyter-widgets/base",
            "_model_module_version": "1.2.0",
            "_model_name": "LayoutModel",
            "_view_count": null,
            "_view_module": "@jupyter-widgets/base",
            "_view_module_version": "1.2.0",
            "_view_name": "LayoutView",
            "align_content": null,
            "align_items": null,
            "align_self": null,
            "border": null,
            "bottom": null,
            "display": null,
            "flex": null,
            "flex_flow": null,
            "grid_area": null,
            "grid_auto_columns": null,
            "grid_auto_flow": null,
            "grid_auto_rows": null,
            "grid_column": null,
            "grid_gap": null,
            "grid_row": null,
            "grid_template_areas": null,
            "grid_template_columns": null,
            "grid_template_rows": null,
            "height": null,
            "justify_content": null,
            "justify_items": null,
            "left": null,
            "margin": null,
            "max_height": null,
            "max_width": null,
            "min_height": null,
            "min_width": null,
            "object_fit": null,
            "object_position": null,
            "order": null,
            "overflow": null,
            "overflow_x": null,
            "overflow_y": null,
            "padding": null,
            "right": null,
            "top": null,
            "visibility": null,
            "width": null
          }
        },
        "0e7e730d455e4c0baedb87c229553860": {
          "model_module": "@jupyter-widgets/base",
          "model_name": "LayoutModel",
          "model_module_version": "1.2.0",
          "state": {
            "_model_module": "@jupyter-widgets/base",
            "_model_module_version": "1.2.0",
            "_model_name": "LayoutModel",
            "_view_count": null,
            "_view_module": "@jupyter-widgets/base",
            "_view_module_version": "1.2.0",
            "_view_name": "LayoutView",
            "align_content": null,
            "align_items": null,
            "align_self": null,
            "border": null,
            "bottom": null,
            "display": null,
            "flex": null,
            "flex_flow": null,
            "grid_area": null,
            "grid_auto_columns": null,
            "grid_auto_flow": null,
            "grid_auto_rows": null,
            "grid_column": null,
            "grid_gap": null,
            "grid_row": null,
            "grid_template_areas": null,
            "grid_template_columns": null,
            "grid_template_rows": null,
            "height": null,
            "justify_content": null,
            "justify_items": null,
            "left": null,
            "margin": null,
            "max_height": null,
            "max_width": null,
            "min_height": null,
            "min_width": null,
            "object_fit": null,
            "object_position": null,
            "order": null,
            "overflow": null,
            "overflow_x": null,
            "overflow_y": null,
            "padding": null,
            "right": null,
            "top": null,
            "visibility": null,
            "width": null
          }
        },
        "78cbdee482a448b0a6923df15798b7be": {
          "model_module": "@jupyter-widgets/controls",
          "model_name": "DescriptionStyleModel",
          "model_module_version": "1.5.0",
          "state": {
            "_model_module": "@jupyter-widgets/controls",
            "_model_module_version": "1.5.0",
            "_model_name": "DescriptionStyleModel",
            "_view_count": null,
            "_view_module": "@jupyter-widgets/base",
            "_view_module_version": "1.2.0",
            "_view_name": "StyleView",
            "description_width": ""
          }
        },
        "919d057ec7be4f0da91f8296f5bec6dd": {
          "model_module": "@jupyter-widgets/base",
          "model_name": "LayoutModel",
          "model_module_version": "1.2.0",
          "state": {
            "_model_module": "@jupyter-widgets/base",
            "_model_module_version": "1.2.0",
            "_model_name": "LayoutModel",
            "_view_count": null,
            "_view_module": "@jupyter-widgets/base",
            "_view_module_version": "1.2.0",
            "_view_name": "LayoutView",
            "align_content": null,
            "align_items": null,
            "align_self": null,
            "border": null,
            "bottom": null,
            "display": null,
            "flex": null,
            "flex_flow": null,
            "grid_area": null,
            "grid_auto_columns": null,
            "grid_auto_flow": null,
            "grid_auto_rows": null,
            "grid_column": null,
            "grid_gap": null,
            "grid_row": null,
            "grid_template_areas": null,
            "grid_template_columns": null,
            "grid_template_rows": null,
            "height": null,
            "justify_content": null,
            "justify_items": null,
            "left": null,
            "margin": null,
            "max_height": null,
            "max_width": null,
            "min_height": null,
            "min_width": null,
            "object_fit": null,
            "object_position": null,
            "order": null,
            "overflow": null,
            "overflow_x": null,
            "overflow_y": null,
            "padding": null,
            "right": null,
            "top": null,
            "visibility": null,
            "width": null
          }
        },
        "27cfb370a5fe478e9b05bf6dc8be93b8": {
          "model_module": "@jupyter-widgets/controls",
          "model_name": "ProgressStyleModel",
          "model_module_version": "1.5.0",
          "state": {
            "_model_module": "@jupyter-widgets/controls",
            "_model_module_version": "1.5.0",
            "_model_name": "ProgressStyleModel",
            "_view_count": null,
            "_view_module": "@jupyter-widgets/base",
            "_view_module_version": "1.2.0",
            "_view_name": "StyleView",
            "bar_color": null,
            "description_width": ""
          }
        },
        "a51654f52a3a432abf22079ef1ef656b": {
          "model_module": "@jupyter-widgets/base",
          "model_name": "LayoutModel",
          "model_module_version": "1.2.0",
          "state": {
            "_model_module": "@jupyter-widgets/base",
            "_model_module_version": "1.2.0",
            "_model_name": "LayoutModel",
            "_view_count": null,
            "_view_module": "@jupyter-widgets/base",
            "_view_module_version": "1.2.0",
            "_view_name": "LayoutView",
            "align_content": null,
            "align_items": null,
            "align_self": null,
            "border": null,
            "bottom": null,
            "display": null,
            "flex": null,
            "flex_flow": null,
            "grid_area": null,
            "grid_auto_columns": null,
            "grid_auto_flow": null,
            "grid_auto_rows": null,
            "grid_column": null,
            "grid_gap": null,
            "grid_row": null,
            "grid_template_areas": null,
            "grid_template_columns": null,
            "grid_template_rows": null,
            "height": null,
            "justify_content": null,
            "justify_items": null,
            "left": null,
            "margin": null,
            "max_height": null,
            "max_width": null,
            "min_height": null,
            "min_width": null,
            "object_fit": null,
            "object_position": null,
            "order": null,
            "overflow": null,
            "overflow_x": null,
            "overflow_y": null,
            "padding": null,
            "right": null,
            "top": null,
            "visibility": null,
            "width": null
          }
        },
        "ed903d9439464fde80e25795364e6a97": {
          "model_module": "@jupyter-widgets/controls",
          "model_name": "DescriptionStyleModel",
          "model_module_version": "1.5.0",
          "state": {
            "_model_module": "@jupyter-widgets/controls",
            "_model_module_version": "1.5.0",
            "_model_name": "DescriptionStyleModel",
            "_view_count": null,
            "_view_module": "@jupyter-widgets/base",
            "_view_module_version": "1.2.0",
            "_view_name": "StyleView",
            "description_width": ""
          }
        },
        "49465b5874b04e8e947362baab5281b4": {
          "model_module": "@jupyter-widgets/controls",
          "model_name": "HBoxModel",
          "model_module_version": "1.5.0",
          "state": {
            "_dom_classes": [],
            "_model_module": "@jupyter-widgets/controls",
            "_model_module_version": "1.5.0",
            "_model_name": "HBoxModel",
            "_view_count": null,
            "_view_module": "@jupyter-widgets/controls",
            "_view_module_version": "1.5.0",
            "_view_name": "HBoxView",
            "box_style": "",
            "children": [
              "IPY_MODEL_996229b83e3f4dbdbf6b1cd1a19f2551",
              "IPY_MODEL_9dd7c45e8c3d4d40a98a0d35eca985c9",
              "IPY_MODEL_1664f88e50a4425280cb603a11959c5e"
            ],
            "layout": "IPY_MODEL_6792587bbd3147399e2fb0fd0834c4a8"
          }
        },
        "996229b83e3f4dbdbf6b1cd1a19f2551": {
          "model_module": "@jupyter-widgets/controls",
          "model_name": "HTMLModel",
          "model_module_version": "1.5.0",
          "state": {
            "_dom_classes": [],
            "_model_module": "@jupyter-widgets/controls",
            "_model_module_version": "1.5.0",
            "_model_name": "HTMLModel",
            "_view_count": null,
            "_view_module": "@jupyter-widgets/controls",
            "_view_module_version": "1.5.0",
            "_view_name": "HTMLView",
            "description": "",
            "description_tooltip": null,
            "layout": "IPY_MODEL_34f221da2b6c4818b7e364d99407d9cd",
            "placeholder": "​",
            "style": "IPY_MODEL_262cebdd3cd247a1a3036ff3f413ca3b",
            "value": "vocab.txt: 100%"
          }
        },
        "9dd7c45e8c3d4d40a98a0d35eca985c9": {
          "model_module": "@jupyter-widgets/controls",
          "model_name": "FloatProgressModel",
          "model_module_version": "1.5.0",
          "state": {
            "_dom_classes": [],
            "_model_module": "@jupyter-widgets/controls",
            "_model_module_version": "1.5.0",
            "_model_name": "FloatProgressModel",
            "_view_count": null,
            "_view_module": "@jupyter-widgets/controls",
            "_view_module_version": "1.5.0",
            "_view_name": "ProgressView",
            "bar_style": "success",
            "description": "",
            "description_tooltip": null,
            "layout": "IPY_MODEL_dcd328f6b1134d34b3a5f82149a5a348",
            "max": 239836,
            "min": 0,
            "orientation": "horizontal",
            "style": "IPY_MODEL_5b68f7568f5f4ff696ed11e4eb5d25d1",
            "value": 239836
          }
        },
        "1664f88e50a4425280cb603a11959c5e": {
          "model_module": "@jupyter-widgets/controls",
          "model_name": "HTMLModel",
          "model_module_version": "1.5.0",
          "state": {
            "_dom_classes": [],
            "_model_module": "@jupyter-widgets/controls",
            "_model_module_version": "1.5.0",
            "_model_name": "HTMLModel",
            "_view_count": null,
            "_view_module": "@jupyter-widgets/controls",
            "_view_module_version": "1.5.0",
            "_view_name": "HTMLView",
            "description": "",
            "description_tooltip": null,
            "layout": "IPY_MODEL_83be95a9ed64454a81f59acb7dd6873e",
            "placeholder": "​",
            "style": "IPY_MODEL_f972de5f2d3a44c8859003922a82375a",
            "value": " 240k/240k [00:00&lt;00:00, 568kB/s]"
          }
        },
        "6792587bbd3147399e2fb0fd0834c4a8": {
          "model_module": "@jupyter-widgets/base",
          "model_name": "LayoutModel",
          "model_module_version": "1.2.0",
          "state": {
            "_model_module": "@jupyter-widgets/base",
            "_model_module_version": "1.2.0",
            "_model_name": "LayoutModel",
            "_view_count": null,
            "_view_module": "@jupyter-widgets/base",
            "_view_module_version": "1.2.0",
            "_view_name": "LayoutView",
            "align_content": null,
            "align_items": null,
            "align_self": null,
            "border": null,
            "bottom": null,
            "display": null,
            "flex": null,
            "flex_flow": null,
            "grid_area": null,
            "grid_auto_columns": null,
            "grid_auto_flow": null,
            "grid_auto_rows": null,
            "grid_column": null,
            "grid_gap": null,
            "grid_row": null,
            "grid_template_areas": null,
            "grid_template_columns": null,
            "grid_template_rows": null,
            "height": null,
            "justify_content": null,
            "justify_items": null,
            "left": null,
            "margin": null,
            "max_height": null,
            "max_width": null,
            "min_height": null,
            "min_width": null,
            "object_fit": null,
            "object_position": null,
            "order": null,
            "overflow": null,
            "overflow_x": null,
            "overflow_y": null,
            "padding": null,
            "right": null,
            "top": null,
            "visibility": null,
            "width": null
          }
        },
        "34f221da2b6c4818b7e364d99407d9cd": {
          "model_module": "@jupyter-widgets/base",
          "model_name": "LayoutModel",
          "model_module_version": "1.2.0",
          "state": {
            "_model_module": "@jupyter-widgets/base",
            "_model_module_version": "1.2.0",
            "_model_name": "LayoutModel",
            "_view_count": null,
            "_view_module": "@jupyter-widgets/base",
            "_view_module_version": "1.2.0",
            "_view_name": "LayoutView",
            "align_content": null,
            "align_items": null,
            "align_self": null,
            "border": null,
            "bottom": null,
            "display": null,
            "flex": null,
            "flex_flow": null,
            "grid_area": null,
            "grid_auto_columns": null,
            "grid_auto_flow": null,
            "grid_auto_rows": null,
            "grid_column": null,
            "grid_gap": null,
            "grid_row": null,
            "grid_template_areas": null,
            "grid_template_columns": null,
            "grid_template_rows": null,
            "height": null,
            "justify_content": null,
            "justify_items": null,
            "left": null,
            "margin": null,
            "max_height": null,
            "max_width": null,
            "min_height": null,
            "min_width": null,
            "object_fit": null,
            "object_position": null,
            "order": null,
            "overflow": null,
            "overflow_x": null,
            "overflow_y": null,
            "padding": null,
            "right": null,
            "top": null,
            "visibility": null,
            "width": null
          }
        },
        "262cebdd3cd247a1a3036ff3f413ca3b": {
          "model_module": "@jupyter-widgets/controls",
          "model_name": "DescriptionStyleModel",
          "model_module_version": "1.5.0",
          "state": {
            "_model_module": "@jupyter-widgets/controls",
            "_model_module_version": "1.5.0",
            "_model_name": "DescriptionStyleModel",
            "_view_count": null,
            "_view_module": "@jupyter-widgets/base",
            "_view_module_version": "1.2.0",
            "_view_name": "StyleView",
            "description_width": ""
          }
        },
        "dcd328f6b1134d34b3a5f82149a5a348": {
          "model_module": "@jupyter-widgets/base",
          "model_name": "LayoutModel",
          "model_module_version": "1.2.0",
          "state": {
            "_model_module": "@jupyter-widgets/base",
            "_model_module_version": "1.2.0",
            "_model_name": "LayoutModel",
            "_view_count": null,
            "_view_module": "@jupyter-widgets/base",
            "_view_module_version": "1.2.0",
            "_view_name": "LayoutView",
            "align_content": null,
            "align_items": null,
            "align_self": null,
            "border": null,
            "bottom": null,
            "display": null,
            "flex": null,
            "flex_flow": null,
            "grid_area": null,
            "grid_auto_columns": null,
            "grid_auto_flow": null,
            "grid_auto_rows": null,
            "grid_column": null,
            "grid_gap": null,
            "grid_row": null,
            "grid_template_areas": null,
            "grid_template_columns": null,
            "grid_template_rows": null,
            "height": null,
            "justify_content": null,
            "justify_items": null,
            "left": null,
            "margin": null,
            "max_height": null,
            "max_width": null,
            "min_height": null,
            "min_width": null,
            "object_fit": null,
            "object_position": null,
            "order": null,
            "overflow": null,
            "overflow_x": null,
            "overflow_y": null,
            "padding": null,
            "right": null,
            "top": null,
            "visibility": null,
            "width": null
          }
        },
        "5b68f7568f5f4ff696ed11e4eb5d25d1": {
          "model_module": "@jupyter-widgets/controls",
          "model_name": "ProgressStyleModel",
          "model_module_version": "1.5.0",
          "state": {
            "_model_module": "@jupyter-widgets/controls",
            "_model_module_version": "1.5.0",
            "_model_name": "ProgressStyleModel",
            "_view_count": null,
            "_view_module": "@jupyter-widgets/base",
            "_view_module_version": "1.2.0",
            "_view_name": "StyleView",
            "bar_color": null,
            "description_width": ""
          }
        },
        "83be95a9ed64454a81f59acb7dd6873e": {
          "model_module": "@jupyter-widgets/base",
          "model_name": "LayoutModel",
          "model_module_version": "1.2.0",
          "state": {
            "_model_module": "@jupyter-widgets/base",
            "_model_module_version": "1.2.0",
            "_model_name": "LayoutModel",
            "_view_count": null,
            "_view_module": "@jupyter-widgets/base",
            "_view_module_version": "1.2.0",
            "_view_name": "LayoutView",
            "align_content": null,
            "align_items": null,
            "align_self": null,
            "border": null,
            "bottom": null,
            "display": null,
            "flex": null,
            "flex_flow": null,
            "grid_area": null,
            "grid_auto_columns": null,
            "grid_auto_flow": null,
            "grid_auto_rows": null,
            "grid_column": null,
            "grid_gap": null,
            "grid_row": null,
            "grid_template_areas": null,
            "grid_template_columns": null,
            "grid_template_rows": null,
            "height": null,
            "justify_content": null,
            "justify_items": null,
            "left": null,
            "margin": null,
            "max_height": null,
            "max_width": null,
            "min_height": null,
            "min_width": null,
            "object_fit": null,
            "object_position": null,
            "order": null,
            "overflow": null,
            "overflow_x": null,
            "overflow_y": null,
            "padding": null,
            "right": null,
            "top": null,
            "visibility": null,
            "width": null
          }
        },
        "f972de5f2d3a44c8859003922a82375a": {
          "model_module": "@jupyter-widgets/controls",
          "model_name": "DescriptionStyleModel",
          "model_module_version": "1.5.0",
          "state": {
            "_model_module": "@jupyter-widgets/controls",
            "_model_module_version": "1.5.0",
            "_model_name": "DescriptionStyleModel",
            "_view_count": null,
            "_view_module": "@jupyter-widgets/base",
            "_view_module_version": "1.2.0",
            "_view_name": "StyleView",
            "description_width": ""
          }
        },
        "9d688cf960be4684970a066eb0c03f9c": {
          "model_module": "@jupyter-widgets/controls",
          "model_name": "HBoxModel",
          "model_module_version": "1.5.0",
          "state": {
            "_dom_classes": [],
            "_model_module": "@jupyter-widgets/controls",
            "_model_module_version": "1.5.0",
            "_model_name": "HBoxModel",
            "_view_count": null,
            "_view_module": "@jupyter-widgets/controls",
            "_view_module_version": "1.5.0",
            "_view_name": "HBoxView",
            "box_style": "",
            "children": [
              "IPY_MODEL_4c98633f6ad24870a2310edbb335e051",
              "IPY_MODEL_ae312238d6394c65af6ef80f9929421a",
              "IPY_MODEL_2e0211a5868c41f292e48979a032d6ee"
            ],
            "layout": "IPY_MODEL_301e122b1ff84bb4a6e21ccce131cf89"
          }
        },
        "4c98633f6ad24870a2310edbb335e051": {
          "model_module": "@jupyter-widgets/controls",
          "model_name": "HTMLModel",
          "model_module_version": "1.5.0",
          "state": {
            "_dom_classes": [],
            "_model_module": "@jupyter-widgets/controls",
            "_model_module_version": "1.5.0",
            "_model_name": "HTMLModel",
            "_view_count": null,
            "_view_module": "@jupyter-widgets/controls",
            "_view_module_version": "1.5.0",
            "_view_name": "HTMLView",
            "description": "",
            "description_tooltip": null,
            "layout": "IPY_MODEL_3c741c4663ae4ab5a0ce23da90814ef0",
            "placeholder": "​",
            "style": "IPY_MODEL_0f8832c687ec4a7eb94875c2c9688f2a",
            "value": "tokenizer.json: 100%"
          }
        },
        "ae312238d6394c65af6ef80f9929421a": {
          "model_module": "@jupyter-widgets/controls",
          "model_name": "FloatProgressModel",
          "model_module_version": "1.5.0",
          "state": {
            "_dom_classes": [],
            "_model_module": "@jupyter-widgets/controls",
            "_model_module_version": "1.5.0",
            "_model_name": "FloatProgressModel",
            "_view_count": null,
            "_view_module": "@jupyter-widgets/controls",
            "_view_module_version": "1.5.0",
            "_view_name": "ProgressView",
            "bar_style": "success",
            "description": "",
            "description_tooltip": null,
            "layout": "IPY_MODEL_6cfe8561311a4c8386b19e152e827d1e",
            "max": 479086,
            "min": 0,
            "orientation": "horizontal",
            "style": "IPY_MODEL_79d8bfaaa9d04c45bd6e672e78bcf7d5",
            "value": 479086
          }
        },
        "2e0211a5868c41f292e48979a032d6ee": {
          "model_module": "@jupyter-widgets/controls",
          "model_name": "HTMLModel",
          "model_module_version": "1.5.0",
          "state": {
            "_dom_classes": [],
            "_model_module": "@jupyter-widgets/controls",
            "_model_module_version": "1.5.0",
            "_model_name": "HTMLModel",
            "_view_count": null,
            "_view_module": "@jupyter-widgets/controls",
            "_view_module_version": "1.5.0",
            "_view_name": "HTMLView",
            "description": "",
            "description_tooltip": null,
            "layout": "IPY_MODEL_b8787f36f49c4853baffb21a6deff6b9",
            "placeholder": "​",
            "style": "IPY_MODEL_af1515c1aeba429f8a978c4cffea844e",
            "value": " 479k/479k [00:00&lt;00:00, 1.14MB/s]"
          }
        },
        "301e122b1ff84bb4a6e21ccce131cf89": {
          "model_module": "@jupyter-widgets/base",
          "model_name": "LayoutModel",
          "model_module_version": "1.2.0",
          "state": {
            "_model_module": "@jupyter-widgets/base",
            "_model_module_version": "1.2.0",
            "_model_name": "LayoutModel",
            "_view_count": null,
            "_view_module": "@jupyter-widgets/base",
            "_view_module_version": "1.2.0",
            "_view_name": "LayoutView",
            "align_content": null,
            "align_items": null,
            "align_self": null,
            "border": null,
            "bottom": null,
            "display": null,
            "flex": null,
            "flex_flow": null,
            "grid_area": null,
            "grid_auto_columns": null,
            "grid_auto_flow": null,
            "grid_auto_rows": null,
            "grid_column": null,
            "grid_gap": null,
            "grid_row": null,
            "grid_template_areas": null,
            "grid_template_columns": null,
            "grid_template_rows": null,
            "height": null,
            "justify_content": null,
            "justify_items": null,
            "left": null,
            "margin": null,
            "max_height": null,
            "max_width": null,
            "min_height": null,
            "min_width": null,
            "object_fit": null,
            "object_position": null,
            "order": null,
            "overflow": null,
            "overflow_x": null,
            "overflow_y": null,
            "padding": null,
            "right": null,
            "top": null,
            "visibility": null,
            "width": null
          }
        },
        "3c741c4663ae4ab5a0ce23da90814ef0": {
          "model_module": "@jupyter-widgets/base",
          "model_name": "LayoutModel",
          "model_module_version": "1.2.0",
          "state": {
            "_model_module": "@jupyter-widgets/base",
            "_model_module_version": "1.2.0",
            "_model_name": "LayoutModel",
            "_view_count": null,
            "_view_module": "@jupyter-widgets/base",
            "_view_module_version": "1.2.0",
            "_view_name": "LayoutView",
            "align_content": null,
            "align_items": null,
            "align_self": null,
            "border": null,
            "bottom": null,
            "display": null,
            "flex": null,
            "flex_flow": null,
            "grid_area": null,
            "grid_auto_columns": null,
            "grid_auto_flow": null,
            "grid_auto_rows": null,
            "grid_column": null,
            "grid_gap": null,
            "grid_row": null,
            "grid_template_areas": null,
            "grid_template_columns": null,
            "grid_template_rows": null,
            "height": null,
            "justify_content": null,
            "justify_items": null,
            "left": null,
            "margin": null,
            "max_height": null,
            "max_width": null,
            "min_height": null,
            "min_width": null,
            "object_fit": null,
            "object_position": null,
            "order": null,
            "overflow": null,
            "overflow_x": null,
            "overflow_y": null,
            "padding": null,
            "right": null,
            "top": null,
            "visibility": null,
            "width": null
          }
        },
        "0f8832c687ec4a7eb94875c2c9688f2a": {
          "model_module": "@jupyter-widgets/controls",
          "model_name": "DescriptionStyleModel",
          "model_module_version": "1.5.0",
          "state": {
            "_model_module": "@jupyter-widgets/controls",
            "_model_module_version": "1.5.0",
            "_model_name": "DescriptionStyleModel",
            "_view_count": null,
            "_view_module": "@jupyter-widgets/base",
            "_view_module_version": "1.2.0",
            "_view_name": "StyleView",
            "description_width": ""
          }
        },
        "6cfe8561311a4c8386b19e152e827d1e": {
          "model_module": "@jupyter-widgets/base",
          "model_name": "LayoutModel",
          "model_module_version": "1.2.0",
          "state": {
            "_model_module": "@jupyter-widgets/base",
            "_model_module_version": "1.2.0",
            "_model_name": "LayoutModel",
            "_view_count": null,
            "_view_module": "@jupyter-widgets/base",
            "_view_module_version": "1.2.0",
            "_view_name": "LayoutView",
            "align_content": null,
            "align_items": null,
            "align_self": null,
            "border": null,
            "bottom": null,
            "display": null,
            "flex": null,
            "flex_flow": null,
            "grid_area": null,
            "grid_auto_columns": null,
            "grid_auto_flow": null,
            "grid_auto_rows": null,
            "grid_column": null,
            "grid_gap": null,
            "grid_row": null,
            "grid_template_areas": null,
            "grid_template_columns": null,
            "grid_template_rows": null,
            "height": null,
            "justify_content": null,
            "justify_items": null,
            "left": null,
            "margin": null,
            "max_height": null,
            "max_width": null,
            "min_height": null,
            "min_width": null,
            "object_fit": null,
            "object_position": null,
            "order": null,
            "overflow": null,
            "overflow_x": null,
            "overflow_y": null,
            "padding": null,
            "right": null,
            "top": null,
            "visibility": null,
            "width": null
          }
        },
        "79d8bfaaa9d04c45bd6e672e78bcf7d5": {
          "model_module": "@jupyter-widgets/controls",
          "model_name": "ProgressStyleModel",
          "model_module_version": "1.5.0",
          "state": {
            "_model_module": "@jupyter-widgets/controls",
            "_model_module_version": "1.5.0",
            "_model_name": "ProgressStyleModel",
            "_view_count": null,
            "_view_module": "@jupyter-widgets/base",
            "_view_module_version": "1.2.0",
            "_view_name": "StyleView",
            "bar_color": null,
            "description_width": ""
          }
        },
        "b8787f36f49c4853baffb21a6deff6b9": {
          "model_module": "@jupyter-widgets/base",
          "model_name": "LayoutModel",
          "model_module_version": "1.2.0",
          "state": {
            "_model_module": "@jupyter-widgets/base",
            "_model_module_version": "1.2.0",
            "_model_name": "LayoutModel",
            "_view_count": null,
            "_view_module": "@jupyter-widgets/base",
            "_view_module_version": "1.2.0",
            "_view_name": "LayoutView",
            "align_content": null,
            "align_items": null,
            "align_self": null,
            "border": null,
            "bottom": null,
            "display": null,
            "flex": null,
            "flex_flow": null,
            "grid_area": null,
            "grid_auto_columns": null,
            "grid_auto_flow": null,
            "grid_auto_rows": null,
            "grid_column": null,
            "grid_gap": null,
            "grid_row": null,
            "grid_template_areas": null,
            "grid_template_columns": null,
            "grid_template_rows": null,
            "height": null,
            "justify_content": null,
            "justify_items": null,
            "left": null,
            "margin": null,
            "max_height": null,
            "max_width": null,
            "min_height": null,
            "min_width": null,
            "object_fit": null,
            "object_position": null,
            "order": null,
            "overflow": null,
            "overflow_x": null,
            "overflow_y": null,
            "padding": null,
            "right": null,
            "top": null,
            "visibility": null,
            "width": null
          }
        },
        "af1515c1aeba429f8a978c4cffea844e": {
          "model_module": "@jupyter-widgets/controls",
          "model_name": "DescriptionStyleModel",
          "model_module_version": "1.5.0",
          "state": {
            "_model_module": "@jupyter-widgets/controls",
            "_model_module_version": "1.5.0",
            "_model_name": "DescriptionStyleModel",
            "_view_count": null,
            "_view_module": "@jupyter-widgets/base",
            "_view_module_version": "1.2.0",
            "_view_name": "StyleView",
            "description_width": ""
          }
        },
        "e298e1e31bd44525b6ab329cb450ab7e": {
          "model_module": "@jupyter-widgets/controls",
          "model_name": "HBoxModel",
          "model_module_version": "1.5.0",
          "state": {
            "_dom_classes": [],
            "_model_module": "@jupyter-widgets/controls",
            "_model_module_version": "1.5.0",
            "_model_name": "HBoxModel",
            "_view_count": null,
            "_view_module": "@jupyter-widgets/controls",
            "_view_module_version": "1.5.0",
            "_view_name": "HBoxView",
            "box_style": "",
            "children": [
              "IPY_MODEL_3cd00ef53a434856aa9d81ccb36d9dd2",
              "IPY_MODEL_8035f2e0a18349c8b88204baf432015f",
              "IPY_MODEL_5a067d4530184e22858dd35ecb9ccda7"
            ],
            "layout": "IPY_MODEL_670c8948da6f4ee1abeba7c931adeab4"
          }
        },
        "3cd00ef53a434856aa9d81ccb36d9dd2": {
          "model_module": "@jupyter-widgets/controls",
          "model_name": "HTMLModel",
          "model_module_version": "1.5.0",
          "state": {
            "_dom_classes": [],
            "_model_module": "@jupyter-widgets/controls",
            "_model_module_version": "1.5.0",
            "_model_name": "HTMLModel",
            "_view_count": null,
            "_view_module": "@jupyter-widgets/controls",
            "_view_module_version": "1.5.0",
            "_view_name": "HTMLView",
            "description": "",
            "description_tooltip": null,
            "layout": "IPY_MODEL_0db40f17fea34e1cabae73e6b7fb09ab",
            "placeholder": "​",
            "style": "IPY_MODEL_f6d67c6051fc4cd6aeaf81aa709e5331",
            "value": "Map: 100%"
          }
        },
        "8035f2e0a18349c8b88204baf432015f": {
          "model_module": "@jupyter-widgets/controls",
          "model_name": "FloatProgressModel",
          "model_module_version": "1.5.0",
          "state": {
            "_dom_classes": [],
            "_model_module": "@jupyter-widgets/controls",
            "_model_module_version": "1.5.0",
            "_model_name": "FloatProgressModel",
            "_view_count": null,
            "_view_module": "@jupyter-widgets/controls",
            "_view_module_version": "1.5.0",
            "_view_name": "ProgressView",
            "bar_style": "success",
            "description": "",
            "description_tooltip": null,
            "layout": "IPY_MODEL_744328d39e9f4df4be7434e61a8df57f",
            "max": 9612,
            "min": 0,
            "orientation": "horizontal",
            "style": "IPY_MODEL_8f1d0f5a19e5480bb78b92eee12f4bea",
            "value": 9612
          }
        },
        "5a067d4530184e22858dd35ecb9ccda7": {
          "model_module": "@jupyter-widgets/controls",
          "model_name": "HTMLModel",
          "model_module_version": "1.5.0",
          "state": {
            "_dom_classes": [],
            "_model_module": "@jupyter-widgets/controls",
            "_model_module_version": "1.5.0",
            "_model_name": "HTMLModel",
            "_view_count": null,
            "_view_module": "@jupyter-widgets/controls",
            "_view_module_version": "1.5.0",
            "_view_name": "HTMLView",
            "description": "",
            "description_tooltip": null,
            "layout": "IPY_MODEL_177edbc69d404b38b847fe034da87807",
            "placeholder": "​",
            "style": "IPY_MODEL_1a7e28c03bbe41f29b7f3149cb0a463f",
            "value": " 9612/9612 [00:01&lt;00:00, 8063.35 examples/s]"
          }
        },
        "670c8948da6f4ee1abeba7c931adeab4": {
          "model_module": "@jupyter-widgets/base",
          "model_name": "LayoutModel",
          "model_module_version": "1.2.0",
          "state": {
            "_model_module": "@jupyter-widgets/base",
            "_model_module_version": "1.2.0",
            "_model_name": "LayoutModel",
            "_view_count": null,
            "_view_module": "@jupyter-widgets/base",
            "_view_module_version": "1.2.0",
            "_view_name": "LayoutView",
            "align_content": null,
            "align_items": null,
            "align_self": null,
            "border": null,
            "bottom": null,
            "display": null,
            "flex": null,
            "flex_flow": null,
            "grid_area": null,
            "grid_auto_columns": null,
            "grid_auto_flow": null,
            "grid_auto_rows": null,
            "grid_column": null,
            "grid_gap": null,
            "grid_row": null,
            "grid_template_areas": null,
            "grid_template_columns": null,
            "grid_template_rows": null,
            "height": null,
            "justify_content": null,
            "justify_items": null,
            "left": null,
            "margin": null,
            "max_height": null,
            "max_width": null,
            "min_height": null,
            "min_width": null,
            "object_fit": null,
            "object_position": null,
            "order": null,
            "overflow": null,
            "overflow_x": null,
            "overflow_y": null,
            "padding": null,
            "right": null,
            "top": null,
            "visibility": null,
            "width": null
          }
        },
        "0db40f17fea34e1cabae73e6b7fb09ab": {
          "model_module": "@jupyter-widgets/base",
          "model_name": "LayoutModel",
          "model_module_version": "1.2.0",
          "state": {
            "_model_module": "@jupyter-widgets/base",
            "_model_module_version": "1.2.0",
            "_model_name": "LayoutModel",
            "_view_count": null,
            "_view_module": "@jupyter-widgets/base",
            "_view_module_version": "1.2.0",
            "_view_name": "LayoutView",
            "align_content": null,
            "align_items": null,
            "align_self": null,
            "border": null,
            "bottom": null,
            "display": null,
            "flex": null,
            "flex_flow": null,
            "grid_area": null,
            "grid_auto_columns": null,
            "grid_auto_flow": null,
            "grid_auto_rows": null,
            "grid_column": null,
            "grid_gap": null,
            "grid_row": null,
            "grid_template_areas": null,
            "grid_template_columns": null,
            "grid_template_rows": null,
            "height": null,
            "justify_content": null,
            "justify_items": null,
            "left": null,
            "margin": null,
            "max_height": null,
            "max_width": null,
            "min_height": null,
            "min_width": null,
            "object_fit": null,
            "object_position": null,
            "order": null,
            "overflow": null,
            "overflow_x": null,
            "overflow_y": null,
            "padding": null,
            "right": null,
            "top": null,
            "visibility": null,
            "width": null
          }
        },
        "f6d67c6051fc4cd6aeaf81aa709e5331": {
          "model_module": "@jupyter-widgets/controls",
          "model_name": "DescriptionStyleModel",
          "model_module_version": "1.5.0",
          "state": {
            "_model_module": "@jupyter-widgets/controls",
            "_model_module_version": "1.5.0",
            "_model_name": "DescriptionStyleModel",
            "_view_count": null,
            "_view_module": "@jupyter-widgets/base",
            "_view_module_version": "1.2.0",
            "_view_name": "StyleView",
            "description_width": ""
          }
        },
        "744328d39e9f4df4be7434e61a8df57f": {
          "model_module": "@jupyter-widgets/base",
          "model_name": "LayoutModel",
          "model_module_version": "1.2.0",
          "state": {
            "_model_module": "@jupyter-widgets/base",
            "_model_module_version": "1.2.0",
            "_model_name": "LayoutModel",
            "_view_count": null,
            "_view_module": "@jupyter-widgets/base",
            "_view_module_version": "1.2.0",
            "_view_name": "LayoutView",
            "align_content": null,
            "align_items": null,
            "align_self": null,
            "border": null,
            "bottom": null,
            "display": null,
            "flex": null,
            "flex_flow": null,
            "grid_area": null,
            "grid_auto_columns": null,
            "grid_auto_flow": null,
            "grid_auto_rows": null,
            "grid_column": null,
            "grid_gap": null,
            "grid_row": null,
            "grid_template_areas": null,
            "grid_template_columns": null,
            "grid_template_rows": null,
            "height": null,
            "justify_content": null,
            "justify_items": null,
            "left": null,
            "margin": null,
            "max_height": null,
            "max_width": null,
            "min_height": null,
            "min_width": null,
            "object_fit": null,
            "object_position": null,
            "order": null,
            "overflow": null,
            "overflow_x": null,
            "overflow_y": null,
            "padding": null,
            "right": null,
            "top": null,
            "visibility": null,
            "width": null
          }
        },
        "8f1d0f5a19e5480bb78b92eee12f4bea": {
          "model_module": "@jupyter-widgets/controls",
          "model_name": "ProgressStyleModel",
          "model_module_version": "1.5.0",
          "state": {
            "_model_module": "@jupyter-widgets/controls",
            "_model_module_version": "1.5.0",
            "_model_name": "ProgressStyleModel",
            "_view_count": null,
            "_view_module": "@jupyter-widgets/base",
            "_view_module_version": "1.2.0",
            "_view_name": "StyleView",
            "bar_color": null,
            "description_width": ""
          }
        },
        "177edbc69d404b38b847fe034da87807": {
          "model_module": "@jupyter-widgets/base",
          "model_name": "LayoutModel",
          "model_module_version": "1.2.0",
          "state": {
            "_model_module": "@jupyter-widgets/base",
            "_model_module_version": "1.2.0",
            "_model_name": "LayoutModel",
            "_view_count": null,
            "_view_module": "@jupyter-widgets/base",
            "_view_module_version": "1.2.0",
            "_view_name": "LayoutView",
            "align_content": null,
            "align_items": null,
            "align_self": null,
            "border": null,
            "bottom": null,
            "display": null,
            "flex": null,
            "flex_flow": null,
            "grid_area": null,
            "grid_auto_columns": null,
            "grid_auto_flow": null,
            "grid_auto_rows": null,
            "grid_column": null,
            "grid_gap": null,
            "grid_row": null,
            "grid_template_areas": null,
            "grid_template_columns": null,
            "grid_template_rows": null,
            "height": null,
            "justify_content": null,
            "justify_items": null,
            "left": null,
            "margin": null,
            "max_height": null,
            "max_width": null,
            "min_height": null,
            "min_width": null,
            "object_fit": null,
            "object_position": null,
            "order": null,
            "overflow": null,
            "overflow_x": null,
            "overflow_y": null,
            "padding": null,
            "right": null,
            "top": null,
            "visibility": null,
            "width": null
          }
        },
        "1a7e28c03bbe41f29b7f3149cb0a463f": {
          "model_module": "@jupyter-widgets/controls",
          "model_name": "DescriptionStyleModel",
          "model_module_version": "1.5.0",
          "state": {
            "_model_module": "@jupyter-widgets/controls",
            "_model_module_version": "1.5.0",
            "_model_name": "DescriptionStyleModel",
            "_view_count": null,
            "_view_module": "@jupyter-widgets/base",
            "_view_module_version": "1.2.0",
            "_view_name": "StyleView",
            "description_width": ""
          }
        },
        "5bb39750bd3c481ab1272e48a7c7ea92": {
          "model_module": "@jupyter-widgets/controls",
          "model_name": "HBoxModel",
          "model_module_version": "1.5.0",
          "state": {
            "_dom_classes": [],
            "_model_module": "@jupyter-widgets/controls",
            "_model_module_version": "1.5.0",
            "_model_name": "HBoxModel",
            "_view_count": null,
            "_view_module": "@jupyter-widgets/controls",
            "_view_module_version": "1.5.0",
            "_view_name": "HBoxView",
            "box_style": "",
            "children": [
              "IPY_MODEL_3101ba50d380429e9c1fc37e5cb0a7b3",
              "IPY_MODEL_357c95ba981341ea811bef4d5d2a98f1",
              "IPY_MODEL_b73b796bff8a458cbfb8f8243facf05c"
            ],
            "layout": "IPY_MODEL_d5c1c8e39d654172802549d6e2d6fde0"
          }
        },
        "3101ba50d380429e9c1fc37e5cb0a7b3": {
          "model_module": "@jupyter-widgets/controls",
          "model_name": "HTMLModel",
          "model_module_version": "1.5.0",
          "state": {
            "_dom_classes": [],
            "_model_module": "@jupyter-widgets/controls",
            "_model_module_version": "1.5.0",
            "_model_name": "HTMLModel",
            "_view_count": null,
            "_view_module": "@jupyter-widgets/controls",
            "_view_module_version": "1.5.0",
            "_view_name": "HTMLView",
            "description": "",
            "description_tooltip": null,
            "layout": "IPY_MODEL_bb7071d2e7aa4ae5a688e75bb5a27d59",
            "placeholder": "​",
            "style": "IPY_MODEL_16a665e1edc5478088f31386a4072d6a",
            "value": "Map: 100%"
          }
        },
        "357c95ba981341ea811bef4d5d2a98f1": {
          "model_module": "@jupyter-widgets/controls",
          "model_name": "FloatProgressModel",
          "model_module_version": "1.5.0",
          "state": {
            "_dom_classes": [],
            "_model_module": "@jupyter-widgets/controls",
            "_model_module_version": "1.5.0",
            "_model_name": "FloatProgressModel",
            "_view_count": null,
            "_view_module": "@jupyter-widgets/controls",
            "_view_module_version": "1.5.0",
            "_view_name": "ProgressView",
            "bar_style": "success",
            "description": "",
            "description_tooltip": null,
            "layout": "IPY_MODEL_579bce4b2d254c52ad6686e264c7d572",
            "max": 2410,
            "min": 0,
            "orientation": "horizontal",
            "style": "IPY_MODEL_6550472f73384e0ca7f1bfca13274e0a",
            "value": 2410
          }
        },
        "b73b796bff8a458cbfb8f8243facf05c": {
          "model_module": "@jupyter-widgets/controls",
          "model_name": "HTMLModel",
          "model_module_version": "1.5.0",
          "state": {
            "_dom_classes": [],
            "_model_module": "@jupyter-widgets/controls",
            "_model_module_version": "1.5.0",
            "_model_name": "HTMLModel",
            "_view_count": null,
            "_view_module": "@jupyter-widgets/controls",
            "_view_module_version": "1.5.0",
            "_view_name": "HTMLView",
            "description": "",
            "description_tooltip": null,
            "layout": "IPY_MODEL_ad5336216d9a49a58570a000c3539718",
            "placeholder": "​",
            "style": "IPY_MODEL_4cc82f286e204536a49ea9e9785deac7",
            "value": " 2410/2410 [00:00&lt;00:00, 4701.84 examples/s]"
          }
        },
        "d5c1c8e39d654172802549d6e2d6fde0": {
          "model_module": "@jupyter-widgets/base",
          "model_name": "LayoutModel",
          "model_module_version": "1.2.0",
          "state": {
            "_model_module": "@jupyter-widgets/base",
            "_model_module_version": "1.2.0",
            "_model_name": "LayoutModel",
            "_view_count": null,
            "_view_module": "@jupyter-widgets/base",
            "_view_module_version": "1.2.0",
            "_view_name": "LayoutView",
            "align_content": null,
            "align_items": null,
            "align_self": null,
            "border": null,
            "bottom": null,
            "display": null,
            "flex": null,
            "flex_flow": null,
            "grid_area": null,
            "grid_auto_columns": null,
            "grid_auto_flow": null,
            "grid_auto_rows": null,
            "grid_column": null,
            "grid_gap": null,
            "grid_row": null,
            "grid_template_areas": null,
            "grid_template_columns": null,
            "grid_template_rows": null,
            "height": null,
            "justify_content": null,
            "justify_items": null,
            "left": null,
            "margin": null,
            "max_height": null,
            "max_width": null,
            "min_height": null,
            "min_width": null,
            "object_fit": null,
            "object_position": null,
            "order": null,
            "overflow": null,
            "overflow_x": null,
            "overflow_y": null,
            "padding": null,
            "right": null,
            "top": null,
            "visibility": null,
            "width": null
          }
        },
        "bb7071d2e7aa4ae5a688e75bb5a27d59": {
          "model_module": "@jupyter-widgets/base",
          "model_name": "LayoutModel",
          "model_module_version": "1.2.0",
          "state": {
            "_model_module": "@jupyter-widgets/base",
            "_model_module_version": "1.2.0",
            "_model_name": "LayoutModel",
            "_view_count": null,
            "_view_module": "@jupyter-widgets/base",
            "_view_module_version": "1.2.0",
            "_view_name": "LayoutView",
            "align_content": null,
            "align_items": null,
            "align_self": null,
            "border": null,
            "bottom": null,
            "display": null,
            "flex": null,
            "flex_flow": null,
            "grid_area": null,
            "grid_auto_columns": null,
            "grid_auto_flow": null,
            "grid_auto_rows": null,
            "grid_column": null,
            "grid_gap": null,
            "grid_row": null,
            "grid_template_areas": null,
            "grid_template_columns": null,
            "grid_template_rows": null,
            "height": null,
            "justify_content": null,
            "justify_items": null,
            "left": null,
            "margin": null,
            "max_height": null,
            "max_width": null,
            "min_height": null,
            "min_width": null,
            "object_fit": null,
            "object_position": null,
            "order": null,
            "overflow": null,
            "overflow_x": null,
            "overflow_y": null,
            "padding": null,
            "right": null,
            "top": null,
            "visibility": null,
            "width": null
          }
        },
        "16a665e1edc5478088f31386a4072d6a": {
          "model_module": "@jupyter-widgets/controls",
          "model_name": "DescriptionStyleModel",
          "model_module_version": "1.5.0",
          "state": {
            "_model_module": "@jupyter-widgets/controls",
            "_model_module_version": "1.5.0",
            "_model_name": "DescriptionStyleModel",
            "_view_count": null,
            "_view_module": "@jupyter-widgets/base",
            "_view_module_version": "1.2.0",
            "_view_name": "StyleView",
            "description_width": ""
          }
        },
        "579bce4b2d254c52ad6686e264c7d572": {
          "model_module": "@jupyter-widgets/base",
          "model_name": "LayoutModel",
          "model_module_version": "1.2.0",
          "state": {
            "_model_module": "@jupyter-widgets/base",
            "_model_module_version": "1.2.0",
            "_model_name": "LayoutModel",
            "_view_count": null,
            "_view_module": "@jupyter-widgets/base",
            "_view_module_version": "1.2.0",
            "_view_name": "LayoutView",
            "align_content": null,
            "align_items": null,
            "align_self": null,
            "border": null,
            "bottom": null,
            "display": null,
            "flex": null,
            "flex_flow": null,
            "grid_area": null,
            "grid_auto_columns": null,
            "grid_auto_flow": null,
            "grid_auto_rows": null,
            "grid_column": null,
            "grid_gap": null,
            "grid_row": null,
            "grid_template_areas": null,
            "grid_template_columns": null,
            "grid_template_rows": null,
            "height": null,
            "justify_content": null,
            "justify_items": null,
            "left": null,
            "margin": null,
            "max_height": null,
            "max_width": null,
            "min_height": null,
            "min_width": null,
            "object_fit": null,
            "object_position": null,
            "order": null,
            "overflow": null,
            "overflow_x": null,
            "overflow_y": null,
            "padding": null,
            "right": null,
            "top": null,
            "visibility": null,
            "width": null
          }
        },
        "6550472f73384e0ca7f1bfca13274e0a": {
          "model_module": "@jupyter-widgets/controls",
          "model_name": "ProgressStyleModel",
          "model_module_version": "1.5.0",
          "state": {
            "_model_module": "@jupyter-widgets/controls",
            "_model_module_version": "1.5.0",
            "_model_name": "ProgressStyleModel",
            "_view_count": null,
            "_view_module": "@jupyter-widgets/base",
            "_view_module_version": "1.2.0",
            "_view_name": "StyleView",
            "bar_color": null,
            "description_width": ""
          }
        },
        "ad5336216d9a49a58570a000c3539718": {
          "model_module": "@jupyter-widgets/base",
          "model_name": "LayoutModel",
          "model_module_version": "1.2.0",
          "state": {
            "_model_module": "@jupyter-widgets/base",
            "_model_module_version": "1.2.0",
            "_model_name": "LayoutModel",
            "_view_count": null,
            "_view_module": "@jupyter-widgets/base",
            "_view_module_version": "1.2.0",
            "_view_name": "LayoutView",
            "align_content": null,
            "align_items": null,
            "align_self": null,
            "border": null,
            "bottom": null,
            "display": null,
            "flex": null,
            "flex_flow": null,
            "grid_area": null,
            "grid_auto_columns": null,
            "grid_auto_flow": null,
            "grid_auto_rows": null,
            "grid_column": null,
            "grid_gap": null,
            "grid_row": null,
            "grid_template_areas": null,
            "grid_template_columns": null,
            "grid_template_rows": null,
            "height": null,
            "justify_content": null,
            "justify_items": null,
            "left": null,
            "margin": null,
            "max_height": null,
            "max_width": null,
            "min_height": null,
            "min_width": null,
            "object_fit": null,
            "object_position": null,
            "order": null,
            "overflow": null,
            "overflow_x": null,
            "overflow_y": null,
            "padding": null,
            "right": null,
            "top": null,
            "visibility": null,
            "width": null
          }
        },
        "4cc82f286e204536a49ea9e9785deac7": {
          "model_module": "@jupyter-widgets/controls",
          "model_name": "DescriptionStyleModel",
          "model_module_version": "1.5.0",
          "state": {
            "_model_module": "@jupyter-widgets/controls",
            "_model_module_version": "1.5.0",
            "_model_name": "DescriptionStyleModel",
            "_view_count": null,
            "_view_module": "@jupyter-widgets/base",
            "_view_module_version": "1.2.0",
            "_view_name": "StyleView",
            "description_width": ""
          }
        },
        "52bb7ea167304af6bfaa1fa9228db767": {
          "model_module": "@jupyter-widgets/controls",
          "model_name": "HBoxModel",
          "model_module_version": "1.5.0",
          "state": {
            "_dom_classes": [],
            "_model_module": "@jupyter-widgets/controls",
            "_model_module_version": "1.5.0",
            "_model_name": "HBoxModel",
            "_view_count": null,
            "_view_module": "@jupyter-widgets/controls",
            "_view_module_version": "1.5.0",
            "_view_name": "HBoxView",
            "box_style": "",
            "children": [
              "IPY_MODEL_537e14a412464bf1a09ce46f082923b9",
              "IPY_MODEL_7f69133ca485437581f0191231aa6b35",
              "IPY_MODEL_0eac813ca81d48f4b0c7b1a0146c0d81"
            ],
            "layout": "IPY_MODEL_b1184e64f2f447d6ac1c18b300f8348d"
          }
        },
        "537e14a412464bf1a09ce46f082923b9": {
          "model_module": "@jupyter-widgets/controls",
          "model_name": "HTMLModel",
          "model_module_version": "1.5.0",
          "state": {
            "_dom_classes": [],
            "_model_module": "@jupyter-widgets/controls",
            "_model_module_version": "1.5.0",
            "_model_name": "HTMLModel",
            "_view_count": null,
            "_view_module": "@jupyter-widgets/controls",
            "_view_module_version": "1.5.0",
            "_view_name": "HTMLView",
            "description": "",
            "description_tooltip": null,
            "layout": "IPY_MODEL_57b7bc80215b4b87b7c8dc55e788577a",
            "placeholder": "​",
            "style": "IPY_MODEL_ac3ae241014e4ed69701f6e83987ac5e",
            "value": "model.safetensors: 100%"
          }
        },
        "7f69133ca485437581f0191231aa6b35": {
          "model_module": "@jupyter-widgets/controls",
          "model_name": "FloatProgressModel",
          "model_module_version": "1.5.0",
          "state": {
            "_dom_classes": [],
            "_model_module": "@jupyter-widgets/controls",
            "_model_module_version": "1.5.0",
            "_model_name": "FloatProgressModel",
            "_view_count": null,
            "_view_module": "@jupyter-widgets/controls",
            "_view_module_version": "1.5.0",
            "_view_name": "ProgressView",
            "bar_style": "success",
            "description": "",
            "description_tooltip": null,
            "layout": "IPY_MODEL_fc6d4f40ccc74ccd82afb6c95b350791",
            "max": 269738848,
            "min": 0,
            "orientation": "horizontal",
            "style": "IPY_MODEL_6bc5c9ebccca4040a84b3be442535c67",
            "value": 269738848
          }
        },
        "0eac813ca81d48f4b0c7b1a0146c0d81": {
          "model_module": "@jupyter-widgets/controls",
          "model_name": "HTMLModel",
          "model_module_version": "1.5.0",
          "state": {
            "_dom_classes": [],
            "_model_module": "@jupyter-widgets/controls",
            "_model_module_version": "1.5.0",
            "_model_name": "HTMLModel",
            "_view_count": null,
            "_view_module": "@jupyter-widgets/controls",
            "_view_module_version": "1.5.0",
            "_view_name": "HTMLView",
            "description": "",
            "description_tooltip": null,
            "layout": "IPY_MODEL_0bc0458834b34ae895a159cfe8071778",
            "placeholder": "​",
            "style": "IPY_MODEL_ac48fb392a8c400fa9da2a9519edcdef",
            "value": " 270M/270M [00:11&lt;00:00, 23.6MB/s]"
          }
        },
        "b1184e64f2f447d6ac1c18b300f8348d": {
          "model_module": "@jupyter-widgets/base",
          "model_name": "LayoutModel",
          "model_module_version": "1.2.0",
          "state": {
            "_model_module": "@jupyter-widgets/base",
            "_model_module_version": "1.2.0",
            "_model_name": "LayoutModel",
            "_view_count": null,
            "_view_module": "@jupyter-widgets/base",
            "_view_module_version": "1.2.0",
            "_view_name": "LayoutView",
            "align_content": null,
            "align_items": null,
            "align_self": null,
            "border": null,
            "bottom": null,
            "display": null,
            "flex": null,
            "flex_flow": null,
            "grid_area": null,
            "grid_auto_columns": null,
            "grid_auto_flow": null,
            "grid_auto_rows": null,
            "grid_column": null,
            "grid_gap": null,
            "grid_row": null,
            "grid_template_areas": null,
            "grid_template_columns": null,
            "grid_template_rows": null,
            "height": null,
            "justify_content": null,
            "justify_items": null,
            "left": null,
            "margin": null,
            "max_height": null,
            "max_width": null,
            "min_height": null,
            "min_width": null,
            "object_fit": null,
            "object_position": null,
            "order": null,
            "overflow": null,
            "overflow_x": null,
            "overflow_y": null,
            "padding": null,
            "right": null,
            "top": null,
            "visibility": null,
            "width": null
          }
        },
        "57b7bc80215b4b87b7c8dc55e788577a": {
          "model_module": "@jupyter-widgets/base",
          "model_name": "LayoutModel",
          "model_module_version": "1.2.0",
          "state": {
            "_model_module": "@jupyter-widgets/base",
            "_model_module_version": "1.2.0",
            "_model_name": "LayoutModel",
            "_view_count": null,
            "_view_module": "@jupyter-widgets/base",
            "_view_module_version": "1.2.0",
            "_view_name": "LayoutView",
            "align_content": null,
            "align_items": null,
            "align_self": null,
            "border": null,
            "bottom": null,
            "display": null,
            "flex": null,
            "flex_flow": null,
            "grid_area": null,
            "grid_auto_columns": null,
            "grid_auto_flow": null,
            "grid_auto_rows": null,
            "grid_column": null,
            "grid_gap": null,
            "grid_row": null,
            "grid_template_areas": null,
            "grid_template_columns": null,
            "grid_template_rows": null,
            "height": null,
            "justify_content": null,
            "justify_items": null,
            "left": null,
            "margin": null,
            "max_height": null,
            "max_width": null,
            "min_height": null,
            "min_width": null,
            "object_fit": null,
            "object_position": null,
            "order": null,
            "overflow": null,
            "overflow_x": null,
            "overflow_y": null,
            "padding": null,
            "right": null,
            "top": null,
            "visibility": null,
            "width": null
          }
        },
        "ac3ae241014e4ed69701f6e83987ac5e": {
          "model_module": "@jupyter-widgets/controls",
          "model_name": "DescriptionStyleModel",
          "model_module_version": "1.5.0",
          "state": {
            "_model_module": "@jupyter-widgets/controls",
            "_model_module_version": "1.5.0",
            "_model_name": "DescriptionStyleModel",
            "_view_count": null,
            "_view_module": "@jupyter-widgets/base",
            "_view_module_version": "1.2.0",
            "_view_name": "StyleView",
            "description_width": ""
          }
        },
        "fc6d4f40ccc74ccd82afb6c95b350791": {
          "model_module": "@jupyter-widgets/base",
          "model_name": "LayoutModel",
          "model_module_version": "1.2.0",
          "state": {
            "_model_module": "@jupyter-widgets/base",
            "_model_module_version": "1.2.0",
            "_model_name": "LayoutModel",
            "_view_count": null,
            "_view_module": "@jupyter-widgets/base",
            "_view_module_version": "1.2.0",
            "_view_name": "LayoutView",
            "align_content": null,
            "align_items": null,
            "align_self": null,
            "border": null,
            "bottom": null,
            "display": null,
            "flex": null,
            "flex_flow": null,
            "grid_area": null,
            "grid_auto_columns": null,
            "grid_auto_flow": null,
            "grid_auto_rows": null,
            "grid_column": null,
            "grid_gap": null,
            "grid_row": null,
            "grid_template_areas": null,
            "grid_template_columns": null,
            "grid_template_rows": null,
            "height": null,
            "justify_content": null,
            "justify_items": null,
            "left": null,
            "margin": null,
            "max_height": null,
            "max_width": null,
            "min_height": null,
            "min_width": null,
            "object_fit": null,
            "object_position": null,
            "order": null,
            "overflow": null,
            "overflow_x": null,
            "overflow_y": null,
            "padding": null,
            "right": null,
            "top": null,
            "visibility": null,
            "width": null
          }
        },
        "6bc5c9ebccca4040a84b3be442535c67": {
          "model_module": "@jupyter-widgets/controls",
          "model_name": "ProgressStyleModel",
          "model_module_version": "1.5.0",
          "state": {
            "_model_module": "@jupyter-widgets/controls",
            "_model_module_version": "1.5.0",
            "_model_name": "ProgressStyleModel",
            "_view_count": null,
            "_view_module": "@jupyter-widgets/base",
            "_view_module_version": "1.2.0",
            "_view_name": "StyleView",
            "bar_color": null,
            "description_width": ""
          }
        },
        "0bc0458834b34ae895a159cfe8071778": {
          "model_module": "@jupyter-widgets/base",
          "model_name": "LayoutModel",
          "model_module_version": "1.2.0",
          "state": {
            "_model_module": "@jupyter-widgets/base",
            "_model_module_version": "1.2.0",
            "_model_name": "LayoutModel",
            "_view_count": null,
            "_view_module": "@jupyter-widgets/base",
            "_view_module_version": "1.2.0",
            "_view_name": "LayoutView",
            "align_content": null,
            "align_items": null,
            "align_self": null,
            "border": null,
            "bottom": null,
            "display": null,
            "flex": null,
            "flex_flow": null,
            "grid_area": null,
            "grid_auto_columns": null,
            "grid_auto_flow": null,
            "grid_auto_rows": null,
            "grid_column": null,
            "grid_gap": null,
            "grid_row": null,
            "grid_template_areas": null,
            "grid_template_columns": null,
            "grid_template_rows": null,
            "height": null,
            "justify_content": null,
            "justify_items": null,
            "left": null,
            "margin": null,
            "max_height": null,
            "max_width": null,
            "min_height": null,
            "min_width": null,
            "object_fit": null,
            "object_position": null,
            "order": null,
            "overflow": null,
            "overflow_x": null,
            "overflow_y": null,
            "padding": null,
            "right": null,
            "top": null,
            "visibility": null,
            "width": null
          }
        },
        "ac48fb392a8c400fa9da2a9519edcdef": {
          "model_module": "@jupyter-widgets/controls",
          "model_name": "DescriptionStyleModel",
          "model_module_version": "1.5.0",
          "state": {
            "_model_module": "@jupyter-widgets/controls",
            "_model_module_version": "1.5.0",
            "_model_name": "DescriptionStyleModel",
            "_view_count": null,
            "_view_module": "@jupyter-widgets/base",
            "_view_module_version": "1.2.0",
            "_view_name": "StyleView",
            "description_width": ""
          }
        },
        "6fdf857e4163451a95539dce6d1ff4c7": {
          "model_module": "@jupyter-widgets/controls",
          "model_name": "HBoxModel",
          "model_module_version": "1.5.0",
          "state": {
            "_dom_classes": [],
            "_model_module": "@jupyter-widgets/controls",
            "_model_module_version": "1.5.0",
            "_model_name": "HBoxModel",
            "_view_count": null,
            "_view_module": "@jupyter-widgets/controls",
            "_view_module_version": "1.5.0",
            "_view_name": "HBoxView",
            "box_style": "",
            "children": [
              "IPY_MODEL_54c490200a8046a3b122fcb02a3e6938",
              "IPY_MODEL_b8d20da1a0994e63bf03a99a002f75eb",
              "IPY_MODEL_092670c2677044709373ebf33900be44"
            ],
            "layout": "IPY_MODEL_8d1fd82017a54883a8cd36e1537b4d71"
          }
        },
        "54c490200a8046a3b122fcb02a3e6938": {
          "model_module": "@jupyter-widgets/controls",
          "model_name": "HTMLModel",
          "model_module_version": "1.5.0",
          "state": {
            "_dom_classes": [],
            "_model_module": "@jupyter-widgets/controls",
            "_model_module_version": "1.5.0",
            "_model_name": "HTMLModel",
            "_view_count": null,
            "_view_module": "@jupyter-widgets/controls",
            "_view_module_version": "1.5.0",
            "_view_name": "HTMLView",
            "description": "",
            "description_tooltip": null,
            "layout": "IPY_MODEL_ba91d3eed5b042c6bc3730891dfc92a1",
            "placeholder": "​",
            "style": "IPY_MODEL_63490ce54728497fa10fbf225d088632",
            "value": "Downloading builder script: 100%"
          }
        },
        "b8d20da1a0994e63bf03a99a002f75eb": {
          "model_module": "@jupyter-widgets/controls",
          "model_name": "FloatProgressModel",
          "model_module_version": "1.5.0",
          "state": {
            "_dom_classes": [],
            "_model_module": "@jupyter-widgets/controls",
            "_model_module_version": "1.5.0",
            "_model_name": "FloatProgressModel",
            "_view_count": null,
            "_view_module": "@jupyter-widgets/controls",
            "_view_module_version": "1.5.0",
            "_view_name": "ProgressView",
            "bar_style": "success",
            "description": "",
            "description_tooltip": null,
            "layout": "IPY_MODEL_7aac6b7a729c46009b9172b6913db040",
            "max": 4203,
            "min": 0,
            "orientation": "horizontal",
            "style": "IPY_MODEL_021dcea41af64ac4af4a98a6249cf30a",
            "value": 4203
          }
        },
        "092670c2677044709373ebf33900be44": {
          "model_module": "@jupyter-widgets/controls",
          "model_name": "HTMLModel",
          "model_module_version": "1.5.0",
          "state": {
            "_dom_classes": [],
            "_model_module": "@jupyter-widgets/controls",
            "_model_module_version": "1.5.0",
            "_model_name": "HTMLModel",
            "_view_count": null,
            "_view_module": "@jupyter-widgets/controls",
            "_view_module_version": "1.5.0",
            "_view_name": "HTMLView",
            "description": "",
            "description_tooltip": null,
            "layout": "IPY_MODEL_f8a5b58b815a42e3b7ee4e6e6eda7a23",
            "placeholder": "​",
            "style": "IPY_MODEL_7be19664171c42b28ba97c7c4787c2b7",
            "value": " 4.20k/4.20k [00:00&lt;00:00, 367kB/s]"
          }
        },
        "8d1fd82017a54883a8cd36e1537b4d71": {
          "model_module": "@jupyter-widgets/base",
          "model_name": "LayoutModel",
          "model_module_version": "1.2.0",
          "state": {
            "_model_module": "@jupyter-widgets/base",
            "_model_module_version": "1.2.0",
            "_model_name": "LayoutModel",
            "_view_count": null,
            "_view_module": "@jupyter-widgets/base",
            "_view_module_version": "1.2.0",
            "_view_name": "LayoutView",
            "align_content": null,
            "align_items": null,
            "align_self": null,
            "border": null,
            "bottom": null,
            "display": null,
            "flex": null,
            "flex_flow": null,
            "grid_area": null,
            "grid_auto_columns": null,
            "grid_auto_flow": null,
            "grid_auto_rows": null,
            "grid_column": null,
            "grid_gap": null,
            "grid_row": null,
            "grid_template_areas": null,
            "grid_template_columns": null,
            "grid_template_rows": null,
            "height": null,
            "justify_content": null,
            "justify_items": null,
            "left": null,
            "margin": null,
            "max_height": null,
            "max_width": null,
            "min_height": null,
            "min_width": null,
            "object_fit": null,
            "object_position": null,
            "order": null,
            "overflow": null,
            "overflow_x": null,
            "overflow_y": null,
            "padding": null,
            "right": null,
            "top": null,
            "visibility": null,
            "width": null
          }
        },
        "ba91d3eed5b042c6bc3730891dfc92a1": {
          "model_module": "@jupyter-widgets/base",
          "model_name": "LayoutModel",
          "model_module_version": "1.2.0",
          "state": {
            "_model_module": "@jupyter-widgets/base",
            "_model_module_version": "1.2.0",
            "_model_name": "LayoutModel",
            "_view_count": null,
            "_view_module": "@jupyter-widgets/base",
            "_view_module_version": "1.2.0",
            "_view_name": "LayoutView",
            "align_content": null,
            "align_items": null,
            "align_self": null,
            "border": null,
            "bottom": null,
            "display": null,
            "flex": null,
            "flex_flow": null,
            "grid_area": null,
            "grid_auto_columns": null,
            "grid_auto_flow": null,
            "grid_auto_rows": null,
            "grid_column": null,
            "grid_gap": null,
            "grid_row": null,
            "grid_template_areas": null,
            "grid_template_columns": null,
            "grid_template_rows": null,
            "height": null,
            "justify_content": null,
            "justify_items": null,
            "left": null,
            "margin": null,
            "max_height": null,
            "max_width": null,
            "min_height": null,
            "min_width": null,
            "object_fit": null,
            "object_position": null,
            "order": null,
            "overflow": null,
            "overflow_x": null,
            "overflow_y": null,
            "padding": null,
            "right": null,
            "top": null,
            "visibility": null,
            "width": null
          }
        },
        "63490ce54728497fa10fbf225d088632": {
          "model_module": "@jupyter-widgets/controls",
          "model_name": "DescriptionStyleModel",
          "model_module_version": "1.5.0",
          "state": {
            "_model_module": "@jupyter-widgets/controls",
            "_model_module_version": "1.5.0",
            "_model_name": "DescriptionStyleModel",
            "_view_count": null,
            "_view_module": "@jupyter-widgets/base",
            "_view_module_version": "1.2.0",
            "_view_name": "StyleView",
            "description_width": ""
          }
        },
        "7aac6b7a729c46009b9172b6913db040": {
          "model_module": "@jupyter-widgets/base",
          "model_name": "LayoutModel",
          "model_module_version": "1.2.0",
          "state": {
            "_model_module": "@jupyter-widgets/base",
            "_model_module_version": "1.2.0",
            "_model_name": "LayoutModel",
            "_view_count": null,
            "_view_module": "@jupyter-widgets/base",
            "_view_module_version": "1.2.0",
            "_view_name": "LayoutView",
            "align_content": null,
            "align_items": null,
            "align_self": null,
            "border": null,
            "bottom": null,
            "display": null,
            "flex": null,
            "flex_flow": null,
            "grid_area": null,
            "grid_auto_columns": null,
            "grid_auto_flow": null,
            "grid_auto_rows": null,
            "grid_column": null,
            "grid_gap": null,
            "grid_row": null,
            "grid_template_areas": null,
            "grid_template_columns": null,
            "grid_template_rows": null,
            "height": null,
            "justify_content": null,
            "justify_items": null,
            "left": null,
            "margin": null,
            "max_height": null,
            "max_width": null,
            "min_height": null,
            "min_width": null,
            "object_fit": null,
            "object_position": null,
            "order": null,
            "overflow": null,
            "overflow_x": null,
            "overflow_y": null,
            "padding": null,
            "right": null,
            "top": null,
            "visibility": null,
            "width": null
          }
        },
        "021dcea41af64ac4af4a98a6249cf30a": {
          "model_module": "@jupyter-widgets/controls",
          "model_name": "ProgressStyleModel",
          "model_module_version": "1.5.0",
          "state": {
            "_model_module": "@jupyter-widgets/controls",
            "_model_module_version": "1.5.0",
            "_model_name": "ProgressStyleModel",
            "_view_count": null,
            "_view_module": "@jupyter-widgets/base",
            "_view_module_version": "1.2.0",
            "_view_name": "StyleView",
            "bar_color": null,
            "description_width": ""
          }
        },
        "f8a5b58b815a42e3b7ee4e6e6eda7a23": {
          "model_module": "@jupyter-widgets/base",
          "model_name": "LayoutModel",
          "model_module_version": "1.2.0",
          "state": {
            "_model_module": "@jupyter-widgets/base",
            "_model_module_version": "1.2.0",
            "_model_name": "LayoutModel",
            "_view_count": null,
            "_view_module": "@jupyter-widgets/base",
            "_view_module_version": "1.2.0",
            "_view_name": "LayoutView",
            "align_content": null,
            "align_items": null,
            "align_self": null,
            "border": null,
            "bottom": null,
            "display": null,
            "flex": null,
            "flex_flow": null,
            "grid_area": null,
            "grid_auto_columns": null,
            "grid_auto_flow": null,
            "grid_auto_rows": null,
            "grid_column": null,
            "grid_gap": null,
            "grid_row": null,
            "grid_template_areas": null,
            "grid_template_columns": null,
            "grid_template_rows": null,
            "height": null,
            "justify_content": null,
            "justify_items": null,
            "left": null,
            "margin": null,
            "max_height": null,
            "max_width": null,
            "min_height": null,
            "min_width": null,
            "object_fit": null,
            "object_position": null,
            "order": null,
            "overflow": null,
            "overflow_x": null,
            "overflow_y": null,
            "padding": null,
            "right": null,
            "top": null,
            "visibility": null,
            "width": null
          }
        },
        "7be19664171c42b28ba97c7c4787c2b7": {
          "model_module": "@jupyter-widgets/controls",
          "model_name": "DescriptionStyleModel",
          "model_module_version": "1.5.0",
          "state": {
            "_model_module": "@jupyter-widgets/controls",
            "_model_module_version": "1.5.0",
            "_model_name": "DescriptionStyleModel",
            "_view_count": null,
            "_view_module": "@jupyter-widgets/base",
            "_view_module_version": "1.2.0",
            "_view_name": "StyleView",
            "description_width": ""
          }
        }
      }
    },
    "accelerator": "GPU"
  },
  "cells": [
    {
      "cell_type": "code",
      "source": [
        "import pandas as pd\n",
        "import numpy as np\n",
        "from collections import Counter\n",
        "from sklearn.model_selection import train_test_split\n",
        "from sklearn.feature_extraction.text import TfidfVectorizer\n",
        "from sklearn.preprocessing import LabelEncoder\n",
        "from sklearn.metrics import classification_report, accuracy_score\n",
        "from sklearn.linear_model import LogisticRegression\n",
        "from sklearn.ensemble import RandomForestClassifier\n",
        "import xgboost as xgb\n",
        "import joblib\n",
        "import time"
      ],
      "metadata": {
        "id": "FxMZ3a-Mul24"
      },
      "execution_count": null,
      "outputs": []
    },
    {
      "cell_type": "markdown",
      "source": [
        "Aggregated Categories Excel file"
      ],
      "metadata": {
        "id": "qAEcPY3XrE5o"
      }
    },
    {
      "cell_type": "code",
      "source": [
        "# Load the Aggregated Categories Excel file\n",
        "df2 = pd.read_excel('/content/drive/MyDrive/DAT620/Categories_manual_adapted.xlsx')\n",
        "\n",
        "df2.columns = [\"category\", \"count\", \"cat-l2\", \"cat-l3\"]\n",
        "\n",
        "print(df2.head())"
      ],
      "metadata": {
        "colab": {
          "base_uri": "https://localhost:8080/"
        },
        "id": "kWoOWzC978Lo",
        "outputId": "fae95ec9-d6bd-425b-86e4-fd204b8bb3f2"
      },
      "execution_count": null,
      "outputs": [
        {
          "output_type": "stream",
          "name": "stdout",
          "text": [
            "     category  count      cat-l2      cat-l3\n",
            "0        news  49484         NaN         NaN\n",
            "1        free  47348         NaN         NaN\n",
            "2     politik  39700     politik     politik\n",
            "3       sport  32455       sport       sport\n",
            "4  wirtschaft  31184  wirtschaft  wirtschaft\n"
          ]
        }
      ]
    },
    {
      "cell_type": "markdown",
      "source": [
        "News data file converted in CSV"
      ],
      "metadata": {
        "id": "mbTik2wNrLMc"
      }
    },
    {
      "cell_type": "code",
      "source": [
        "df = pd.read_csv('/content/drive/MyDrive/DAT620/data.csv')\n",
        "\n",
        "df.columns = [\"new_number\", \"news_text\", \"category\"]\n",
        "print(df.head())"
      ],
      "metadata": {
        "colab": {
          "base_uri": "https://localhost:8080/"
        },
        "id": "BUGmejOU83-z",
        "outputId": "cc5bc1df-1891-4bbc-ef6a-3175b005ad9c"
      },
      "execution_count": null,
      "outputs": [
        {
          "output_type": "stream",
          "name": "stdout",
          "text": [
            "               new_number                                          news_text  \\\n",
            "0  NID_2023-01-19-02_3182  Forscher sehen enorm Aufholbedarf bei CO2 Entn...   \n",
            "1  NID_2023-01-19-04_5957  Museum Winsen Wie ein klein Museum groß Idee u...   \n",
            "2  NID_2023-01-19-04_6983  quartier in Harburg der neu Kümmerer beziehen ...   \n",
            "3  NID_2023-01-19-04_3777  Grundsteuer Frist für Steuererklärung laufen a...   \n",
            "4  NID_2023-01-19-06_4993  Kreis Pinneberg Elmshorn legen sein Vision der...   \n",
            "\n",
            "       category  \n",
            "0  Wissenschaft  \n",
            "1  Lkr. Harburg  \n",
            "2       Harburg  \n",
            "3   Norderstedt  \n",
            "4     Pinneberg  \n"
          ]
        }
      ]
    },
    {
      "cell_type": "markdown",
      "source": [
        "Mapping the Aggregated categories to the news data\n"
      ],
      "metadata": {
        "id": "jTewpmMprR05"
      }
    },
    {
      "cell_type": "code",
      "source": [
        "mapping = df2.set_index('category')['cat-l3'].to_dict()\n",
        "\n",
        "# Map the 'category' column in df1 to the 'cat-l3' values\n",
        "df['cat-l3'] = df['category'].map(mapping)\n",
        "\n",
        "print(df.head())"
      ],
      "metadata": {
        "colab": {
          "base_uri": "https://localhost:8080/"
        },
        "id": "uG-o3KiX-IXZ",
        "outputId": "e45e66fe-6b54-444e-9aeb-854e62d701d5"
      },
      "execution_count": null,
      "outputs": [
        {
          "output_type": "stream",
          "name": "stdout",
          "text": [
            "               new_number                                          news_text  \\\n",
            "0  NID_2023-01-19-02_3182  Forscher sehen enorm Aufholbedarf bei CO2 Entn...   \n",
            "1  NID_2023-01-19-04_5957  Museum Winsen Wie ein klein Museum groß Idee u...   \n",
            "2  NID_2023-01-19-04_6983  quartier in Harburg der neu Kümmerer beziehen ...   \n",
            "3  NID_2023-01-19-04_3777  Grundsteuer Frist für Steuererklärung laufen a...   \n",
            "4  NID_2023-01-19-06_4993  Kreis Pinneberg Elmshorn legen sein Vision der...   \n",
            "\n",
            "       category cat-l3  \n",
            "0  Wissenschaft    NaN  \n",
            "1  Lkr. Harburg    NaN  \n",
            "2       Harburg    NaN  \n",
            "3   Norderstedt    NaN  \n",
            "4     Pinneberg    NaN  \n"
          ]
        }
      ]
    },
    {
      "cell_type": "code",
      "source": [
        "# Drop rows where 'cat-l3' column has NaN values\n",
        "df = df.dropna(subset=['cat-l3'])\n",
        "\n",
        "print(df.head())\n"
      ],
      "metadata": {
        "colab": {
          "base_uri": "https://localhost:8080/"
        },
        "id": "v48N0vVbAnyA",
        "outputId": "d8831e52-54cf-4b8e-827f-5745839859fc"
      },
      "execution_count": null,
      "outputs": [
        {
          "output_type": "stream",
          "name": "stdout",
          "text": [
            "                 new_number  \\\n",
            "62   NID_2023-01-19-17_9205   \n",
            "79   NID_2023-01-19-20_8799   \n",
            "178  NID_2023-01-20-13_4755   \n",
            "751  NID_2023-01-20-20_4779   \n",
            "953  NID_2023-01-20-21_9183   \n",
            "\n",
            "                                             news_text category   cat-l3  \n",
            "62   Vorsicht Legionellen Wie Vermieter vorsorgen u...    klima    klima  \n",
            "79   unser Nachbar der Dealer Mieter Aufstand gegen...  netflix  netflix  \n",
            "178  Kindheit und Jugend der Phase der Hasen Trotzp...  familie  familie  \n",
            "751  Kitzbühel Rückkehr der Weißwurstparty in vor C...    sport    sport  \n",
            "953  vor Duell gegen Bochum Herthas Trainer euphori...    sport    sport  \n"
          ]
        }
      ]
    },
    {
      "cell_type": "code",
      "source": [
        "df"
      ],
      "metadata": {
        "colab": {
          "base_uri": "https://localhost:8080/",
          "height": 424
        },
        "id": "p7AsRgLFAvT_",
        "outputId": "1d58ade6-9415-4b25-b3c7-26e18427b2e8"
      },
      "execution_count": null,
      "outputs": [
        {
          "output_type": "execute_result",
          "data": {
            "text/plain": [
              "                     new_number  \\\n",
              "62       NID_2023-01-19-17_9205   \n",
              "79       NID_2023-01-19-20_8799   \n",
              "178      NID_2023-01-20-13_4755   \n",
              "751      NID_2023-01-20-20_4779   \n",
              "953      NID_2023-01-20-21_9183   \n",
              "...                         ...   \n",
              "985529   NID_2023-02-03-20_4508   \n",
              "985530   NID_2023-02-03-20_6062   \n",
              "985535   NID_2023-02-03-20_6435   \n",
              "985542  NID_2023-02-03-20_14365   \n",
              "985653  NID_2023-02-03-21_15679   \n",
              "\n",
              "                                                news_text      category  \\\n",
              "62      Vorsicht Legionellen Wie Vermieter vorsorgen u...         klima   \n",
              "79      unser Nachbar der Dealer Mieter Aufstand gegen...       netflix   \n",
              "178     Kindheit und Jugend der Phase der Hasen Trotzp...       familie   \n",
              "751     Kitzbühel Rückkehr der Weißwurstparty in vor C...         sport   \n",
              "953     vor Duell gegen Bochum Herthas Trainer euphori...         sport   \n",
              "...                                                   ...           ...   \n",
              "985529  Eurojackpot an der Freitag 03 02 2023 Gewinnza...      panorama   \n",
              "985530  Groundhog Day Murmeltier sagen in USA sechs we...      panorama   \n",
              "985535  Heidi Klum und Tom Kaulitz wollen sie ein geme...  unterhaltung   \n",
              "985542  Udo Lindenberg feiern erst Nummer ein Hit seit...  unterhaltung   \n",
              "985653  wenig Aktivist bei Demo in Berlin Luisa Neubau...      proteste   \n",
              "\n",
              "              cat-l3  \n",
              "62             klima  \n",
              "79           netflix  \n",
              "178          familie  \n",
              "751            sport  \n",
              "953            sport  \n",
              "...              ...  \n",
              "985529     sonstiges  \n",
              "985530     sonstiges  \n",
              "985535  unterhaltung  \n",
              "985542  unterhaltung  \n",
              "985653      proteste  \n",
              "\n",
              "[12629 rows x 4 columns]"
            ],
            "text/html": [
              "\n",
              "  <div id=\"df-c6449c0b-c508-4f37-8833-a293bf328918\" class=\"colab-df-container\">\n",
              "    <div>\n",
              "<style scoped>\n",
              "    .dataframe tbody tr th:only-of-type {\n",
              "        vertical-align: middle;\n",
              "    }\n",
              "\n",
              "    .dataframe tbody tr th {\n",
              "        vertical-align: top;\n",
              "    }\n",
              "\n",
              "    .dataframe thead th {\n",
              "        text-align: right;\n",
              "    }\n",
              "</style>\n",
              "<table border=\"1\" class=\"dataframe\">\n",
              "  <thead>\n",
              "    <tr style=\"text-align: right;\">\n",
              "      <th></th>\n",
              "      <th>new_number</th>\n",
              "      <th>news_text</th>\n",
              "      <th>category</th>\n",
              "      <th>cat-l3</th>\n",
              "    </tr>\n",
              "  </thead>\n",
              "  <tbody>\n",
              "    <tr>\n",
              "      <th>62</th>\n",
              "      <td>NID_2023-01-19-17_9205</td>\n",
              "      <td>Vorsicht Legionellen Wie Vermieter vorsorgen u...</td>\n",
              "      <td>klima</td>\n",
              "      <td>klima</td>\n",
              "    </tr>\n",
              "    <tr>\n",
              "      <th>79</th>\n",
              "      <td>NID_2023-01-19-20_8799</td>\n",
              "      <td>unser Nachbar der Dealer Mieter Aufstand gegen...</td>\n",
              "      <td>netflix</td>\n",
              "      <td>netflix</td>\n",
              "    </tr>\n",
              "    <tr>\n",
              "      <th>178</th>\n",
              "      <td>NID_2023-01-20-13_4755</td>\n",
              "      <td>Kindheit und Jugend der Phase der Hasen Trotzp...</td>\n",
              "      <td>familie</td>\n",
              "      <td>familie</td>\n",
              "    </tr>\n",
              "    <tr>\n",
              "      <th>751</th>\n",
              "      <td>NID_2023-01-20-20_4779</td>\n",
              "      <td>Kitzbühel Rückkehr der Weißwurstparty in vor C...</td>\n",
              "      <td>sport</td>\n",
              "      <td>sport</td>\n",
              "    </tr>\n",
              "    <tr>\n",
              "      <th>953</th>\n",
              "      <td>NID_2023-01-20-21_9183</td>\n",
              "      <td>vor Duell gegen Bochum Herthas Trainer euphori...</td>\n",
              "      <td>sport</td>\n",
              "      <td>sport</td>\n",
              "    </tr>\n",
              "    <tr>\n",
              "      <th>...</th>\n",
              "      <td>...</td>\n",
              "      <td>...</td>\n",
              "      <td>...</td>\n",
              "      <td>...</td>\n",
              "    </tr>\n",
              "    <tr>\n",
              "      <th>985529</th>\n",
              "      <td>NID_2023-02-03-20_4508</td>\n",
              "      <td>Eurojackpot an der Freitag 03 02 2023 Gewinnza...</td>\n",
              "      <td>panorama</td>\n",
              "      <td>sonstiges</td>\n",
              "    </tr>\n",
              "    <tr>\n",
              "      <th>985530</th>\n",
              "      <td>NID_2023-02-03-20_6062</td>\n",
              "      <td>Groundhog Day Murmeltier sagen in USA sechs we...</td>\n",
              "      <td>panorama</td>\n",
              "      <td>sonstiges</td>\n",
              "    </tr>\n",
              "    <tr>\n",
              "      <th>985535</th>\n",
              "      <td>NID_2023-02-03-20_6435</td>\n",
              "      <td>Heidi Klum und Tom Kaulitz wollen sie ein geme...</td>\n",
              "      <td>unterhaltung</td>\n",
              "      <td>unterhaltung</td>\n",
              "    </tr>\n",
              "    <tr>\n",
              "      <th>985542</th>\n",
              "      <td>NID_2023-02-03-20_14365</td>\n",
              "      <td>Udo Lindenberg feiern erst Nummer ein Hit seit...</td>\n",
              "      <td>unterhaltung</td>\n",
              "      <td>unterhaltung</td>\n",
              "    </tr>\n",
              "    <tr>\n",
              "      <th>985653</th>\n",
              "      <td>NID_2023-02-03-21_15679</td>\n",
              "      <td>wenig Aktivist bei Demo in Berlin Luisa Neubau...</td>\n",
              "      <td>proteste</td>\n",
              "      <td>proteste</td>\n",
              "    </tr>\n",
              "  </tbody>\n",
              "</table>\n",
              "<p>12629 rows × 4 columns</p>\n",
              "</div>\n",
              "    <div class=\"colab-df-buttons\">\n",
              "\n",
              "  <div class=\"colab-df-container\">\n",
              "    <button class=\"colab-df-convert\" onclick=\"convertToInteractive('df-c6449c0b-c508-4f37-8833-a293bf328918')\"\n",
              "            title=\"Convert this dataframe to an interactive table.\"\n",
              "            style=\"display:none;\">\n",
              "\n",
              "  <svg xmlns=\"http://www.w3.org/2000/svg\" height=\"24px\" viewBox=\"0 -960 960 960\">\n",
              "    <path d=\"M120-120v-720h720v720H120Zm60-500h600v-160H180v160Zm220 220h160v-160H400v160Zm0 220h160v-160H400v160ZM180-400h160v-160H180v160Zm440 0h160v-160H620v160ZM180-180h160v-160H180v160Zm440 0h160v-160H620v160Z\"/>\n",
              "  </svg>\n",
              "    </button>\n",
              "\n",
              "  <style>\n",
              "    .colab-df-container {\n",
              "      display:flex;\n",
              "      gap: 12px;\n",
              "    }\n",
              "\n",
              "    .colab-df-convert {\n",
              "      background-color: #E8F0FE;\n",
              "      border: none;\n",
              "      border-radius: 50%;\n",
              "      cursor: pointer;\n",
              "      display: none;\n",
              "      fill: #1967D2;\n",
              "      height: 32px;\n",
              "      padding: 0 0 0 0;\n",
              "      width: 32px;\n",
              "    }\n",
              "\n",
              "    .colab-df-convert:hover {\n",
              "      background-color: #E2EBFA;\n",
              "      box-shadow: 0px 1px 2px rgba(60, 64, 67, 0.3), 0px 1px 3px 1px rgba(60, 64, 67, 0.15);\n",
              "      fill: #174EA6;\n",
              "    }\n",
              "\n",
              "    .colab-df-buttons div {\n",
              "      margin-bottom: 4px;\n",
              "    }\n",
              "\n",
              "    [theme=dark] .colab-df-convert {\n",
              "      background-color: #3B4455;\n",
              "      fill: #D2E3FC;\n",
              "    }\n",
              "\n",
              "    [theme=dark] .colab-df-convert:hover {\n",
              "      background-color: #434B5C;\n",
              "      box-shadow: 0px 1px 3px 1px rgba(0, 0, 0, 0.15);\n",
              "      filter: drop-shadow(0px 1px 2px rgba(0, 0, 0, 0.3));\n",
              "      fill: #FFFFFF;\n",
              "    }\n",
              "  </style>\n",
              "\n",
              "    <script>\n",
              "      const buttonEl =\n",
              "        document.querySelector('#df-c6449c0b-c508-4f37-8833-a293bf328918 button.colab-df-convert');\n",
              "      buttonEl.style.display =\n",
              "        google.colab.kernel.accessAllowed ? 'block' : 'none';\n",
              "\n",
              "      async function convertToInteractive(key) {\n",
              "        const element = document.querySelector('#df-c6449c0b-c508-4f37-8833-a293bf328918');\n",
              "        const dataTable =\n",
              "          await google.colab.kernel.invokeFunction('convertToInteractive',\n",
              "                                                    [key], {});\n",
              "        if (!dataTable) return;\n",
              "\n",
              "        const docLinkHtml = 'Like what you see? Visit the ' +\n",
              "          '<a target=\"_blank\" href=https://colab.research.google.com/notebooks/data_table.ipynb>data table notebook</a>'\n",
              "          + ' to learn more about interactive tables.';\n",
              "        element.innerHTML = '';\n",
              "        dataTable['output_type'] = 'display_data';\n",
              "        await google.colab.output.renderOutput(dataTable, element);\n",
              "        const docLink = document.createElement('div');\n",
              "        docLink.innerHTML = docLinkHtml;\n",
              "        element.appendChild(docLink);\n",
              "      }\n",
              "    </script>\n",
              "  </div>\n",
              "\n",
              "\n",
              "<div id=\"df-75732586-5917-4735-9327-62d96a98dad4\">\n",
              "  <button class=\"colab-df-quickchart\" onclick=\"quickchart('df-75732586-5917-4735-9327-62d96a98dad4')\"\n",
              "            title=\"Suggest charts\"\n",
              "            style=\"display:none;\">\n",
              "\n",
              "<svg xmlns=\"http://www.w3.org/2000/svg\" height=\"24px\"viewBox=\"0 0 24 24\"\n",
              "     width=\"24px\">\n",
              "    <g>\n",
              "        <path d=\"M19 3H5c-1.1 0-2 .9-2 2v14c0 1.1.9 2 2 2h14c1.1 0 2-.9 2-2V5c0-1.1-.9-2-2-2zM9 17H7v-7h2v7zm4 0h-2V7h2v10zm4 0h-2v-4h2v4z\"/>\n",
              "    </g>\n",
              "</svg>\n",
              "  </button>\n",
              "\n",
              "<style>\n",
              "  .colab-df-quickchart {\n",
              "      --bg-color: #E8F0FE;\n",
              "      --fill-color: #1967D2;\n",
              "      --hover-bg-color: #E2EBFA;\n",
              "      --hover-fill-color: #174EA6;\n",
              "      --disabled-fill-color: #AAA;\n",
              "      --disabled-bg-color: #DDD;\n",
              "  }\n",
              "\n",
              "  [theme=dark] .colab-df-quickchart {\n",
              "      --bg-color: #3B4455;\n",
              "      --fill-color: #D2E3FC;\n",
              "      --hover-bg-color: #434B5C;\n",
              "      --hover-fill-color: #FFFFFF;\n",
              "      --disabled-bg-color: #3B4455;\n",
              "      --disabled-fill-color: #666;\n",
              "  }\n",
              "\n",
              "  .colab-df-quickchart {\n",
              "    background-color: var(--bg-color);\n",
              "    border: none;\n",
              "    border-radius: 50%;\n",
              "    cursor: pointer;\n",
              "    display: none;\n",
              "    fill: var(--fill-color);\n",
              "    height: 32px;\n",
              "    padding: 0;\n",
              "    width: 32px;\n",
              "  }\n",
              "\n",
              "  .colab-df-quickchart:hover {\n",
              "    background-color: var(--hover-bg-color);\n",
              "    box-shadow: 0 1px 2px rgba(60, 64, 67, 0.3), 0 1px 3px 1px rgba(60, 64, 67, 0.15);\n",
              "    fill: var(--button-hover-fill-color);\n",
              "  }\n",
              "\n",
              "  .colab-df-quickchart-complete:disabled,\n",
              "  .colab-df-quickchart-complete:disabled:hover {\n",
              "    background-color: var(--disabled-bg-color);\n",
              "    fill: var(--disabled-fill-color);\n",
              "    box-shadow: none;\n",
              "  }\n",
              "\n",
              "  .colab-df-spinner {\n",
              "    border: 2px solid var(--fill-color);\n",
              "    border-color: transparent;\n",
              "    border-bottom-color: var(--fill-color);\n",
              "    animation:\n",
              "      spin 1s steps(1) infinite;\n",
              "  }\n",
              "\n",
              "  @keyframes spin {\n",
              "    0% {\n",
              "      border-color: transparent;\n",
              "      border-bottom-color: var(--fill-color);\n",
              "      border-left-color: var(--fill-color);\n",
              "    }\n",
              "    20% {\n",
              "      border-color: transparent;\n",
              "      border-left-color: var(--fill-color);\n",
              "      border-top-color: var(--fill-color);\n",
              "    }\n",
              "    30% {\n",
              "      border-color: transparent;\n",
              "      border-left-color: var(--fill-color);\n",
              "      border-top-color: var(--fill-color);\n",
              "      border-right-color: var(--fill-color);\n",
              "    }\n",
              "    40% {\n",
              "      border-color: transparent;\n",
              "      border-right-color: var(--fill-color);\n",
              "      border-top-color: var(--fill-color);\n",
              "    }\n",
              "    60% {\n",
              "      border-color: transparent;\n",
              "      border-right-color: var(--fill-color);\n",
              "    }\n",
              "    80% {\n",
              "      border-color: transparent;\n",
              "      border-right-color: var(--fill-color);\n",
              "      border-bottom-color: var(--fill-color);\n",
              "    }\n",
              "    90% {\n",
              "      border-color: transparent;\n",
              "      border-bottom-color: var(--fill-color);\n",
              "    }\n",
              "  }\n",
              "</style>\n",
              "\n",
              "  <script>\n",
              "    async function quickchart(key) {\n",
              "      const quickchartButtonEl =\n",
              "        document.querySelector('#' + key + ' button');\n",
              "      quickchartButtonEl.disabled = true;  // To prevent multiple clicks.\n",
              "      quickchartButtonEl.classList.add('colab-df-spinner');\n",
              "      try {\n",
              "        const charts = await google.colab.kernel.invokeFunction(\n",
              "            'suggestCharts', [key], {});\n",
              "      } catch (error) {\n",
              "        console.error('Error during call to suggestCharts:', error);\n",
              "      }\n",
              "      quickchartButtonEl.classList.remove('colab-df-spinner');\n",
              "      quickchartButtonEl.classList.add('colab-df-quickchart-complete');\n",
              "    }\n",
              "    (() => {\n",
              "      let quickchartButtonEl =\n",
              "        document.querySelector('#df-75732586-5917-4735-9327-62d96a98dad4 button');\n",
              "      quickchartButtonEl.style.display =\n",
              "        google.colab.kernel.accessAllowed ? 'block' : 'none';\n",
              "    })();\n",
              "  </script>\n",
              "</div>\n",
              "\n",
              "  <div id=\"id_7fe786c5-53ea-41c8-a42a-cd27643d4f74\">\n",
              "    <style>\n",
              "      .colab-df-generate {\n",
              "        background-color: #E8F0FE;\n",
              "        border: none;\n",
              "        border-radius: 50%;\n",
              "        cursor: pointer;\n",
              "        display: none;\n",
              "        fill: #1967D2;\n",
              "        height: 32px;\n",
              "        padding: 0 0 0 0;\n",
              "        width: 32px;\n",
              "      }\n",
              "\n",
              "      .colab-df-generate:hover {\n",
              "        background-color: #E2EBFA;\n",
              "        box-shadow: 0px 1px 2px rgba(60, 64, 67, 0.3), 0px 1px 3px 1px rgba(60, 64, 67, 0.15);\n",
              "        fill: #174EA6;\n",
              "      }\n",
              "\n",
              "      [theme=dark] .colab-df-generate {\n",
              "        background-color: #3B4455;\n",
              "        fill: #D2E3FC;\n",
              "      }\n",
              "\n",
              "      [theme=dark] .colab-df-generate:hover {\n",
              "        background-color: #434B5C;\n",
              "        box-shadow: 0px 1px 3px 1px rgba(0, 0, 0, 0.15);\n",
              "        filter: drop-shadow(0px 1px 2px rgba(0, 0, 0, 0.3));\n",
              "        fill: #FFFFFF;\n",
              "      }\n",
              "    </style>\n",
              "    <button class=\"colab-df-generate\" onclick=\"generateWithVariable('df')\"\n",
              "            title=\"Generate code using this dataframe.\"\n",
              "            style=\"display:none;\">\n",
              "\n",
              "  <svg xmlns=\"http://www.w3.org/2000/svg\" height=\"24px\"viewBox=\"0 0 24 24\"\n",
              "       width=\"24px\">\n",
              "    <path d=\"M7,19H8.4L18.45,9,17,7.55,7,17.6ZM5,21V16.75L18.45,3.32a2,2,0,0,1,2.83,0l1.4,1.43a1.91,1.91,0,0,1,.58,1.4,1.91,1.91,0,0,1-.58,1.4L9.25,21ZM18.45,9,17,7.55Zm-12,3A5.31,5.31,0,0,0,4.9,8.1,5.31,5.31,0,0,0,1,6.5,5.31,5.31,0,0,0,4.9,4.9,5.31,5.31,0,0,0,6.5,1,5.31,5.31,0,0,0,8.1,4.9,5.31,5.31,0,0,0,12,6.5,5.46,5.46,0,0,0,6.5,12Z\"/>\n",
              "  </svg>\n",
              "    </button>\n",
              "    <script>\n",
              "      (() => {\n",
              "      const buttonEl =\n",
              "        document.querySelector('#id_7fe786c5-53ea-41c8-a42a-cd27643d4f74 button.colab-df-generate');\n",
              "      buttonEl.style.display =\n",
              "        google.colab.kernel.accessAllowed ? 'block' : 'none';\n",
              "\n",
              "      buttonEl.onclick = () => {\n",
              "        google.colab.notebook.generateWithVariable('df');\n",
              "      }\n",
              "      })();\n",
              "    </script>\n",
              "  </div>\n",
              "\n",
              "    </div>\n",
              "  </div>\n"
            ],
            "application/vnd.google.colaboratory.intrinsic+json": {
              "type": "dataframe",
              "variable_name": "df",
              "summary": "{\n  \"name\": \"df\",\n  \"rows\": 12629,\n  \"fields\": [\n    {\n      \"column\": \"new_number\",\n      \"properties\": {\n        \"dtype\": \"string\",\n        \"num_unique_values\": 11614,\n        \"samples\": [\n          \"NID_2023-02-23-19_16361\",\n          \"NID_2023-01-18-15_11462\",\n          \"NID_2023-02-19-15_139\"\n        ],\n        \"semantic_type\": \"\",\n        \"description\": \"\"\n      }\n    },\n    {\n      \"column\": \"news_text\",\n      \"properties\": {\n        \"dtype\": \"string\",\n        \"num_unique_values\": 11342,\n        \"samples\": [\n          \"BILDplus Inhalt Dschungelcamper Cosimo Citiolo So dringend brauchen er der Busch Kohle d Checker von der Neckar verraten er brauchen der Dschungelcamp Kohle Foto cosimoofficial Instagram\",\n          \"Jens Spahn trennen er|es|sie von Millione Villa sein von Anfang an ein Fehler Jens Spahn haben sein Millionenvilla verkaufen Gl\\u00fcck bringen haben sie er nicht der ganz Geschichte von Anfang an ein Fehler\",\n          \"Frankfurt Riederwald Kleing\\u00e4rtner Demo gegen europ\\u00e4isch Schule 120 Laubenpieper demonstrieren in Frankfurt f\\u00fcr der Erhalt von 44 Kleingarten Foto Bernd Kammerer\"\n        ],\n        \"semantic_type\": \"\",\n        \"description\": \"\"\n      }\n    },\n    {\n      \"column\": \"category\",\n      \"properties\": {\n        \"dtype\": \"category\",\n        \"num_unique_values\": 264,\n        \"samples\": [\n          \"baby\",\n          \"rechtsextremismus\",\n          \"wahlen\"\n        ],\n        \"semantic_type\": \"\",\n        \"description\": \"\"\n      }\n    },\n    {\n      \"column\": \"cat-l3\",\n      \"properties\": {\n        \"dtype\": \"category\",\n        \"num_unique_values\": 105,\n        \"samples\": [\n          \"demonstration\",\n          \"zdf\",\n          \"kino\"\n        ],\n        \"semantic_type\": \"\",\n        \"description\": \"\"\n      }\n    }\n  ]\n}"
            }
          },
          "metadata": {},
          "execution_count": 16
        }
      ]
    },
    {
      "cell_type": "markdown",
      "source": [
        "Load and preprocess the updated file with the aggregated categories"
      ],
      "metadata": {
        "id": "1DE35QfirivW"
      }
    },
    {
      "cell_type": "code",
      "source": [
        "# Load the dataset\n",
        "df = pd.read_csv('/content/drive/MyDrive/DAT620/new_data_updated.csv')\n",
        "\n",
        "df.columns = [\"new_number\", \"news_text\", \"category\", \"cat-l3\"]\n",
        "\n",
        "# Drop rows with missing values\n",
        "df = df.dropna(subset=[\"news_text\", \"cat-l3\"])\n",
        "\n",
        "X = df[\"news_text\"].values\n",
        "y = df[\"cat-l3\"].values\n",
        "\n",
        "X_train, X_test, y_train, y_test = train_test_split(X, y,\n",
        "                                                    test_size=0.2,\n",
        "                                                    random_state=42)\n"
      ],
      "metadata": {
        "id": "lS6iZ7HrvfeW"
      },
      "execution_count": null,
      "outputs": []
    },
    {
      "cell_type": "code",
      "source": [
        "# Get the unique number of classes in the cat-l3 column\n",
        "unique_classes = len(set(y))\n",
        "\n",
        "print(f\"Number of unique classes in cat-l3: {unique_classes}\")"
      ],
      "metadata": {
        "colab": {
          "base_uri": "https://localhost:8080/"
        },
        "id": "xbkorkItCSj6",
        "outputId": "c5f2b254-4aaf-4ec8-b543-9eaf4182726f"
      },
      "execution_count": null,
      "outputs": [
        {
          "output_type": "stream",
          "name": "stdout",
          "text": [
            "Number of unique classes in cat-l3: 105\n"
          ]
        }
      ]
    },
    {
      "cell_type": "markdown",
      "source": [
        "Get the top 30 Categories"
      ],
      "metadata": {
        "id": "G9NKHTXkruMk"
      }
    },
    {
      "cell_type": "code",
      "source": [
        "# Filter to top 30 most frequent classes\n",
        "class_counts = Counter(y_train)\n",
        "top_30_classes = [cls for cls, count in class_counts.most_common(30)]\n",
        "\n",
        "train_mask = np.array([label in top_30_classes for label in y_train])\n",
        "test_mask = np.array([label in top_30_classes for label in y_test])\n",
        "\n",
        "X_train_filtered = X_train[train_mask]\n",
        "y_train_filtered = y_train[train_mask]\n",
        "X_test_filtered = X_test[test_mask]\n",
        "y_test_filtered = y_test[test_mask]\n",
        "\n",
        "print(\"Training samples after filtering:\", len(X_train_filtered))\n",
        "print(\"Test samples after filtering:\", len(X_test_filtered))\n",
        "print(\"Unique classes after filtering:\", len(np.unique(y_train_filtered)))"
      ],
      "metadata": {
        "colab": {
          "base_uri": "https://localhost:8080/"
        },
        "id": "rdcVESV9vqMQ",
        "outputId": "33a8a405-452e-4ee7-e455-952f0fbeb3b1"
      },
      "execution_count": null,
      "outputs": [
        {
          "output_type": "stream",
          "name": "stdout",
          "text": [
            "Training samples after filtering: 9612\n",
            "Test samples after filtering: 2410\n",
            "Unique classes after filtering: 30\n"
          ]
        }
      ]
    },
    {
      "cell_type": "markdown",
      "source": [
        "Feature engineering using TF-IDF"
      ],
      "metadata": {
        "id": "njuGL6RYrz5k"
      }
    },
    {
      "cell_type": "code",
      "source": [
        "# Create TF-IDF features on the filtered dataset\n",
        "import nltk\n",
        "nltk.download('stopwords')\n",
        "from nltk.corpus import stopwords\n",
        "from sklearn.feature_extraction.text import TfidfVectorizer\n",
        "\n",
        "german_stopwords = stopwords.words('german')\n",
        "\n",
        "tfidf = TfidfVectorizer(\n",
        "    max_features=10000,\n",
        "    ngram_range=(1,2),\n",
        "    stop_words=german_stopwords\n",
        ")\n",
        "\n",
        "X_train_tfidf = tfidf.fit_transform(X_train_filtered)\n",
        "X_test_tfidf = tfidf.transform(X_test_filtered)\n",
        "\n",
        "print(\"X_train_tfidf shape:\", X_train_tfidf.shape)"
      ],
      "metadata": {
        "colab": {
          "base_uri": "https://localhost:8080/"
        },
        "id": "ovKkhIyhv64B",
        "outputId": "25678f75-7264-447a-e043-110c90f928e1"
      },
      "execution_count": null,
      "outputs": [
        {
          "output_type": "stream",
          "name": "stderr",
          "text": [
            "[nltk_data] Downloading package stopwords to /root/nltk_data...\n",
            "[nltk_data]   Unzipping corpora/stopwords.zip.\n"
          ]
        },
        {
          "output_type": "stream",
          "name": "stdout",
          "text": [
            "X_train_tfidf shape: (9612, 10000)\n"
          ]
        }
      ]
    },
    {
      "cell_type": "code",
      "source": [
        "# Encode labels\n",
        "le = LabelEncoder()\n",
        "y_train_le = le.fit_transform(y_train_filtered)\n",
        "y_test_le = le.transform(y_test_filtered)\n",
        "\n",
        "# Save the label encoder\n",
        "joblib.dump(le, \"/content/drive/MyDrive/DAT620/label_encoder.joblib\")"
      ],
      "metadata": {
        "colab": {
          "base_uri": "https://localhost:8080/"
        },
        "id": "nLa0rAxHwYB6",
        "outputId": "ddabfc6d-612d-4fa4-e1b8-a552de306a26"
      },
      "execution_count": null,
      "outputs": [
        {
          "output_type": "execute_result",
          "data": {
            "text/plain": [
              "['/content/drive/MyDrive/DAT620/label_encoder.joblib']"
            ]
          },
          "metadata": {},
          "execution_count": 6
        }
      ]
    },
    {
      "cell_type": "markdown",
      "source": [
        "Train Classical machine learning models on the data"
      ],
      "metadata": {
        "id": "nLzrPLBMr6RB"
      }
    },
    {
      "cell_type": "code",
      "source": [
        "# Train and Evaluate Logistic Regression\n",
        "log_reg = LogisticRegression(max_iter=1000, random_state=42)\n",
        "start_time = time.time()\n",
        "log_reg.fit(X_train_tfidf, y_train_le)\n",
        "train_time = time.time() - start_time\n",
        "\n",
        "y_pred_lr = log_reg.predict(X_test_tfidf)\n",
        "acc_lr = accuracy_score(y_test_le, y_pred_lr)\n",
        "print(\"Model: LogisticRegression\")\n",
        "print(f\"Training Time: {train_time:.2f} seconds\")\n",
        "print(\"Accuracy: {:.4f}\".format(acc_lr))\n",
        "print(classification_report(y_test_filtered, le.inverse_transform(y_pred_lr)))\n",
        "\n",
        "# Save the model\n",
        "joblib.dump(log_reg, \"/content/drive/MyDrive/DAT620/logistic_regression_model.joblib\")"
      ],
      "metadata": {
        "colab": {
          "base_uri": "https://localhost:8080/"
        },
        "id": "yeqbX2SBwdky",
        "outputId": "a5d202f6-6c0e-41ef-8de6-1a334c4e7fe2"
      },
      "execution_count": null,
      "outputs": [
        {
          "output_type": "stream",
          "name": "stdout",
          "text": [
            "Model: LogisticRegression\n",
            "Training Time: 12.51 seconds\n",
            "Accuracy: 0.7660\n",
            "               precision    recall  f1-score   support\n",
            "\n",
            "         asyl       0.00      0.00      0.00        11\n",
            "         auto       0.92      0.68      0.78        71\n",
            "demonstration       0.12      0.04      0.06        24\n",
            "      familie       0.00      0.00      0.00        13\n",
            "    fernsehen       0.94      0.73      0.82        45\n",
            "   gesundheit       1.00      0.18      0.30        17\n",
            "       gruene       0.00      0.00      0.00         6\n",
            "     karneval       0.90      0.66      0.76        68\n",
            "        klima       0.60      0.20      0.30        15\n",
            "    konflikte       0.00      0.00      0.00        11\n",
            "        krieg       0.00      0.00      0.00         7\n",
            "kriminalitaet       0.79      0.74      0.76       120\n",
            "        leben       1.00      0.12      0.22        32\n",
            "        leute       0.00      0.00      0.00        12\n",
            "    migration       0.50      0.11      0.18         9\n",
            "       museum       0.00      0.00      0.00         9\n",
            "      netflix       1.00      0.50      0.67         8\n",
            "      politik       0.70      0.91      0.79       456\n",
            "      polizei       0.67      0.66      0.67        89\n",
            "     proteste       0.45      0.48      0.47        21\n",
            "        recht       0.65      0.48      0.55        23\n",
            "    sonstiges       0.57      0.75      0.65       192\n",
            "        sport       0.88      0.97      0.92       530\n",
            "      technik       0.84      0.63      0.72       110\n",
            "       unfall       1.00      0.05      0.10        20\n",
            " unterhaltung       0.79      0.96      0.86       348\n",
            "      verkehr       0.72      0.42      0.53        31\n",
            "       wetter       0.91      0.31      0.47        32\n",
            "   wirtschaft       0.76      0.58      0.66        65\n",
            " wissenschaft       0.00      0.00      0.00        15\n",
            "\n",
            "     accuracy                           0.77      2410\n",
            "    macro avg       0.56      0.37      0.41      2410\n",
            " weighted avg       0.75      0.77      0.74      2410\n",
            "\n"
          ]
        },
        {
          "output_type": "stream",
          "name": "stderr",
          "text": [
            "/usr/local/lib/python3.10/dist-packages/sklearn/metrics/_classification.py:1531: UndefinedMetricWarning: Precision is ill-defined and being set to 0.0 in labels with no predicted samples. Use `zero_division` parameter to control this behavior.\n",
            "  _warn_prf(average, modifier, f\"{metric.capitalize()} is\", len(result))\n",
            "/usr/local/lib/python3.10/dist-packages/sklearn/metrics/_classification.py:1531: UndefinedMetricWarning: Precision is ill-defined and being set to 0.0 in labels with no predicted samples. Use `zero_division` parameter to control this behavior.\n",
            "  _warn_prf(average, modifier, f\"{metric.capitalize()} is\", len(result))\n",
            "/usr/local/lib/python3.10/dist-packages/sklearn/metrics/_classification.py:1531: UndefinedMetricWarning: Precision is ill-defined and being set to 0.0 in labels with no predicted samples. Use `zero_division` parameter to control this behavior.\n",
            "  _warn_prf(average, modifier, f\"{metric.capitalize()} is\", len(result))\n"
          ]
        },
        {
          "output_type": "execute_result",
          "data": {
            "text/plain": [
              "['/content/drive/MyDrive/DAT620/logistic_regression_model.joblib']"
            ]
          },
          "metadata": {},
          "execution_count": 23
        }
      ]
    },
    {
      "cell_type": "code",
      "source": [
        "# Train and Evaluate Random Forest\n",
        "rf = RandomForestClassifier(n_estimators=100, random_state=42)\n",
        "start_time = time.time()\n",
        "rf.fit(X_train_tfidf, y_train_le)\n",
        "train_time = time.time() - start_time\n",
        "\n",
        "y_pred_rf = rf.predict(X_test_tfidf)\n",
        "acc_rf = accuracy_score(y_test_le, y_pred_rf)\n",
        "print(\"Model: RandomForest\")\n",
        "print(f\"Training Time: {train_time:.2f} seconds\")\n",
        "print(\"Accuracy: {:.4f}\".format(acc_rf))\n",
        "print(classification_report(y_test_filtered, le.inverse_transform(y_pred_rf)))\n",
        "\n",
        "# Save the model\n",
        "joblib.dump(rf, \"/content/drive/MyDrive/DAT620/random_forest_model.joblib\")"
      ],
      "metadata": {
        "colab": {
          "base_uri": "https://localhost:8080/"
        },
        "id": "YhkkDSJfwklz",
        "outputId": "3fd33a52-24d5-4922-f0bf-795610a96861"
      },
      "execution_count": null,
      "outputs": [
        {
          "output_type": "stream",
          "name": "stdout",
          "text": [
            "Model: RandomForest\n",
            "Training Time: 16.63 seconds\n",
            "Accuracy: 0.7714\n",
            "               precision    recall  f1-score   support\n",
            "\n",
            "         asyl       0.50      0.27      0.35        11\n",
            "         auto       0.75      0.70      0.72        71\n",
            "demonstration       0.17      0.08      0.11        24\n",
            "      familie       0.73      0.62      0.67        13\n",
            "    fernsehen       0.92      0.80      0.86        45\n",
            "   gesundheit       0.55      0.35      0.43        17\n",
            "       gruene       0.57      0.67      0.62         6\n",
            "     karneval       0.68      0.69      0.69        68\n",
            "        klima       0.50      0.33      0.40        15\n",
            "    konflikte       0.00      0.00      0.00        11\n",
            "        krieg       0.00      0.00      0.00         7\n",
            "kriminalitaet       0.79      0.74      0.77       120\n",
            "        leben       0.88      0.44      0.58        32\n",
            "        leute       0.00      0.00      0.00        12\n",
            "    migration       0.25      0.22      0.24         9\n",
            "       museum       1.00      0.11      0.20         9\n",
            "      netflix       1.00      0.50      0.67         8\n",
            "      politik       0.77      0.87      0.82       456\n",
            "      polizei       0.61      0.70      0.65        89\n",
            "     proteste       0.46      0.57      0.51        21\n",
            "        recht       0.43      0.39      0.41        23\n",
            "    sonstiges       0.68      0.73      0.71       192\n",
            "        sport       0.94      0.93      0.94       530\n",
            "      technik       0.81      0.61      0.69       110\n",
            "       unfall       0.50      0.15      0.23        20\n",
            " unterhaltung       0.76      0.91      0.83       348\n",
            "      verkehr       0.70      0.61      0.66        31\n",
            "       wetter       0.73      0.59      0.66        32\n",
            "   wirtschaft       0.73      0.66      0.69        65\n",
            " wissenschaft       0.50      0.13      0.21        15\n",
            "\n",
            "     accuracy                           0.77      2410\n",
            "    macro avg       0.60      0.48      0.51      2410\n",
            " weighted avg       0.76      0.77      0.76      2410\n",
            "\n"
          ]
        },
        {
          "output_type": "execute_result",
          "data": {
            "text/plain": [
              "['/content/drive/MyDrive/DAT620/random_forest_model.joblib']"
            ]
          },
          "metadata": {},
          "execution_count": 9
        }
      ]
    },
    {
      "cell_type": "code",
      "source": [
        "# Train and Evaluate XGBoost\n",
        "xgb_clf = xgb.XGBClassifier(\n",
        "    use_label_encoder=False,\n",
        "    eval_metric='mlogloss',\n",
        "    random_state=42,\n",
        ")\n",
        "\n",
        "start_time = time.time()\n",
        "xgb_clf.fit(X_train_tfidf, y_train_le)\n",
        "train_time = time.time() - start_time\n",
        "\n",
        "y_pred_xgb = xgb_clf.predict(X_test_tfidf)\n",
        "acc_xgb = accuracy_score(y_test_le, y_pred_xgb)\n",
        "print(\"Model: XGBoost (GPU Hist)\")\n",
        "print(f\"Training Time: {train_time:.2f} seconds\")\n",
        "print(\"Accuracy: {:.4f}\".format(acc_xgb))\n",
        "print(classification_report(y_test_filtered, le.inverse_transform(y_pred_xgb)))\n",
        "\n",
        "# Save the model\n",
        "joblib.dump(xgb_clf, \"/content/drive/MyDrive/DAT620/xgboost_model.joblib\")"
      ],
      "metadata": {
        "colab": {
          "base_uri": "https://localhost:8080/"
        },
        "id": "rMBXmLlXwrDM",
        "outputId": "a5081950-dab1-4636-8a2d-be23ad2cc5ab"
      },
      "execution_count": null,
      "outputs": [
        {
          "output_type": "stream",
          "name": "stderr",
          "text": [
            "/usr/local/lib/python3.10/dist-packages/xgboost/core.py:158: UserWarning: [09:13:21] WARNING: /workspace/src/learner.cc:740: \n",
            "Parameters: { \"use_label_encoder\" } are not used.\n",
            "\n",
            "  warnings.warn(smsg, UserWarning)\n"
          ]
        },
        {
          "output_type": "stream",
          "name": "stdout",
          "text": [
            "Model: XGBoost (GPU Hist)\n",
            "Training Time: 41.30 seconds\n",
            "Accuracy: 0.7635\n",
            "               precision    recall  f1-score   support\n",
            "\n",
            "         asyl       0.25      0.09      0.13        11\n",
            "         auto       0.73      0.65      0.69        71\n",
            "demonstration       0.24      0.17      0.20        24\n",
            "      familie       0.67      0.46      0.55        13\n",
            "    fernsehen       0.87      0.76      0.81        45\n",
            "   gesundheit       0.53      0.53      0.53        17\n",
            "       gruene       1.00      0.50      0.67         6\n",
            "     karneval       0.75      0.76      0.76        68\n",
            "        klima       0.50      0.47      0.48        15\n",
            "    konflikte       0.00      0.00      0.00        11\n",
            "        krieg       0.00      0.00      0.00         7\n",
            "kriminalitaet       0.77      0.75      0.76       120\n",
            "        leben       0.73      0.50      0.59        32\n",
            "        leute       0.00      0.00      0.00        12\n",
            "    migration       0.30      0.33      0.32         9\n",
            "       museum       1.00      0.22      0.36         9\n",
            "      netflix       0.67      0.50      0.57         8\n",
            "      politik       0.76      0.85      0.80       456\n",
            "      polizei       0.66      0.71      0.68        89\n",
            "     proteste       0.45      0.43      0.44        21\n",
            "        recht       0.43      0.39      0.41        23\n",
            "    sonstiges       0.58      0.73      0.65       192\n",
            "        sport       0.95      0.93      0.94       530\n",
            "      technik       0.69      0.59      0.64       110\n",
            "       unfall       0.50      0.25      0.33        20\n",
            " unterhaltung       0.84      0.89      0.86       348\n",
            "      verkehr       0.66      0.68      0.67        31\n",
            "       wetter       0.68      0.53      0.60        32\n",
            "   wirtschaft       0.74      0.62      0.67        65\n",
            " wissenschaft       0.20      0.07      0.10        15\n",
            "\n",
            "     accuracy                           0.76      2410\n",
            "    macro avg       0.57      0.48      0.51      2410\n",
            " weighted avg       0.76      0.76      0.76      2410\n",
            "\n"
          ]
        },
        {
          "output_type": "execute_result",
          "data": {
            "text/plain": [
              "['/content/drive/MyDrive/DAT620/xgboost_model.joblib']"
            ]
          },
          "metadata": {},
          "execution_count": 24
        }
      ]
    },
    {
      "cell_type": "code",
      "source": [
        "from sklearn.neighbors import KNeighborsClassifier\n",
        "from sklearn.metrics import classification_report, accuracy_score\n",
        "import time\n",
        "\n",
        "# Train and Evaluate KNN\n",
        "knn = KNeighborsClassifier(n_neighbors=5)\n",
        "start_time = time.time()\n",
        "knn.fit(X_train_tfidf, y_train_le)\n",
        "train_time = time.time() - start_time\n",
        "\n",
        "y_pred_knn = knn.predict(X_test_tfidf)\n",
        "acc_knn = accuracy_score(y_test_le, y_pred_knn)\n",
        "print(\"\\nModel: K-Nearest Neighbors\")\n",
        "print(f\"Training Time: {train_time:.2f} seconds\")\n",
        "print(\"Accuracy: {:.4f}\".format(acc_knn))\n",
        "print(classification_report(y_test_filtered, le.inverse_transform(y_pred_knn)))\n",
        "\n",
        "# Save the model\n",
        "joblib.dump(knn, \"/content/drive/MyDrive/DAT620/knn_model.joblib\")"
      ],
      "metadata": {
        "colab": {
          "base_uri": "https://localhost:8080/"
        },
        "id": "aP1YRNX9PjdC",
        "outputId": "3f8a4b50-657e-4f62-defc-62045ddf6192"
      },
      "execution_count": null,
      "outputs": [
        {
          "output_type": "stream",
          "name": "stdout",
          "text": [
            "\n",
            "Model: K-Nearest Neighbors\n",
            "Training Time: 0.00 seconds\n",
            "Accuracy: 0.7203\n",
            "               precision    recall  f1-score   support\n",
            "\n",
            "         asyl       0.31      0.45      0.37        11\n",
            "         auto       0.60      0.72      0.65        71\n",
            "demonstration       0.24      0.33      0.28        24\n",
            "      familie       0.50      0.31      0.38        13\n",
            "    fernsehen       0.63      0.53      0.58        45\n",
            "   gesundheit       0.30      0.41      0.35        17\n",
            "       gruene       0.25      0.33      0.29         6\n",
            "     karneval       0.67      0.69      0.68        68\n",
            "        klima       0.20      0.20      0.20        15\n",
            "    konflikte       0.14      0.09      0.11        11\n",
            "        krieg       0.00      0.00      0.00         7\n",
            "kriminalitaet       0.61      0.69      0.65       120\n",
            "        leben       0.74      0.44      0.55        32\n",
            "        leute       0.00      0.00      0.00        12\n",
            "    migration       0.33      0.22      0.27         9\n",
            "       museum       0.40      0.22      0.29         9\n",
            "      netflix       0.83      0.62      0.71         8\n",
            "      politik       0.76      0.80      0.78       456\n",
            "      polizei       0.62      0.47      0.54        89\n",
            "     proteste       0.44      0.33      0.38        21\n",
            "        recht       0.61      0.48      0.54        23\n",
            "    sonstiges       0.57      0.55      0.56       192\n",
            "        sport       0.93      0.91      0.92       530\n",
            "      technik       0.74      0.65      0.69       110\n",
            "       unfall       0.56      0.25      0.34        20\n",
            " unterhaltung       0.74      0.91      0.82       348\n",
            "      verkehr       0.65      0.55      0.60        31\n",
            "       wetter       0.67      0.56      0.61        32\n",
            "   wirtschaft       0.67      0.60      0.63        65\n",
            " wissenschaft       0.50      0.07      0.12        15\n",
            "\n",
            "     accuracy                           0.72      2410\n",
            "    macro avg       0.51      0.45      0.46      2410\n",
            " weighted avg       0.71      0.72      0.71      2410\n",
            "\n"
          ]
        },
        {
          "output_type": "stream",
          "name": "stderr",
          "text": [
            "/usr/local/lib/python3.10/dist-packages/sklearn/metrics/_classification.py:1531: UndefinedMetricWarning: Precision is ill-defined and being set to 0.0 in labels with no predicted samples. Use `zero_division` parameter to control this behavior.\n",
            "  _warn_prf(average, modifier, f\"{metric.capitalize()} is\", len(result))\n",
            "/usr/local/lib/python3.10/dist-packages/sklearn/metrics/_classification.py:1531: UndefinedMetricWarning: Precision is ill-defined and being set to 0.0 in labels with no predicted samples. Use `zero_division` parameter to control this behavior.\n",
            "  _warn_prf(average, modifier, f\"{metric.capitalize()} is\", len(result))\n",
            "/usr/local/lib/python3.10/dist-packages/sklearn/metrics/_classification.py:1531: UndefinedMetricWarning: Precision is ill-defined and being set to 0.0 in labels with no predicted samples. Use `zero_division` parameter to control this behavior.\n",
            "  _warn_prf(average, modifier, f\"{metric.capitalize()} is\", len(result))\n"
          ]
        },
        {
          "output_type": "execute_result",
          "data": {
            "text/plain": [
              "['/content/drive/MyDrive/DAT620/knn_model.joblib']"
            ]
          },
          "metadata": {},
          "execution_count": 10
        }
      ]
    },
    {
      "cell_type": "code",
      "source": [
        "from sklearn.svm import SVC\n",
        "\n",
        "# Train and Evaluate SVM\n",
        "svm = SVC(kernel=\"linear\", random_state=42)\n",
        "start_time = time.time()\n",
        "svm.fit(X_train_tfidf, y_train_le)\n",
        "train_time = time.time() - start_time\n",
        "\n",
        "y_pred_svm = svm.predict(X_test_tfidf)\n",
        "acc_svm = accuracy_score(y_test_le, y_pred_svm)\n",
        "print(\"\\nModel: Support Vector Machine (SVM)\")\n",
        "print(f\"Training Time: {train_time:.2f} seconds\")\n",
        "print(\"Accuracy: {:.4f}\".format(acc_svm))\n",
        "print(classification_report(y_test_filtered, le.inverse_transform(y_pred_svm)))\n",
        "\n",
        "# Save the model\n",
        "joblib.dump(svm, \"/content/drive/MyDrive/DAT620/svm_model.joblib\")"
      ],
      "metadata": {
        "colab": {
          "base_uri": "https://localhost:8080/"
        },
        "id": "wo_IdqVEPq_K",
        "outputId": "119f6c15-8afe-4f50-ff9b-bc90885930f0"
      },
      "execution_count": null,
      "outputs": [
        {
          "output_type": "stream",
          "name": "stdout",
          "text": [
            "\n",
            "Model: Support Vector Machine (SVM)\n",
            "Training Time: 18.87 seconds\n",
            "Accuracy: 0.8120\n",
            "               precision    recall  f1-score   support\n",
            "\n",
            "         asyl       0.67      0.55      0.60        11\n",
            "         auto       0.88      0.79      0.83        71\n",
            "demonstration       0.25      0.12      0.17        24\n",
            "      familie       0.71      0.38      0.50        13\n",
            "    fernsehen       0.88      0.84      0.86        45\n",
            "   gesundheit       0.67      0.35      0.46        17\n",
            "       gruene       0.00      0.00      0.00         6\n",
            "     karneval       0.90      0.78      0.83        68\n",
            "        klima       0.50      0.40      0.44        15\n",
            "    konflikte       0.00      0.00      0.00        11\n",
            "        krieg       0.00      0.00      0.00         7\n",
            "kriminalitaet       0.82      0.78      0.80       120\n",
            "        leben       0.88      0.47      0.61        32\n",
            "        leute       0.00      0.00      0.00        12\n",
            "    migration       0.33      0.22      0.27         9\n",
            "       museum       1.00      0.44      0.62         9\n",
            "      netflix       1.00      0.75      0.86         8\n",
            "      politik       0.76      0.90      0.82       456\n",
            "      polizei       0.76      0.67      0.71        89\n",
            "     proteste       0.48      0.57      0.52        21\n",
            "        recht       0.54      0.61      0.57        23\n",
            "    sonstiges       0.63      0.79      0.70       192\n",
            "        sport       0.96      0.96      0.96       530\n",
            "      technik       0.80      0.70      0.75       110\n",
            "       unfall       0.70      0.35      0.47        20\n",
            " unterhaltung       0.86      0.95      0.90       348\n",
            "      verkehr       0.81      0.71      0.76        31\n",
            "       wetter       0.73      0.59      0.66        32\n",
            "   wirtschaft       0.83      0.69      0.76        65\n",
            " wissenschaft       0.33      0.07      0.11        15\n",
            "\n",
            "     accuracy                           0.81      2410\n",
            "    macro avg       0.62      0.52      0.55      2410\n",
            " weighted avg       0.80      0.81      0.80      2410\n",
            "\n"
          ]
        },
        {
          "output_type": "stream",
          "name": "stderr",
          "text": [
            "/usr/local/lib/python3.10/dist-packages/sklearn/metrics/_classification.py:1531: UndefinedMetricWarning: Precision is ill-defined and being set to 0.0 in labels with no predicted samples. Use `zero_division` parameter to control this behavior.\n",
            "  _warn_prf(average, modifier, f\"{metric.capitalize()} is\", len(result))\n",
            "/usr/local/lib/python3.10/dist-packages/sklearn/metrics/_classification.py:1531: UndefinedMetricWarning: Precision is ill-defined and being set to 0.0 in labels with no predicted samples. Use `zero_division` parameter to control this behavior.\n",
            "  _warn_prf(average, modifier, f\"{metric.capitalize()} is\", len(result))\n",
            "/usr/local/lib/python3.10/dist-packages/sklearn/metrics/_classification.py:1531: UndefinedMetricWarning: Precision is ill-defined and being set to 0.0 in labels with no predicted samples. Use `zero_division` parameter to control this behavior.\n",
            "  _warn_prf(average, modifier, f\"{metric.capitalize()} is\", len(result))\n"
          ]
        },
        {
          "output_type": "execute_result",
          "data": {
            "text/plain": [
              "['/content/drive/MyDrive/DAT620/svm_model.joblib']"
            ]
          },
          "metadata": {},
          "execution_count": 11
        }
      ]
    },
    {
      "cell_type": "markdown",
      "source": [
        "Load the saved models and get the accuracy on the test set"
      ],
      "metadata": {
        "id": "I0l7rD3usPVO"
      }
    },
    {
      "cell_type": "code",
      "source": [
        "import joblib\n",
        "from sklearn.metrics import classification_report, accuracy_score\n",
        "\n",
        "# Load the models and label encoder\n",
        "log_reg = joblib.load(\"/content/drive/MyDrive/DAT620/logistic_regression_model.joblib\")\n",
        "rf = joblib.load(\"/content/drive/MyDrive/DAT620/random_forest_model.joblib\")\n",
        "xgb_clf = joblib.load(\"/content/drive/MyDrive/DAT620/xgboost_model.joblib\")\n",
        "knn = joblib.load(\"/content/drive/MyDrive/DAT620/knn_model.joblib\")\n",
        "svm = joblib.load(\"/content/drive/MyDrive/DAT620/svm_model.joblib\")\n",
        "le = joblib.load(\"/content/drive/MyDrive/DAT620/label_encoder.joblib\")\n",
        "\n",
        "# Evaluate Logistic Regression\n",
        "y_pred_lr = log_reg.predict(X_test_tfidf)\n",
        "acc_lr = accuracy_score(y_test_le, y_pred_lr)\n",
        "print(\"\\nLoaded LogisticRegression model accuracy:\", acc_lr)\n",
        "print(classification_report(y_test_filtered, le.inverse_transform(y_pred_lr)))\n",
        "\n",
        "# Evaluate Random Forest\n",
        "y_pred_rf = rf.predict(X_test_tfidf)\n",
        "acc_rf = accuracy_score(y_test_le, y_pred_rf)\n",
        "print(\"\\nLoaded RandomForest model accuracy:\", acc_rf)\n",
        "print(classification_report(y_test_filtered, le.inverse_transform(y_pred_rf)))\n",
        "\n",
        "# Evaluate XGBoost\n",
        "y_pred_xgb = xgb_clf.predict(X_test_tfidf)\n",
        "acc_xgb = accuracy_score(y_test_le, y_pred_xgb)\n",
        "print(\"\\nLoaded XGBoost model accuracy:\", acc_xgb)\n",
        "print(classification_report(y_test_filtered, le.inverse_transform(y_pred_xgb)))\n",
        "\n",
        "# Evaluate KNN\n",
        "y_pred_knn = knn.predict(X_test_tfidf)\n",
        "acc_knn = accuracy_score(y_test_le, y_pred_knn)\n",
        "print(\"\\nLoaded KNN model accuracy:\", acc_knn)\n",
        "print(classification_report(y_test_filtered, le.inverse_transform(y_pred_knn)))\n",
        "\n",
        "# Evaluate SVM\n",
        "y_pred_svm = svm.predict(X_test_tfidf)\n",
        "acc_svm = accuracy_score(y_test_le, y_pred_svm)\n",
        "print(\"\\nLoaded SVM model accuracy:\", acc_svm)\n",
        "print(classification_report(y_test_filtered, le.inverse_transform(y_pred_svm)))"
      ],
      "metadata": {
        "colab": {
          "base_uri": "https://localhost:8080/"
        },
        "id": "aQ8egFIPQKFT",
        "outputId": "2d2df7d5-5e73-48cb-baf8-f53b66602421"
      },
      "execution_count": null,
      "outputs": [
        {
          "output_type": "stream",
          "name": "stdout",
          "text": [
            "\n",
            "Loaded LogisticRegression model accuracy: 0.7659751037344399\n",
            "               precision    recall  f1-score   support\n",
            "\n",
            "         asyl       0.00      0.00      0.00        11\n",
            "         auto       0.92      0.68      0.78        71\n",
            "demonstration       0.12      0.04      0.06        24\n",
            "      familie       0.00      0.00      0.00        13\n",
            "    fernsehen       0.94      0.73      0.82        45\n",
            "   gesundheit       1.00      0.18      0.30        17\n",
            "       gruene       0.00      0.00      0.00         6\n",
            "     karneval       0.90      0.66      0.76        68\n",
            "        klima       0.60      0.20      0.30        15\n",
            "    konflikte       0.00      0.00      0.00        11\n",
            "        krieg       0.00      0.00      0.00         7\n",
            "kriminalitaet       0.79      0.74      0.76       120\n",
            "        leben       1.00      0.12      0.22        32\n",
            "        leute       0.00      0.00      0.00        12\n",
            "    migration       0.50      0.11      0.18         9\n",
            "       museum       0.00      0.00      0.00         9\n",
            "      netflix       1.00      0.50      0.67         8\n",
            "      politik       0.70      0.91      0.79       456\n",
            "      polizei       0.67      0.66      0.67        89\n",
            "     proteste       0.45      0.48      0.47        21\n",
            "        recht       0.65      0.48      0.55        23\n",
            "    sonstiges       0.57      0.75      0.65       192\n",
            "        sport       0.88      0.97      0.92       530\n",
            "      technik       0.84      0.63      0.72       110\n",
            "       unfall       1.00      0.05      0.10        20\n",
            " unterhaltung       0.79      0.96      0.86       348\n",
            "      verkehr       0.72      0.42      0.53        31\n",
            "       wetter       0.91      0.31      0.47        32\n",
            "   wirtschaft       0.76      0.58      0.66        65\n",
            " wissenschaft       0.00      0.00      0.00        15\n",
            "\n",
            "     accuracy                           0.77      2410\n",
            "    macro avg       0.56      0.37      0.41      2410\n",
            " weighted avg       0.75      0.77      0.74      2410\n",
            "\n",
            "\n",
            "Loaded RandomForest model accuracy: 0.7713692946058092\n"
          ]
        },
        {
          "output_type": "stream",
          "name": "stderr",
          "text": [
            "/usr/local/lib/python3.10/dist-packages/sklearn/metrics/_classification.py:1531: UndefinedMetricWarning: Precision is ill-defined and being set to 0.0 in labels with no predicted samples. Use `zero_division` parameter to control this behavior.\n",
            "  _warn_prf(average, modifier, f\"{metric.capitalize()} is\", len(result))\n",
            "/usr/local/lib/python3.10/dist-packages/sklearn/metrics/_classification.py:1531: UndefinedMetricWarning: Precision is ill-defined and being set to 0.0 in labels with no predicted samples. Use `zero_division` parameter to control this behavior.\n",
            "  _warn_prf(average, modifier, f\"{metric.capitalize()} is\", len(result))\n",
            "/usr/local/lib/python3.10/dist-packages/sklearn/metrics/_classification.py:1531: UndefinedMetricWarning: Precision is ill-defined and being set to 0.0 in labels with no predicted samples. Use `zero_division` parameter to control this behavior.\n",
            "  _warn_prf(average, modifier, f\"{metric.capitalize()} is\", len(result))\n"
          ]
        },
        {
          "output_type": "stream",
          "name": "stdout",
          "text": [
            "               precision    recall  f1-score   support\n",
            "\n",
            "         asyl       0.50      0.27      0.35        11\n",
            "         auto       0.75      0.70      0.72        71\n",
            "demonstration       0.17      0.08      0.11        24\n",
            "      familie       0.73      0.62      0.67        13\n",
            "    fernsehen       0.92      0.80      0.86        45\n",
            "   gesundheit       0.55      0.35      0.43        17\n",
            "       gruene       0.57      0.67      0.62         6\n",
            "     karneval       0.68      0.69      0.69        68\n",
            "        klima       0.50      0.33      0.40        15\n",
            "    konflikte       0.00      0.00      0.00        11\n",
            "        krieg       0.00      0.00      0.00         7\n",
            "kriminalitaet       0.79      0.74      0.77       120\n",
            "        leben       0.88      0.44      0.58        32\n",
            "        leute       0.00      0.00      0.00        12\n",
            "    migration       0.25      0.22      0.24         9\n",
            "       museum       1.00      0.11      0.20         9\n",
            "      netflix       1.00      0.50      0.67         8\n",
            "      politik       0.77      0.87      0.82       456\n",
            "      polizei       0.61      0.70      0.65        89\n",
            "     proteste       0.46      0.57      0.51        21\n",
            "        recht       0.43      0.39      0.41        23\n",
            "    sonstiges       0.68      0.73      0.71       192\n",
            "        sport       0.94      0.93      0.94       530\n",
            "      technik       0.81      0.61      0.69       110\n",
            "       unfall       0.50      0.15      0.23        20\n",
            " unterhaltung       0.76      0.91      0.83       348\n",
            "      verkehr       0.70      0.61      0.66        31\n",
            "       wetter       0.73      0.59      0.66        32\n",
            "   wirtschaft       0.73      0.66      0.69        65\n",
            " wissenschaft       0.50      0.13      0.21        15\n",
            "\n",
            "     accuracy                           0.77      2410\n",
            "    macro avg       0.60      0.48      0.51      2410\n",
            " weighted avg       0.76      0.77      0.76      2410\n",
            "\n",
            "\n",
            "Loaded XGBoost model accuracy: 0.7634854771784232\n",
            "               precision    recall  f1-score   support\n",
            "\n",
            "         asyl       0.25      0.09      0.13        11\n",
            "         auto       0.73      0.65      0.69        71\n",
            "demonstration       0.24      0.17      0.20        24\n",
            "      familie       0.67      0.46      0.55        13\n",
            "    fernsehen       0.87      0.76      0.81        45\n",
            "   gesundheit       0.53      0.53      0.53        17\n",
            "       gruene       1.00      0.50      0.67         6\n",
            "     karneval       0.75      0.76      0.76        68\n",
            "        klima       0.50      0.47      0.48        15\n",
            "    konflikte       0.00      0.00      0.00        11\n",
            "        krieg       0.00      0.00      0.00         7\n",
            "kriminalitaet       0.77      0.75      0.76       120\n",
            "        leben       0.73      0.50      0.59        32\n",
            "        leute       0.00      0.00      0.00        12\n",
            "    migration       0.30      0.33      0.32         9\n",
            "       museum       1.00      0.22      0.36         9\n",
            "      netflix       0.67      0.50      0.57         8\n",
            "      politik       0.76      0.85      0.80       456\n",
            "      polizei       0.66      0.71      0.68        89\n",
            "     proteste       0.45      0.43      0.44        21\n",
            "        recht       0.43      0.39      0.41        23\n",
            "    sonstiges       0.58      0.73      0.65       192\n",
            "        sport       0.95      0.93      0.94       530\n",
            "      technik       0.69      0.59      0.64       110\n",
            "       unfall       0.50      0.25      0.33        20\n",
            " unterhaltung       0.84      0.89      0.86       348\n",
            "      verkehr       0.66      0.68      0.67        31\n",
            "       wetter       0.68      0.53      0.60        32\n",
            "   wirtschaft       0.74      0.62      0.67        65\n",
            " wissenschaft       0.20      0.07      0.10        15\n",
            "\n",
            "     accuracy                           0.76      2410\n",
            "    macro avg       0.57      0.48      0.51      2410\n",
            " weighted avg       0.76      0.76      0.76      2410\n",
            "\n",
            "\n",
            "Loaded KNN model accuracy: 0.7203319502074689\n",
            "               precision    recall  f1-score   support\n",
            "\n",
            "         asyl       0.31      0.45      0.37        11\n",
            "         auto       0.60      0.72      0.65        71\n",
            "demonstration       0.24      0.33      0.28        24\n",
            "      familie       0.50      0.31      0.38        13\n",
            "    fernsehen       0.63      0.53      0.58        45\n",
            "   gesundheit       0.30      0.41      0.35        17\n",
            "       gruene       0.25      0.33      0.29         6\n",
            "     karneval       0.67      0.69      0.68        68\n",
            "        klima       0.20      0.20      0.20        15\n",
            "    konflikte       0.14      0.09      0.11        11\n",
            "        krieg       0.00      0.00      0.00         7\n",
            "kriminalitaet       0.61      0.69      0.65       120\n",
            "        leben       0.74      0.44      0.55        32\n",
            "        leute       0.00      0.00      0.00        12\n",
            "    migration       0.33      0.22      0.27         9\n",
            "       museum       0.40      0.22      0.29         9\n",
            "      netflix       0.83      0.62      0.71         8\n",
            "      politik       0.76      0.80      0.78       456\n",
            "      polizei       0.62      0.47      0.54        89\n",
            "     proteste       0.44      0.33      0.38        21\n",
            "        recht       0.61      0.48      0.54        23\n",
            "    sonstiges       0.57      0.55      0.56       192\n",
            "        sport       0.93      0.91      0.92       530\n",
            "      technik       0.74      0.65      0.69       110\n",
            "       unfall       0.56      0.25      0.34        20\n",
            " unterhaltung       0.74      0.91      0.82       348\n",
            "      verkehr       0.65      0.55      0.60        31\n",
            "       wetter       0.67      0.56      0.61        32\n",
            "   wirtschaft       0.67      0.60      0.63        65\n",
            " wissenschaft       0.50      0.07      0.12        15\n",
            "\n",
            "     accuracy                           0.72      2410\n",
            "    macro avg       0.51      0.45      0.46      2410\n",
            " weighted avg       0.71      0.72      0.71      2410\n",
            "\n"
          ]
        },
        {
          "output_type": "stream",
          "name": "stderr",
          "text": [
            "/usr/local/lib/python3.10/dist-packages/sklearn/metrics/_classification.py:1531: UndefinedMetricWarning: Precision is ill-defined and being set to 0.0 in labels with no predicted samples. Use `zero_division` parameter to control this behavior.\n",
            "  _warn_prf(average, modifier, f\"{metric.capitalize()} is\", len(result))\n",
            "/usr/local/lib/python3.10/dist-packages/sklearn/metrics/_classification.py:1531: UndefinedMetricWarning: Precision is ill-defined and being set to 0.0 in labels with no predicted samples. Use `zero_division` parameter to control this behavior.\n",
            "  _warn_prf(average, modifier, f\"{metric.capitalize()} is\", len(result))\n",
            "/usr/local/lib/python3.10/dist-packages/sklearn/metrics/_classification.py:1531: UndefinedMetricWarning: Precision is ill-defined and being set to 0.0 in labels with no predicted samples. Use `zero_division` parameter to control this behavior.\n",
            "  _warn_prf(average, modifier, f\"{metric.capitalize()} is\", len(result))\n"
          ]
        },
        {
          "output_type": "stream",
          "name": "stdout",
          "text": [
            "\n",
            "Loaded SVM model accuracy: 0.8120331950207469\n",
            "               precision    recall  f1-score   support\n",
            "\n",
            "         asyl       0.67      0.55      0.60        11\n",
            "         auto       0.88      0.79      0.83        71\n",
            "demonstration       0.25      0.12      0.17        24\n",
            "      familie       0.71      0.38      0.50        13\n",
            "    fernsehen       0.88      0.84      0.86        45\n",
            "   gesundheit       0.67      0.35      0.46        17\n",
            "       gruene       0.00      0.00      0.00         6\n",
            "     karneval       0.90      0.78      0.83        68\n",
            "        klima       0.50      0.40      0.44        15\n",
            "    konflikte       0.00      0.00      0.00        11\n",
            "        krieg       0.00      0.00      0.00         7\n",
            "kriminalitaet       0.82      0.78      0.80       120\n",
            "        leben       0.88      0.47      0.61        32\n",
            "        leute       0.00      0.00      0.00        12\n",
            "    migration       0.33      0.22      0.27         9\n",
            "       museum       1.00      0.44      0.62         9\n",
            "      netflix       1.00      0.75      0.86         8\n",
            "      politik       0.76      0.90      0.82       456\n",
            "      polizei       0.76      0.67      0.71        89\n",
            "     proteste       0.48      0.57      0.52        21\n",
            "        recht       0.54      0.61      0.57        23\n",
            "    sonstiges       0.63      0.79      0.70       192\n",
            "        sport       0.96      0.96      0.96       530\n",
            "      technik       0.80      0.70      0.75       110\n",
            "       unfall       0.70      0.35      0.47        20\n",
            " unterhaltung       0.86      0.95      0.90       348\n",
            "      verkehr       0.81      0.71      0.76        31\n",
            "       wetter       0.73      0.59      0.66        32\n",
            "   wirtschaft       0.83      0.69      0.76        65\n",
            " wissenschaft       0.33      0.07      0.11        15\n",
            "\n",
            "     accuracy                           0.81      2410\n",
            "    macro avg       0.62      0.52      0.55      2410\n",
            " weighted avg       0.80      0.81      0.80      2410\n",
            "\n"
          ]
        },
        {
          "output_type": "stream",
          "name": "stderr",
          "text": [
            "/usr/local/lib/python3.10/dist-packages/sklearn/metrics/_classification.py:1531: UndefinedMetricWarning: Precision is ill-defined and being set to 0.0 in labels with no predicted samples. Use `zero_division` parameter to control this behavior.\n",
            "  _warn_prf(average, modifier, f\"{metric.capitalize()} is\", len(result))\n",
            "/usr/local/lib/python3.10/dist-packages/sklearn/metrics/_classification.py:1531: UndefinedMetricWarning: Precision is ill-defined and being set to 0.0 in labels with no predicted samples. Use `zero_division` parameter to control this behavior.\n",
            "  _warn_prf(average, modifier, f\"{metric.capitalize()} is\", len(result))\n",
            "/usr/local/lib/python3.10/dist-packages/sklearn/metrics/_classification.py:1531: UndefinedMetricWarning: Precision is ill-defined and being set to 0.0 in labels with no predicted samples. Use `zero_division` parameter to control this behavior.\n",
            "  _warn_prf(average, modifier, f\"{metric.capitalize()} is\", len(result))\n"
          ]
        }
      ]
    },
    {
      "cell_type": "markdown",
      "source": [
        "Transformer models"
      ],
      "metadata": {
        "id": "XFB6V6YpsWpw"
      }
    },
    {
      "cell_type": "code",
      "source": [
        "!pip install transformers datasets evaluate --quiet"
      ],
      "metadata": {
        "colab": {
          "base_uri": "https://localhost:8080/"
        },
        "id": "EdOAwZQ1Cwvb",
        "outputId": "2ef1171d-13a8-43c4-d7d5-14f00b24050c"
      },
      "execution_count": null,
      "outputs": [
        {
          "output_type": "stream",
          "name": "stdout",
          "text": [
            "\u001b[?25l   \u001b[90m━━━━━━━━━━━━━━━━━━━━━━━━━━━━━━━━━━━━━━━━\u001b[0m \u001b[32m0.0/480.6 kB\u001b[0m \u001b[31m?\u001b[0m eta \u001b[36m-:--:--\u001b[0m\r\u001b[2K   \u001b[90m━━━━━━━━━━━━━━━━━━━━━━━━━━━━━━━━━━━━━━━━\u001b[0m \u001b[32m480.6/480.6 kB\u001b[0m \u001b[31m31.0 MB/s\u001b[0m eta \u001b[36m0:00:00\u001b[0m\n",
            "\u001b[?25h\u001b[?25l   \u001b[90m━━━━━━━━━━━━━━━━━━━━━━━━━━━━━━━━━━━━━━━━\u001b[0m \u001b[32m0.0/84.0 kB\u001b[0m \u001b[31m?\u001b[0m eta \u001b[36m-:--:--\u001b[0m\r\u001b[2K   \u001b[90m━━━━━━━━━━━━━━━━━━━━━━━━━━━━━━━━━━━━━━━━\u001b[0m \u001b[32m84.0/84.0 kB\u001b[0m \u001b[31m7.1 MB/s\u001b[0m eta \u001b[36m0:00:00\u001b[0m\n",
            "\u001b[?25h\u001b[?25l   \u001b[90m━━━━━━━━━━━━━━━━━━━━━━━━━━━━━━━━━━━━━━━━\u001b[0m \u001b[32m0.0/116.3 kB\u001b[0m \u001b[31m?\u001b[0m eta \u001b[36m-:--:--\u001b[0m\r\u001b[2K   \u001b[90m━━━━━━━━━━━━━━━━━━━━━━━━━━━━━━━━━━━━━━━━\u001b[0m \u001b[32m116.3/116.3 kB\u001b[0m \u001b[31m10.3 MB/s\u001b[0m eta \u001b[36m0:00:00\u001b[0m\n",
            "\u001b[?25h\u001b[?25l   \u001b[90m━━━━━━━━━━━━━━━━━━━━━━━━━━━━━━━━━━━━━━━━\u001b[0m \u001b[32m0.0/179.3 kB\u001b[0m \u001b[31m?\u001b[0m eta \u001b[36m-:--:--\u001b[0m\r\u001b[2K   \u001b[90m━━━━━━━━━━━━━━━━━━━━━━━━━━━━━━━━━━━━━━━━\u001b[0m \u001b[32m179.3/179.3 kB\u001b[0m \u001b[31m14.5 MB/s\u001b[0m eta \u001b[36m0:00:00\u001b[0m\n",
            "\u001b[?25h\u001b[?25l   \u001b[90m━━━━━━━━━━━━━━━━━━━━━━━━━━━━━━━━━━━━━━━━\u001b[0m \u001b[32m0.0/134.8 kB\u001b[0m \u001b[31m?\u001b[0m eta \u001b[36m-:--:--\u001b[0m\r\u001b[2K   \u001b[90m━━━━━━━━━━━━━━━━━━━━━━━━━━━━━━━━━━━━━━━━\u001b[0m \u001b[32m134.8/134.8 kB\u001b[0m \u001b[31m10.1 MB/s\u001b[0m eta \u001b[36m0:00:00\u001b[0m\n",
            "\u001b[?25h\u001b[?25l   \u001b[90m━━━━━━━━━━━━━━━━━━━━━━━━━━━━━━━━━━━━━━━━\u001b[0m \u001b[32m0.0/194.1 kB\u001b[0m \u001b[31m?\u001b[0m eta \u001b[36m-:--:--\u001b[0m\r\u001b[2K   \u001b[90m━━━━━━━━━━━━━━━━━━━━━━━━━━━━━━━━━━━━━━━━\u001b[0m \u001b[32m194.1/194.1 kB\u001b[0m \u001b[31m14.1 MB/s\u001b[0m eta \u001b[36m0:00:00\u001b[0m\n",
            "\u001b[?25h\u001b[31mERROR: pip's dependency resolver does not currently take into account all the packages that are installed. This behaviour is the source of the following dependency conflicts.\n",
            "gcsfs 2024.10.0 requires fsspec==2024.10.0, but you have fsspec 2024.9.0 which is incompatible.\u001b[0m\u001b[31m\n",
            "\u001b[0m"
          ]
        }
      ]
    },
    {
      "cell_type": "code",
      "source": [
        "import pandas as pd\n",
        "from datasets import Dataset\n",
        "import numpy as np\n",
        "from transformers import AutoTokenizer\n",
        "from datasets import Dataset\n",
        "from transformers import AutoModelForSequenceClassification, Trainer, TrainingArguments\n",
        "import evaluate"
      ],
      "metadata": {
        "id": "bUmI3PAJCx52"
      },
      "execution_count": null,
      "outputs": []
    },
    {
      "source": [
        "# Prepare Hugging Face Datasets and Encode Labels\n",
        "\n",
        "# Hugging Face Datasets\n",
        "df_train = pd.DataFrame({\"text\": X_train_filtered, \"label\": y_train_filtered})\n",
        "df_test = pd.DataFrame({\"text\": X_test_filtered, \"label\": y_test_filtered})\n",
        "\n",
        "train_ds = Dataset.from_pandas(df_train)\n",
        "test_ds = Dataset.from_pandas(df_test)\n",
        "\n",
        "# Encode labels using the LabelEncoder\n",
        "def encode_labels(examples):\n",
        "    examples[\"label\"] = le.transform(examples[\"label\"])\n",
        "    return examples\n",
        "\n",
        "train_ds = train_ds.map(encode_labels, batched=True)\n",
        "test_ds = test_ds.map(encode_labels, batched=True)\n",
        "\n",
        "# labels after encoding\n",
        "print(\"Sample encoded labels (train_ds):\", train_ds[\"label\"][:10])\n",
        "print(\"Sample encoded labels (test_ds):\", test_ds[\"label\"][:10])"
      ],
      "cell_type": "code",
      "metadata": {
        "colab": {
          "base_uri": "https://localhost:8080/",
          "height": 116,
          "referenced_widgets": [
            "f2ad2ac6b1a542fcb0b7e1c1c49a8eee",
            "4b3d9503d769449eb1312d22db03052f",
            "d21dd5a34eb7424da0a86fac45468a5d",
            "19b0be9a478c4345aed9570716ffcc07",
            "b25359d90edb416e9549aa8c8ca71532",
            "8f9df44900aa4b7886e6fc147fc5e1e8",
            "a5ecbe20605c4fb79634579483eceafd",
            "e0a3a6d169cf400aa6d0b9ea2c3b5e36",
            "a93a3f9726e645619b8386b9e22de20d",
            "208aa23a516d47efaf2b1d8430997a7a",
            "4f3034fe59224d508c291639e17b16c6",
            "c789bb9b89e84b1ab6732966a13a9e62",
            "727fedc3264a42c4bd3597af86f07ef2",
            "7b110496caf14a808356c28765886796",
            "f84b0deec1d14252b01c703e76ee1840",
            "c044fd24e11f44e789a4cdebfa9222e6",
            "d99f13bb13f5471489bc986f00ebf8de",
            "13a2d999b6f841a58724066eadc932a2",
            "7a2793c977d9478298cccd0b23b8e212",
            "6a46047dd6db431482e0052a0dabdd0b",
            "60d0d1280acf493686bc4578636a5ffb",
            "75fd78b1f2b845e09afb57f6d59d342d"
          ]
        },
        "id": "c1OiakjDFX6U",
        "outputId": "fec95fa2-5f40-4c76-887d-864f1b8ff118"
      },
      "execution_count": null,
      "outputs": [
        {
          "output_type": "display_data",
          "data": {
            "text/plain": [
              "Map:   0%|          | 0/9612 [00:00<?, ? examples/s]"
            ],
            "application/vnd.jupyter.widget-view+json": {
              "version_major": 2,
              "version_minor": 0,
              "model_id": "f2ad2ac6b1a542fcb0b7e1c1c49a8eee"
            }
          },
          "metadata": {}
        },
        {
          "output_type": "display_data",
          "data": {
            "text/plain": [
              "Map:   0%|          | 0/2410 [00:00<?, ? examples/s]"
            ],
            "application/vnd.jupyter.widget-view+json": {
              "version_major": 2,
              "version_minor": 0,
              "model_id": "c789bb9b89e84b1ab6732966a13a9e62"
            }
          },
          "metadata": {}
        },
        {
          "output_type": "stream",
          "name": "stdout",
          "text": [
            "Sample encoded labels (train_ds): [22, 28, 22, 21, 17, 25, 18, 22, 17, 29]\n",
            "Sample encoded labels (test_ds): [22, 17, 17, 22, 25, 18, 28, 22, 25, 17]\n"
          ]
        }
      ]
    },
    {
      "cell_type": "markdown",
      "source": [
        "DistilBERT"
      ],
      "metadata": {
        "id": "nZ3E7i_qslOT"
      }
    },
    {
      "cell_type": "code",
      "source": [
        "# Tokenize and Prepare the Dataset for Transformer Models\n",
        "\n",
        "model_name = \"distilbert-base-german-cased\"\n",
        "tokenizer = AutoTokenizer.from_pretrained(model_name)\n",
        "\n",
        "def tokenize_function(examples):\n",
        "    return tokenizer(examples[\"text\"], truncation=True, padding=\"max_length\", max_length=256)\n",
        "\n",
        "# Tokenize the datasets\n",
        "train_tokenized = train_ds.map(tokenize_function, batched=True)\n",
        "test_tokenized = test_ds.map(tokenize_function, batched=True)\n",
        "\n",
        "print(\"Train Tokenized Columns:\", train_tokenized.column_names)\n",
        "print(\"Test Tokenized Columns:\", test_tokenized.column_names)\n",
        "\n",
        "columns_to_remove = [\"text\"]\n",
        "train_tokenized = train_tokenized.remove_columns(columns_to_remove)\n",
        "test_tokenized = test_tokenized.remove_columns(columns_to_remove)\n",
        "\n",
        "# Rename 'label' to 'labels' to match Hugging Face expectations\n",
        "train_tokenized = train_tokenized.rename_column(\"label\", \"labels\")\n",
        "test_tokenized = test_tokenized.rename_column(\"label\", \"labels\")\n",
        "\n",
        "# Set the format to PyTorch tensors\n",
        "train_tokenized.set_format(\"torch\")\n",
        "test_tokenized.set_format(\"torch\")\n",
        "\n",
        "# final columns\n",
        "print(\"Final Train Tokenized Columns:\", train_tokenized.column_names)\n",
        "print(\"Final Test Tokenized Columns:\", test_tokenized.column_names)\n"
      ],
      "metadata": {
        "colab": {
          "base_uri": "https://localhost:8080/",
          "height": 382,
          "referenced_widgets": [
            "3b0dc83b2ab541ecb422f33f9a991ba2",
            "7bbba11251cd4f1cbc8e43a30ffd4afc",
            "c42406acfdf3484c837868da39a4fc32",
            "7dcebc1568d94e5e86fd7bb7516731f5",
            "0e7395a9dc174e9a848f437eaaa6b881",
            "dbd92c9a91c64f9287ffd84e96380d57",
            "38d92a200aa04e3a916220a9de9029ac",
            "0340daf97ba7408fa1cdeff0ef74ebd2",
            "4f33d2e7abea416d8294b0592c5dc2b6",
            "56b1e7a9c7f6450493008ce05a6362d1",
            "84e15c0386b741939d29a15012fb7dd6",
            "89e3ce33757b4ea7892b06da4f729f78",
            "bc39fc737d514440b202af2c5089f045",
            "4241ff5d7b8c4ed3be2479ae5fc9f96b",
            "211461cc0b424e42b9a3fc91e2f8987e",
            "6776c593aa4e479d87bea971ad92e9d9",
            "0e7e730d455e4c0baedb87c229553860",
            "78cbdee482a448b0a6923df15798b7be",
            "919d057ec7be4f0da91f8296f5bec6dd",
            "27cfb370a5fe478e9b05bf6dc8be93b8",
            "a51654f52a3a432abf22079ef1ef656b",
            "ed903d9439464fde80e25795364e6a97",
            "49465b5874b04e8e947362baab5281b4",
            "996229b83e3f4dbdbf6b1cd1a19f2551",
            "9dd7c45e8c3d4d40a98a0d35eca985c9",
            "1664f88e50a4425280cb603a11959c5e",
            "6792587bbd3147399e2fb0fd0834c4a8",
            "34f221da2b6c4818b7e364d99407d9cd",
            "262cebdd3cd247a1a3036ff3f413ca3b",
            "dcd328f6b1134d34b3a5f82149a5a348",
            "5b68f7568f5f4ff696ed11e4eb5d25d1",
            "83be95a9ed64454a81f59acb7dd6873e",
            "f972de5f2d3a44c8859003922a82375a",
            "9d688cf960be4684970a066eb0c03f9c",
            "4c98633f6ad24870a2310edbb335e051",
            "ae312238d6394c65af6ef80f9929421a",
            "2e0211a5868c41f292e48979a032d6ee",
            "301e122b1ff84bb4a6e21ccce131cf89",
            "3c741c4663ae4ab5a0ce23da90814ef0",
            "0f8832c687ec4a7eb94875c2c9688f2a",
            "6cfe8561311a4c8386b19e152e827d1e",
            "79d8bfaaa9d04c45bd6e672e78bcf7d5",
            "b8787f36f49c4853baffb21a6deff6b9",
            "af1515c1aeba429f8a978c4cffea844e",
            "e298e1e31bd44525b6ab329cb450ab7e",
            "3cd00ef53a434856aa9d81ccb36d9dd2",
            "8035f2e0a18349c8b88204baf432015f",
            "5a067d4530184e22858dd35ecb9ccda7",
            "670c8948da6f4ee1abeba7c931adeab4",
            "0db40f17fea34e1cabae73e6b7fb09ab",
            "f6d67c6051fc4cd6aeaf81aa709e5331",
            "744328d39e9f4df4be7434e61a8df57f",
            "8f1d0f5a19e5480bb78b92eee12f4bea",
            "177edbc69d404b38b847fe034da87807",
            "1a7e28c03bbe41f29b7f3149cb0a463f",
            "5bb39750bd3c481ab1272e48a7c7ea92",
            "3101ba50d380429e9c1fc37e5cb0a7b3",
            "357c95ba981341ea811bef4d5d2a98f1",
            "b73b796bff8a458cbfb8f8243facf05c",
            "d5c1c8e39d654172802549d6e2d6fde0",
            "bb7071d2e7aa4ae5a688e75bb5a27d59",
            "16a665e1edc5478088f31386a4072d6a",
            "579bce4b2d254c52ad6686e264c7d572",
            "6550472f73384e0ca7f1bfca13274e0a",
            "ad5336216d9a49a58570a000c3539718",
            "4cc82f286e204536a49ea9e9785deac7"
          ]
        },
        "id": "xugEoCEiC1gt",
        "outputId": "5fccca14-65a8-467c-f5cf-277de5ed3e08"
      },
      "execution_count": null,
      "outputs": [
        {
          "output_type": "stream",
          "name": "stderr",
          "text": [
            "/usr/local/lib/python3.10/dist-packages/huggingface_hub/utils/_auth.py:94: UserWarning: \n",
            "The secret `HF_TOKEN` does not exist in your Colab secrets.\n",
            "To authenticate with the Hugging Face Hub, create a token in your settings tab (https://huggingface.co/settings/tokens), set it as secret in your Google Colab and restart your session.\n",
            "You will be able to reuse this secret in all of your notebooks.\n",
            "Please note that authentication is recommended but still optional to access public models or datasets.\n",
            "  warnings.warn(\n"
          ]
        },
        {
          "output_type": "display_data",
          "data": {
            "text/plain": [
              "tokenizer_config.json:   0%|          | 0.00/49.0 [00:00<?, ?B/s]"
            ],
            "application/vnd.jupyter.widget-view+json": {
              "version_major": 2,
              "version_minor": 0,
              "model_id": "3b0dc83b2ab541ecb422f33f9a991ba2"
            }
          },
          "metadata": {}
        },
        {
          "output_type": "display_data",
          "data": {
            "text/plain": [
              "config.json:   0%|          | 0.00/464 [00:00<?, ?B/s]"
            ],
            "application/vnd.jupyter.widget-view+json": {
              "version_major": 2,
              "version_minor": 0,
              "model_id": "89e3ce33757b4ea7892b06da4f729f78"
            }
          },
          "metadata": {}
        },
        {
          "output_type": "display_data",
          "data": {
            "text/plain": [
              "vocab.txt:   0%|          | 0.00/240k [00:00<?, ?B/s]"
            ],
            "application/vnd.jupyter.widget-view+json": {
              "version_major": 2,
              "version_minor": 0,
              "model_id": "49465b5874b04e8e947362baab5281b4"
            }
          },
          "metadata": {}
        },
        {
          "output_type": "display_data",
          "data": {
            "text/plain": [
              "tokenizer.json:   0%|          | 0.00/479k [00:00<?, ?B/s]"
            ],
            "application/vnd.jupyter.widget-view+json": {
              "version_major": 2,
              "version_minor": 0,
              "model_id": "9d688cf960be4684970a066eb0c03f9c"
            }
          },
          "metadata": {}
        },
        {
          "output_type": "display_data",
          "data": {
            "text/plain": [
              "Map:   0%|          | 0/9612 [00:00<?, ? examples/s]"
            ],
            "application/vnd.jupyter.widget-view+json": {
              "version_major": 2,
              "version_minor": 0,
              "model_id": "e298e1e31bd44525b6ab329cb450ab7e"
            }
          },
          "metadata": {}
        },
        {
          "output_type": "display_data",
          "data": {
            "text/plain": [
              "Map:   0%|          | 0/2410 [00:00<?, ? examples/s]"
            ],
            "application/vnd.jupyter.widget-view+json": {
              "version_major": 2,
              "version_minor": 0,
              "model_id": "5bb39750bd3c481ab1272e48a7c7ea92"
            }
          },
          "metadata": {}
        },
        {
          "output_type": "stream",
          "name": "stdout",
          "text": [
            "Train Tokenized Columns: ['text', 'label', 'input_ids', 'attention_mask']\n",
            "Test Tokenized Columns: ['text', 'label', 'input_ids', 'attention_mask']\n",
            "Final Train Tokenized Columns: ['labels', 'input_ids', 'attention_mask']\n",
            "Final Test Tokenized Columns: ['labels', 'input_ids', 'attention_mask']\n"
          ]
        }
      ]
    },
    {
      "cell_type": "code",
      "source": [
        "# Load the Pre-trained Transformer Model and Setup Trainer\n",
        "\n",
        "num_labels = len(le.classes_)\n",
        "\n",
        "model = AutoModelForSequenceClassification.from_pretrained(model_name, num_labels=num_labels)\n",
        "\n",
        "metric = evaluate.load(\"accuracy\")\n",
        "\n",
        "def compute_metrics(eval_pred):\n",
        "    predictions, labels = eval_pred\n",
        "    preds = np.argmax(predictions, axis=1)\n",
        "    return metric.compute(predictions=preds, references=labels)\n",
        "\n",
        "# Setup training arguments with matching evaluation and save strategies\n",
        "training_args = TrainingArguments(\n",
        "    output_dir=\"./german_model\",\n",
        "    evaluation_strategy=\"epoch\",\n",
        "    save_strategy=\"epoch\",\n",
        "    per_device_train_batch_size=16,\n",
        "    per_device_eval_batch_size=16,\n",
        "    num_train_epochs=3,\n",
        "    weight_decay=0.01,\n",
        "    logging_steps=50,\n",
        "    load_best_model_at_end=True,\n",
        "    metric_for_best_model=\"accuracy\",\n",
        "    greater_is_better=True\n",
        ")\n",
        "\n",
        "# Initialize the Trainer\n",
        "trainer = Trainer(\n",
        "    model=model,\n",
        "    args=training_args,\n",
        "    train_dataset=train_tokenized,\n",
        "    eval_dataset=test_tokenized,\n",
        "    tokenizer=tokenizer,\n",
        "    compute_metrics=compute_metrics\n",
        ")\n",
        "\n",
        "print(\"Trainer is using device:\", trainer.args.device)"
      ],
      "metadata": {
        "colab": {
          "base_uri": "https://localhost:8080/",
          "height": 222,
          "referenced_widgets": [
            "75a7d5be53dd4622824422b2c8bc3293",
            "23363b799d4d46b796c95a56bdc87656",
            "010a58a284b644e89b11d57db9737dcb",
            "d7998a6b5e4a4a878b1e253ee6bf1cd9",
            "ae55e14e5b7d41b3bc85551118db79e0",
            "260a9b538a9f4f758254043a9a0287e6",
            "ce79776dbfc046cba57d92c62fbbfcd4",
            "5ad82988622746e9bf7ed522b00e1fd1",
            "7fa9a718cf624f0f8d772ac5f301106c",
            "de3397007337499fb89e94cb488d5c5a",
            "927d5aa101434e5daf70fa157d4c8a1c",
            "ef5a5f55216d47b3a755021ba8050363",
            "603a59ae67de4eac964ceba19630da89",
            "3ade12bf74d2463983d1c79cffadd798",
            "e214014893e54746865521dde186743e",
            "ed81a565fbd44b9696aa12e3c531edc1",
            "ed2cdb54b8264ce89d257002df13b9d4",
            "8469a65a25e2443d9faf94f9e023bec8",
            "a2955049e3374bbd85d7e56ed1c98c76",
            "3ef7cdad8fed42e1aaf614af7379064b",
            "4b72e2c88dae427f9337627b08231104",
            "0cddde983332424f85399cef5574de9b"
          ]
        },
        "id": "IaUdB5D9DE1F",
        "outputId": "dbe80bd0-4f94-4ea1-a636-c00e6fb27c85"
      },
      "execution_count": null,
      "outputs": [
        {
          "output_type": "display_data",
          "data": {
            "text/plain": [
              "model.safetensors:   0%|          | 0.00/270M [00:00<?, ?B/s]"
            ],
            "application/vnd.jupyter.widget-view+json": {
              "version_major": 2,
              "version_minor": 0,
              "model_id": "75a7d5be53dd4622824422b2c8bc3293"
            }
          },
          "metadata": {}
        },
        {
          "output_type": "stream",
          "name": "stderr",
          "text": [
            "Some weights of DistilBertForSequenceClassification were not initialized from the model checkpoint at distilbert-base-german-cased and are newly initialized: ['classifier.bias', 'classifier.weight', 'pre_classifier.bias', 'pre_classifier.weight']\n",
            "You should probably TRAIN this model on a down-stream task to be able to use it for predictions and inference.\n"
          ]
        },
        {
          "output_type": "display_data",
          "data": {
            "text/plain": [
              "Downloading builder script:   0%|          | 0.00/4.20k [00:00<?, ?B/s]"
            ],
            "application/vnd.jupyter.widget-view+json": {
              "version_major": 2,
              "version_minor": 0,
              "model_id": "ef5a5f55216d47b3a755021ba8050363"
            }
          },
          "metadata": {}
        },
        {
          "output_type": "stream",
          "name": "stderr",
          "text": [
            "/usr/local/lib/python3.10/dist-packages/transformers/training_args.py:1568: FutureWarning: `evaluation_strategy` is deprecated and will be removed in version 4.46 of 🤗 Transformers. Use `eval_strategy` instead\n",
            "  warnings.warn(\n",
            "<ipython-input-13-2b93b668988a>:38: FutureWarning: `tokenizer` is deprecated and will be removed in version 5.0.0 for `Trainer.__init__`. Use `processing_class` instead.\n",
            "  trainer = Trainer(\n"
          ]
        },
        {
          "output_type": "stream",
          "name": "stdout",
          "text": [
            "Trainer is using device: cuda:0\n"
          ]
        }
      ]
    },
    {
      "cell_type": "code",
      "source": [
        "# Train the Model\n",
        "trainer.train()"
      ],
      "metadata": {
        "colab": {
          "base_uri": "https://localhost:8080/",
          "height": 450
        },
        "id": "j18eJayCEQ7v",
        "outputId": "f6b9e500-af95-445c-9457-1e52d3621f35"
      },
      "execution_count": null,
      "outputs": [
        {
          "output_type": "stream",
          "name": "stderr",
          "text": [
            "\u001b[34m\u001b[1mwandb\u001b[0m: \u001b[33mWARNING\u001b[0m The `run_name` is currently set to the same value as `TrainingArguments.output_dir`. If this was not intended, please specify a different run name by setting the `TrainingArguments.run_name` parameter.\n",
            "\u001b[34m\u001b[1mwandb\u001b[0m: Using wandb-core as the SDK backend.  Please refer to https://wandb.me/wandb-core for more information.\n"
          ]
        },
        {
          "output_type": "display_data",
          "data": {
            "text/plain": [
              "<IPython.core.display.Javascript object>"
            ],
            "application/javascript": [
              "\n",
              "        window._wandbApiKey = new Promise((resolve, reject) => {\n",
              "            function loadScript(url) {\n",
              "            return new Promise(function(resolve, reject) {\n",
              "                let newScript = document.createElement(\"script\");\n",
              "                newScript.onerror = reject;\n",
              "                newScript.onload = resolve;\n",
              "                document.body.appendChild(newScript);\n",
              "                newScript.src = url;\n",
              "            });\n",
              "            }\n",
              "            loadScript(\"https://cdn.jsdelivr.net/npm/postmate/build/postmate.min.js\").then(() => {\n",
              "            const iframe = document.createElement('iframe')\n",
              "            iframe.style.cssText = \"width:0;height:0;border:none\"\n",
              "            document.body.appendChild(iframe)\n",
              "            const handshake = new Postmate({\n",
              "                container: iframe,\n",
              "                url: 'https://wandb.ai/authorize'\n",
              "            });\n",
              "            const timeout = setTimeout(() => reject(\"Couldn't auto authenticate\"), 5000)\n",
              "            handshake.then(function(child) {\n",
              "                child.on('authorize', data => {\n",
              "                    clearTimeout(timeout)\n",
              "                    resolve(data)\n",
              "                });\n",
              "            });\n",
              "            })\n",
              "        });\n",
              "    "
            ]
          },
          "metadata": {}
        },
        {
          "output_type": "stream",
          "name": "stderr",
          "text": [
            "\u001b[34m\u001b[1mwandb\u001b[0m: Logging into wandb.ai. (Learn how to deploy a W&B server locally: https://wandb.me/wandb-server)\n",
            "\u001b[34m\u001b[1mwandb\u001b[0m: You can find your API key in your browser here: https://wandb.ai/authorize\n",
            "wandb: Paste an API key from your profile and hit enter, or press ctrl+c to quit:"
          ]
        },
        {
          "name": "stdout",
          "output_type": "stream",
          "text": [
            " ··········\n"
          ]
        },
        {
          "output_type": "stream",
          "name": "stderr",
          "text": [
            "\u001b[34m\u001b[1mwandb\u001b[0m: Appending key for api.wandb.ai to your netrc file: /root/.netrc\n"
          ]
        },
        {
          "output_type": "display_data",
          "data": {
            "text/plain": [
              "<IPython.core.display.HTML object>"
            ],
            "text/html": [
              "Tracking run with wandb version 0.18.7"
            ]
          },
          "metadata": {}
        },
        {
          "output_type": "display_data",
          "data": {
            "text/plain": [
              "<IPython.core.display.HTML object>"
            ],
            "text/html": [
              "Run data is saved locally in <code>/content/wandb/run-20241218_093313-n6gpo2yp</code>"
            ]
          },
          "metadata": {}
        },
        {
          "output_type": "display_data",
          "data": {
            "text/plain": [
              "<IPython.core.display.HTML object>"
            ],
            "text/html": [
              "Syncing run <strong><a href='https://wandb.ai/umarmuaz-university-of-stavanger/huggingface/runs/n6gpo2yp' target=\"_blank\">./german_model</a></strong> to <a href='https://wandb.ai/umarmuaz-university-of-stavanger/huggingface' target=\"_blank\">Weights & Biases</a> (<a href='https://wandb.me/developer-guide' target=\"_blank\">docs</a>)<br/>"
            ]
          },
          "metadata": {}
        },
        {
          "output_type": "display_data",
          "data": {
            "text/plain": [
              "<IPython.core.display.HTML object>"
            ],
            "text/html": [
              " View project at <a href='https://wandb.ai/umarmuaz-university-of-stavanger/huggingface' target=\"_blank\">https://wandb.ai/umarmuaz-university-of-stavanger/huggingface</a>"
            ]
          },
          "metadata": {}
        },
        {
          "output_type": "display_data",
          "data": {
            "text/plain": [
              "<IPython.core.display.HTML object>"
            ],
            "text/html": [
              " View run at <a href='https://wandb.ai/umarmuaz-university-of-stavanger/huggingface/runs/n6gpo2yp' target=\"_blank\">https://wandb.ai/umarmuaz-university-of-stavanger/huggingface/runs/n6gpo2yp</a>"
            ]
          },
          "metadata": {}
        },
        {
          "output_type": "display_data",
          "data": {
            "text/plain": [
              "<IPython.core.display.HTML object>"
            ],
            "text/html": [
              "\n",
              "    <div>\n",
              "      \n",
              "      <progress value='1803' max='1803' style='width:300px; height:20px; vertical-align: middle;'></progress>\n",
              "      [1803/1803 02:51, Epoch 3/3]\n",
              "    </div>\n",
              "    <table border=\"1\" class=\"dataframe\">\n",
              "  <thead>\n",
              " <tr style=\"text-align: left;\">\n",
              "      <th>Epoch</th>\n",
              "      <th>Training Loss</th>\n",
              "      <th>Validation Loss</th>\n",
              "      <th>Accuracy</th>\n",
              "    </tr>\n",
              "  </thead>\n",
              "  <tbody>\n",
              "    <tr>\n",
              "      <td>1</td>\n",
              "      <td>0.657000</td>\n",
              "      <td>0.667951</td>\n",
              "      <td>0.819917</td>\n",
              "    </tr>\n",
              "    <tr>\n",
              "      <td>2</td>\n",
              "      <td>0.427000</td>\n",
              "      <td>0.574166</td>\n",
              "      <td>0.843568</td>\n",
              "    </tr>\n",
              "    <tr>\n",
              "      <td>3</td>\n",
              "      <td>0.283300</td>\n",
              "      <td>0.558182</td>\n",
              "      <td>0.855187</td>\n",
              "    </tr>\n",
              "  </tbody>\n",
              "</table><p>"
            ]
          },
          "metadata": {}
        },
        {
          "output_type": "execute_result",
          "data": {
            "text/plain": [
              "TrainOutput(global_step=1803, training_loss=0.6221114103158051, metrics={'train_runtime': 209.2689, 'train_samples_per_second': 137.794, 'train_steps_per_second': 8.616, 'total_flos': 1910868651233280.0, 'train_loss': 0.6221114103158051, 'epoch': 3.0})"
            ]
          },
          "metadata": {},
          "execution_count": 14
        }
      ]
    },
    {
      "cell_type": "code",
      "source": [
        "results = trainer.evaluate(test_tokenized)\n",
        "print(\"Evaluation results:\", results)"
      ],
      "metadata": {
        "colab": {
          "base_uri": "https://localhost:8080/",
          "height": 74
        },
        "id": "eqtcsfJZEw9i",
        "outputId": "7136c4a1-de6b-4d6e-a558-efb853321561"
      },
      "execution_count": null,
      "outputs": [
        {
          "output_type": "display_data",
          "data": {
            "text/plain": [
              "<IPython.core.display.HTML object>"
            ],
            "text/html": [
              "\n",
              "    <div>\n",
              "      \n",
              "      <progress value='3260' max='3260' style='width:300px; height:20px; vertical-align: middle;'></progress>\n",
              "      [3260/3260 01:34]\n",
              "    </div>\n",
              "    "
            ]
          },
          "metadata": {}
        },
        {
          "output_type": "stream",
          "name": "stdout",
          "text": [
            "Evaluation results: {'eval_loss': 1.0080560445785522, 'eval_accuracy': 0.6208271815619427, 'eval_runtime': 95.1718, 'eval_samples_per_second': 547.988, 'eval_steps_per_second': 34.254, 'epoch': 3.0}\n"
          ]
        }
      ]
    },
    {
      "cell_type": "code",
      "source": [
        "# Save the Fine-Tuned Model\n",
        "trainer.save_model(\"/content/drive/MyDrive/DAT620/german_finetuned_model\")"
      ],
      "metadata": {
        "id": "LMiRf_O5GA-h"
      },
      "execution_count": null,
      "outputs": []
    },
    {
      "cell_type": "markdown",
      "source": [
        "XLM-RoBERTa"
      ],
      "metadata": {
        "id": "onIJwElisylk"
      }
    },
    {
      "cell_type": "code",
      "source": [
        "# Tokenize the Dataset\n",
        "\n",
        "model_name = \"xlm-roberta-base\"\n",
        "tokenizer = AutoTokenizer.from_pretrained(model_name)\n",
        "\n",
        "def tokenize_function(examples):\n",
        "    return tokenizer(examples[\"text\"], truncation=True, padding=\"max_length\", max_length=256)\n",
        "\n",
        "# Tokenize the datasets\n",
        "train_tokenized = train_ds.map(tokenize_function, batched=True)\n",
        "test_tokenized = test_ds.map(tokenize_function, batched=True)\n",
        "\n",
        "# Remove the original text column\n",
        "train_tokenized = train_tokenized.remove_columns([\"text\"])\n",
        "test_tokenized = test_tokenized.remove_columns([\"text\"])\n",
        "\n",
        "# Rename 'label' to 'labels' as expected by the Trainer\n",
        "train_tokenized = train_tokenized.rename_column(\"label\", \"labels\")\n",
        "test_tokenized = test_tokenized.rename_column(\"label\", \"labels\")\n",
        "\n",
        "# Set the format to PyTorch tensors\n",
        "train_tokenized.set_format(\"torch\")\n",
        "test_tokenized.set_format(\"torch\")\n",
        "\n",
        "# final columns and data types\n",
        "print(\"Final Train Tokenized Columns:\", train_tokenized.column_names)\n",
        "print(\"Sample labels (train_tokenized):\", train_tokenized[\"labels\"][:10])\n",
        "print(\"Sample labels (test_tokenized):\", test_tokenized[\"labels\"][:10])"
      ],
      "metadata": {
        "id": "FFcMjkuwTEh0"
      },
      "execution_count": null,
      "outputs": []
    },
    {
      "cell_type": "code",
      "source": [
        "# Setup Training Arguments and Initialize Trainer\n",
        "\n",
        "num_labels = len(le.classes_)\n",
        "\n",
        "model = AutoModelForSequenceClassification.from_pretrained(model_name, num_labels=num_labels)\n",
        "\n",
        "# Evaluation metric\n",
        "metric = evaluate.load(\"accuracy\")\n",
        "\n",
        "def compute_metrics(eval_pred):\n",
        "    predictions, labels = eval_pred\n",
        "    preds = np.argmax(predictions, axis=1)\n",
        "    return metric.compute(predictions=preds, references=labels)\n",
        "\n",
        "# Setup training arguments with matching evaluation and save strategies\n",
        "training_args = TrainingArguments(\n",
        "    output_dir=\"./german_model\",\n",
        "    evaluation_strategy=\"epoch\",\n",
        "    save_strategy=\"epoch\",\n",
        "    per_device_train_batch_size=16,\n",
        "    per_device_eval_batch_size=16,\n",
        "    num_train_epochs=5,\n",
        "    weight_decay=0.01,\n",
        "    logging_steps=50,\n",
        "    load_best_model_at_end=True,\n",
        "    metric_for_best_model=\"accuracy\",\n",
        "    greater_is_better=True\n",
        ")\n",
        "\n",
        "# Initialize the Trainer\n",
        "trainer = Trainer(\n",
        "    model=model,\n",
        "    args=training_args,\n",
        "    train_dataset=train_tokenized,\n",
        "    eval_dataset=test_tokenized,\n",
        "    tokenizer=tokenizer,\n",
        "    compute_metrics=compute_metrics\n",
        ")\n",
        "\n",
        "print(\"Trainer is using device:\", trainer.args.device)"
      ],
      "metadata": {
        "id": "0N0Pn7zkSp32"
      },
      "execution_count": null,
      "outputs": []
    },
    {
      "cell_type": "code",
      "source": [
        "trainer.train()"
      ],
      "metadata": {
        "colab": {
          "base_uri": "https://localhost:8080/",
          "height": 284
        },
        "id": "a8m2ARRuyYfs",
        "outputId": "0d068ed4-ae8c-4069-b847-a59a354e5942"
      },
      "execution_count": null,
      "outputs": [
        {
          "output_type": "display_data",
          "data": {
            "text/plain": [
              "<IPython.core.display.HTML object>"
            ],
            "text/html": [
              "\n",
              "    <div>\n",
              "      \n",
              "      <progress value='3005' max='3005' style='width:300px; height:20px; vertical-align: middle;'></progress>\n",
              "      [3005/3005 10:18, Epoch 5/5]\n",
              "    </div>\n",
              "    <table border=\"1\" class=\"dataframe\">\n",
              "  <thead>\n",
              " <tr style=\"text-align: left;\">\n",
              "      <th>Epoch</th>\n",
              "      <th>Training Loss</th>\n",
              "      <th>Validation Loss</th>\n",
              "      <th>Accuracy</th>\n",
              "    </tr>\n",
              "  </thead>\n",
              "  <tbody>\n",
              "    <tr>\n",
              "      <td>1</td>\n",
              "      <td>0.980800</td>\n",
              "      <td>1.090915</td>\n",
              "      <td>0.711203</td>\n",
              "    </tr>\n",
              "    <tr>\n",
              "      <td>2</td>\n",
              "      <td>0.720800</td>\n",
              "      <td>0.808980</td>\n",
              "      <td>0.790041</td>\n",
              "    </tr>\n",
              "    <tr>\n",
              "      <td>3</td>\n",
              "      <td>0.577900</td>\n",
              "      <td>0.678170</td>\n",
              "      <td>0.823237</td>\n",
              "    </tr>\n",
              "    <tr>\n",
              "      <td>4</td>\n",
              "      <td>0.469900</td>\n",
              "      <td>0.649726</td>\n",
              "      <td>0.840664</td>\n",
              "    </tr>\n",
              "    <tr>\n",
              "      <td>5</td>\n",
              "      <td>0.374200</td>\n",
              "      <td>0.643791</td>\n",
              "      <td>0.842324</td>\n",
              "    </tr>\n",
              "  </tbody>\n",
              "</table><p>"
            ]
          },
          "metadata": {}
        },
        {
          "output_type": "execute_result",
          "data": {
            "text/plain": [
              "TrainOutput(global_step=3005, training_loss=0.7734313582025233, metrics={'train_runtime': 618.6535, 'train_samples_per_second': 77.685, 'train_steps_per_second': 4.857, 'total_flos': 6324148155985920.0, 'train_loss': 0.7734313582025233, 'epoch': 5.0})"
            ]
          },
          "metadata": {},
          "execution_count": 20
        }
      ]
    },
    {
      "cell_type": "code",
      "source": [
        "results = trainer.evaluate(test_tokenized)\n",
        "print(\"Evaluation results:\", results)"
      ],
      "metadata": {
        "colab": {
          "base_uri": "https://localhost:8080/",
          "height": 74
        },
        "id": "TDTzsF1M0WKP",
        "outputId": "5cc8e7db-dd61-4983-fe9c-1de2ffaef083"
      },
      "execution_count": null,
      "outputs": [
        {
          "output_type": "display_data",
          "data": {
            "text/plain": [
              "<IPython.core.display.HTML object>"
            ],
            "text/html": [
              "\n",
              "    <div>\n",
              "      \n",
              "      <progress value='151' max='151' style='width:300px; height:20px; vertical-align: middle;'></progress>\n",
              "      [151/151 00:07]\n",
              "    </div>\n",
              "    "
            ]
          },
          "metadata": {}
        },
        {
          "output_type": "stream",
          "name": "stdout",
          "text": [
            "Evaluation results: {'eval_loss': 0.643790602684021, 'eval_accuracy': 0.8423236514522822, 'eval_runtime': 8.0157, 'eval_samples_per_second': 300.659, 'eval_steps_per_second': 18.838, 'epoch': 5.0}\n"
          ]
        }
      ]
    },
    {
      "cell_type": "code",
      "source": [
        "trainer.save_model(\"/content/drive/MyDrive/DAT620/german_finetuned_model_roberta\")"
      ],
      "metadata": {
        "id": "6j0QyVbizPr2"
      },
      "execution_count": null,
      "outputs": []
    },
    {
      "cell_type": "markdown",
      "source": [
        "Finetuning the DistilBERT"
      ],
      "metadata": {
        "id": "nR4syPgus_MD"
      }
    },
    {
      "cell_type": "code",
      "source": [
        "# Load the Pre-trained Transformer Model and Setup Trainer\n",
        "\n",
        "num_labels = len(le.classes_)\n",
        "\n",
        "model = AutoModelForSequenceClassification.from_pretrained(model_name, num_labels=num_labels)\n",
        "\n",
        "# Evaluation metric\n",
        "metric = evaluate.load(\"accuracy\")\n",
        "\n",
        "def compute_metrics(eval_pred):\n",
        "    predictions, labels = eval_pred\n",
        "    preds = np.argmax(predictions, axis=1)\n",
        "    return metric.compute(predictions=preds, references=labels)\n",
        "\n",
        "# Setup training arguments with matching evaluation and save strategies\n",
        "training_args = TrainingArguments(\n",
        "    output_dir=\"./german_model\",\n",
        "    evaluation_strategy=\"epoch\",\n",
        "    save_strategy=\"epoch\",                # Save model at the end of each epoch\n",
        "    per_device_train_batch_size=16,\n",
        "    per_device_eval_batch_size=16,\n",
        "    num_train_epochs=8,\n",
        "    weight_decay=0.01,\n",
        "    logging_steps=50,\n",
        "    load_best_model_at_end=True,\n",
        "    metric_for_best_model=\"accuracy\",\n",
        "    greater_is_better=True\n",
        ")\n",
        "\n",
        "# Initialize the Trainer\n",
        "trainer = Trainer(\n",
        "    model=model,\n",
        "    args=training_args,\n",
        "    train_dataset=train_tokenized,\n",
        "    eval_dataset=test_tokenized,\n",
        "    tokenizer=tokenizer,\n",
        "    compute_metrics=compute_metrics\n",
        ")\n",
        "\n",
        "print(\"Trainer is using device:\", trainer.args.device)"
      ],
      "metadata": {
        "colab": {
          "base_uri": "https://localhost:8080/",
          "height": 222,
          "referenced_widgets": [
            "52bb7ea167304af6bfaa1fa9228db767",
            "537e14a412464bf1a09ce46f082923b9",
            "7f69133ca485437581f0191231aa6b35",
            "0eac813ca81d48f4b0c7b1a0146c0d81",
            "b1184e64f2f447d6ac1c18b300f8348d",
            "57b7bc80215b4b87b7c8dc55e788577a",
            "ac3ae241014e4ed69701f6e83987ac5e",
            "fc6d4f40ccc74ccd82afb6c95b350791",
            "6bc5c9ebccca4040a84b3be442535c67",
            "0bc0458834b34ae895a159cfe8071778",
            "ac48fb392a8c400fa9da2a9519edcdef",
            "6fdf857e4163451a95539dce6d1ff4c7",
            "54c490200a8046a3b122fcb02a3e6938",
            "b8d20da1a0994e63bf03a99a002f75eb",
            "092670c2677044709373ebf33900be44",
            "8d1fd82017a54883a8cd36e1537b4d71",
            "ba91d3eed5b042c6bc3730891dfc92a1",
            "63490ce54728497fa10fbf225d088632",
            "7aac6b7a729c46009b9172b6913db040",
            "021dcea41af64ac4af4a98a6249cf30a",
            "f8a5b58b815a42e3b7ee4e6e6eda7a23",
            "7be19664171c42b28ba97c7c4787c2b7"
          ]
        },
        "id": "BwTw3hQxYCR3",
        "outputId": "51f208cb-89c6-420b-a18e-9a618efa2d0d"
      },
      "execution_count": null,
      "outputs": [
        {
          "output_type": "display_data",
          "data": {
            "text/plain": [
              "model.safetensors:   0%|          | 0.00/270M [00:00<?, ?B/s]"
            ],
            "application/vnd.jupyter.widget-view+json": {
              "version_major": 2,
              "version_minor": 0,
              "model_id": "52bb7ea167304af6bfaa1fa9228db767"
            }
          },
          "metadata": {}
        },
        {
          "output_type": "stream",
          "name": "stderr",
          "text": [
            "Some weights of DistilBertForSequenceClassification were not initialized from the model checkpoint at distilbert-base-german-cased and are newly initialized: ['classifier.bias', 'classifier.weight', 'pre_classifier.bias', 'pre_classifier.weight']\n",
            "You should probably TRAIN this model on a down-stream task to be able to use it for predictions and inference.\n"
          ]
        },
        {
          "output_type": "display_data",
          "data": {
            "text/plain": [
              "Downloading builder script:   0%|          | 0.00/4.20k [00:00<?, ?B/s]"
            ],
            "application/vnd.jupyter.widget-view+json": {
              "version_major": 2,
              "version_minor": 0,
              "model_id": "6fdf857e4163451a95539dce6d1ff4c7"
            }
          },
          "metadata": {}
        },
        {
          "output_type": "stream",
          "name": "stderr",
          "text": [
            "/usr/local/lib/python3.10/dist-packages/transformers/training_args.py:1568: FutureWarning: `evaluation_strategy` is deprecated and will be removed in version 4.46 of 🤗 Transformers. Use `eval_strategy` instead\n",
            "  warnings.warn(\n",
            "<ipython-input-11-08b288c2d4b1>:38: FutureWarning: `tokenizer` is deprecated and will be removed in version 5.0.0 for `Trainer.__init__`. Use `processing_class` instead.\n",
            "  trainer = Trainer(\n"
          ]
        },
        {
          "output_type": "stream",
          "name": "stdout",
          "text": [
            "Trainer is using device: cuda:0\n"
          ]
        }
      ]
    },
    {
      "cell_type": "code",
      "source": [
        "# Cell 7: Train the Model\n",
        "trainer.train()"
      ],
      "metadata": {
        "colab": {
          "base_uri": "https://localhost:8080/",
          "height": 569
        },
        "id": "aZYFe-7udOH8",
        "outputId": "4e9a0a71-a7ba-4230-80de-0913a14227a9"
      },
      "execution_count": null,
      "outputs": [
        {
          "output_type": "stream",
          "name": "stderr",
          "text": [
            "\u001b[34m\u001b[1mwandb\u001b[0m: \u001b[33mWARNING\u001b[0m The `run_name` is currently set to the same value as `TrainingArguments.output_dir`. If this was not intended, please specify a different run name by setting the `TrainingArguments.run_name` parameter.\n",
            "\u001b[34m\u001b[1mwandb\u001b[0m: Using wandb-core as the SDK backend.  Please refer to https://wandb.me/wandb-core for more information.\n"
          ]
        },
        {
          "output_type": "display_data",
          "data": {
            "text/plain": [
              "<IPython.core.display.Javascript object>"
            ],
            "application/javascript": [
              "\n",
              "        window._wandbApiKey = new Promise((resolve, reject) => {\n",
              "            function loadScript(url) {\n",
              "            return new Promise(function(resolve, reject) {\n",
              "                let newScript = document.createElement(\"script\");\n",
              "                newScript.onerror = reject;\n",
              "                newScript.onload = resolve;\n",
              "                document.body.appendChild(newScript);\n",
              "                newScript.src = url;\n",
              "            });\n",
              "            }\n",
              "            loadScript(\"https://cdn.jsdelivr.net/npm/postmate/build/postmate.min.js\").then(() => {\n",
              "            const iframe = document.createElement('iframe')\n",
              "            iframe.style.cssText = \"width:0;height:0;border:none\"\n",
              "            document.body.appendChild(iframe)\n",
              "            const handshake = new Postmate({\n",
              "                container: iframe,\n",
              "                url: 'https://wandb.ai/authorize'\n",
              "            });\n",
              "            const timeout = setTimeout(() => reject(\"Couldn't auto authenticate\"), 5000)\n",
              "            handshake.then(function(child) {\n",
              "                child.on('authorize', data => {\n",
              "                    clearTimeout(timeout)\n",
              "                    resolve(data)\n",
              "                });\n",
              "            });\n",
              "            })\n",
              "        });\n",
              "    "
            ]
          },
          "metadata": {}
        },
        {
          "output_type": "stream",
          "name": "stderr",
          "text": [
            "\u001b[34m\u001b[1mwandb\u001b[0m: Logging into wandb.ai. (Learn how to deploy a W&B server locally: https://wandb.me/wandb-server)\n",
            "\u001b[34m\u001b[1mwandb\u001b[0m: You can find your API key in your browser here: https://wandb.ai/authorize\n",
            "wandb: Paste an API key from your profile and hit enter, or press ctrl+c to quit:"
          ]
        },
        {
          "name": "stdout",
          "output_type": "stream",
          "text": [
            " ··········\n"
          ]
        },
        {
          "output_type": "stream",
          "name": "stderr",
          "text": [
            "\u001b[34m\u001b[1mwandb\u001b[0m: Appending key for api.wandb.ai to your netrc file: /root/.netrc\n"
          ]
        },
        {
          "output_type": "display_data",
          "data": {
            "text/plain": [
              "<IPython.core.display.HTML object>"
            ],
            "text/html": [
              "Tracking run with wandb version 0.18.7"
            ]
          },
          "metadata": {}
        },
        {
          "output_type": "display_data",
          "data": {
            "text/plain": [
              "<IPython.core.display.HTML object>"
            ],
            "text/html": [
              "Run data is saved locally in <code>/content/wandb/run-20241218_111013-87nb4ymt</code>"
            ]
          },
          "metadata": {}
        },
        {
          "output_type": "display_data",
          "data": {
            "text/plain": [
              "<IPython.core.display.HTML object>"
            ],
            "text/html": [
              "Syncing run <strong><a href='https://wandb.ai/umarmuaz-university-of-stavanger/huggingface/runs/87nb4ymt' target=\"_blank\">./german_model</a></strong> to <a href='https://wandb.ai/umarmuaz-university-of-stavanger/huggingface' target=\"_blank\">Weights & Biases</a> (<a href='https://wandb.me/developer-guide' target=\"_blank\">docs</a>)<br/>"
            ]
          },
          "metadata": {}
        },
        {
          "output_type": "display_data",
          "data": {
            "text/plain": [
              "<IPython.core.display.HTML object>"
            ],
            "text/html": [
              " View project at <a href='https://wandb.ai/umarmuaz-university-of-stavanger/huggingface' target=\"_blank\">https://wandb.ai/umarmuaz-university-of-stavanger/huggingface</a>"
            ]
          },
          "metadata": {}
        },
        {
          "output_type": "display_data",
          "data": {
            "text/plain": [
              "<IPython.core.display.HTML object>"
            ],
            "text/html": [
              " View run at <a href='https://wandb.ai/umarmuaz-university-of-stavanger/huggingface/runs/87nb4ymt' target=\"_blank\">https://wandb.ai/umarmuaz-university-of-stavanger/huggingface/runs/87nb4ymt</a>"
            ]
          },
          "metadata": {}
        },
        {
          "output_type": "display_data",
          "data": {
            "text/plain": [
              "<IPython.core.display.HTML object>"
            ],
            "text/html": [
              "\n",
              "    <div>\n",
              "      \n",
              "      <progress value='4808' max='4808' style='width:300px; height:20px; vertical-align: middle;'></progress>\n",
              "      [4808/4808 07:31, Epoch 8/8]\n",
              "    </div>\n",
              "    <table border=\"1\" class=\"dataframe\">\n",
              "  <thead>\n",
              " <tr style=\"text-align: left;\">\n",
              "      <th>Epoch</th>\n",
              "      <th>Training Loss</th>\n",
              "      <th>Validation Loss</th>\n",
              "      <th>Accuracy</th>\n",
              "    </tr>\n",
              "  </thead>\n",
              "  <tbody>\n",
              "    <tr>\n",
              "      <td>1</td>\n",
              "      <td>0.658400</td>\n",
              "      <td>0.661134</td>\n",
              "      <td>0.822407</td>\n",
              "    </tr>\n",
              "    <tr>\n",
              "      <td>2</td>\n",
              "      <td>0.446300</td>\n",
              "      <td>0.576744</td>\n",
              "      <td>0.839834</td>\n",
              "    </tr>\n",
              "    <tr>\n",
              "      <td>3</td>\n",
              "      <td>0.323200</td>\n",
              "      <td>0.605236</td>\n",
              "      <td>0.851452</td>\n",
              "    </tr>\n",
              "    <tr>\n",
              "      <td>4</td>\n",
              "      <td>0.213200</td>\n",
              "      <td>0.618115</td>\n",
              "      <td>0.853527</td>\n",
              "    </tr>\n",
              "    <tr>\n",
              "      <td>5</td>\n",
              "      <td>0.176300</td>\n",
              "      <td>0.655198</td>\n",
              "      <td>0.851452</td>\n",
              "    </tr>\n",
              "    <tr>\n",
              "      <td>6</td>\n",
              "      <td>0.109000</td>\n",
              "      <td>0.668617</td>\n",
              "      <td>0.860581</td>\n",
              "    </tr>\n",
              "    <tr>\n",
              "      <td>7</td>\n",
              "      <td>0.127000</td>\n",
              "      <td>0.713079</td>\n",
              "      <td>0.857676</td>\n",
              "    </tr>\n",
              "    <tr>\n",
              "      <td>8</td>\n",
              "      <td>0.065500</td>\n",
              "      <td>0.709850</td>\n",
              "      <td>0.861411</td>\n",
              "    </tr>\n",
              "  </tbody>\n",
              "</table><p>"
            ]
          },
          "metadata": {}
        },
        {
          "output_type": "execute_result",
          "data": {
            "text/plain": [
              "TrainOutput(global_step=4808, training_loss=0.3170946484273563, metrics={'train_runtime': 479.9423, 'train_samples_per_second': 160.219, 'train_steps_per_second': 10.018, 'total_flos': 5095649736622080.0, 'train_loss': 0.3170946484273563, 'epoch': 8.0})"
            ]
          },
          "metadata": {},
          "execution_count": 12
        }
      ]
    },
    {
      "cell_type": "code",
      "source": [
        "results = trainer.evaluate(test_tokenized)\n",
        "print(\"Evaluation results:\", results)"
      ],
      "metadata": {
        "colab": {
          "base_uri": "https://localhost:8080/",
          "height": 54
        },
        "id": "SqBhvvJQdbGD",
        "outputId": "8403bafa-323a-4c4d-e293-97dbf4ed2013"
      },
      "execution_count": null,
      "outputs": [
        {
          "output_type": "display_data",
          "data": {
            "text/plain": [
              "<IPython.core.display.HTML object>"
            ],
            "text/html": [
              "\n",
              "    <div>\n",
              "      \n",
              "      <progress value='151' max='151' style='width:300px; height:20px; vertical-align: middle;'></progress>\n",
              "      [151/151 00:04]\n",
              "    </div>\n",
              "    "
            ]
          },
          "metadata": {}
        },
        {
          "output_type": "stream",
          "name": "stdout",
          "text": [
            "Evaluation results: {'eval_loss': 0.7098497152328491, 'eval_accuracy': 0.8614107883817428, 'eval_runtime': 4.3348, 'eval_samples_per_second': 555.964, 'eval_steps_per_second': 34.834, 'epoch': 8.0}\n"
          ]
        }
      ]
    },
    {
      "cell_type": "code",
      "source": [
        "# Cell 9: Save the Fine-Tuned Model\n",
        "trainer.save_model(\"/content/drive/MyDrive/DAT620/german_finetuned_model_updated\")"
      ],
      "metadata": {
        "id": "e9cmlSdudrFg"
      },
      "execution_count": null,
      "outputs": []
    },
    {
      "cell_type": "markdown",
      "source": [
        "Evaluate Classical machine learning models"
      ],
      "metadata": {
        "id": "Bo_Q-kAZtQmV"
      }
    },
    {
      "cell_type": "code",
      "source": [
        "import joblib\n",
        "from sklearn.metrics import classification_report, accuracy_score\n",
        "\n",
        "# Load the models and label encoder\n",
        "log_reg = joblib.load(\"/content/drive/MyDrive/DAT620/logistic_regression_model.joblib\")\n",
        "rf = joblib.load(\"/content/drive/MyDrive/DAT620/random_forest_model.joblib\")\n",
        "xgb_clf = joblib.load(\"/content/drive/MyDrive/DAT620/xgboost_model.joblib\")\n",
        "knn = joblib.load(\"/content/drive/MyDrive/DAT620/knn_model.joblib\")\n",
        "svm = joblib.load(\"/content/drive/MyDrive/DAT620/svm_model.joblib\")\n",
        "le = joblib.load(\"/content/drive/MyDrive/DAT620/label_encoder.joblib\")\n",
        "\n",
        "# Evaluate Logistic Regression\n",
        "y_pred_lr = log_reg.predict(X_test_tfidf)\n",
        "acc_lr = accuracy_score(y_test_le, y_pred_lr)\n",
        "print(\"\\nLoaded LogisticRegression model accuracy:\", acc_lr)\n",
        "\n",
        "# Evaluate Random Forest\n",
        "y_pred_rf = rf.predict(X_test_tfidf)\n",
        "acc_rf = accuracy_score(y_test_le, y_pred_rf)\n",
        "print(\"\\nLoaded RandomForest model accuracy:\", acc_rf)\n",
        "\n",
        "# Evaluate XGBoost\n",
        "y_pred_xgb = xgb_clf.predict(X_test_tfidf)\n",
        "acc_xgb = accuracy_score(y_test_le, y_pred_xgb)\n",
        "print(\"\\nLoaded XGBoost model accuracy:\", acc_xgb)\n",
        "\n",
        "# Evaluate KNN\n",
        "y_pred_knn = knn.predict(X_test_tfidf)\n",
        "acc_knn = accuracy_score(y_test_le, y_pred_knn)\n",
        "print(\"\\nLoaded KNN model accuracy:\", acc_knn)\n",
        "\n",
        "# Evaluate SVM\n",
        "y_pred_svm = svm.predict(X_test_tfidf)\n",
        "acc_svm = accuracy_score(y_test_le, y_pred_svm)\n",
        "print(\"\\nLoaded SVM model accuracy:\", acc_svm)"
      ],
      "metadata": {
        "id": "Jz0JugrbUPcy",
        "colab": {
          "base_uri": "https://localhost:8080/"
        },
        "outputId": "bc4a41cf-ceae-4016-a80e-f3febd6918c3"
      },
      "execution_count": null,
      "outputs": [
        {
          "output_type": "stream",
          "name": "stdout",
          "text": [
            "\n",
            "Loaded LogisticRegression model accuracy: 0.7659751037344399\n",
            "\n",
            "Loaded RandomForest model accuracy: 0.7713692946058092\n",
            "\n",
            "Loaded XGBoost model accuracy: 0.7634854771784232\n",
            "\n",
            "Loaded KNN model accuracy: 0.7203319502074689\n",
            "\n",
            "Loaded SVM model accuracy: 0.8120331950207469\n"
          ]
        }
      ]
    },
    {
      "cell_type": "markdown",
      "source": [
        "Evaluate the Transformer model (DistilBERT)"
      ],
      "metadata": {
        "id": "J3Pwvw0RtnIN"
      }
    },
    {
      "cell_type": "code",
      "source": [
        "import torch\n",
        "from transformers import AutoTokenizer, AutoModelForSequenceClassification\n",
        "import numpy as np\n",
        "\n",
        "# Load the saved model and tokenizer\n",
        "model_path = \"/content/drive/MyDrive/DAT620/german_finetuned_model\"\n",
        "tokenizer = AutoTokenizer.from_pretrained(model_path)\n",
        "model = AutoModelForSequenceClassification.from_pretrained(model_path)\n",
        "\n",
        "# Ensure the model is in evaluation mode\n",
        "model.eval()\n",
        "\n",
        "# Use GPU if available\n",
        "device = torch.device(\"cuda\" if torch.cuda.is_available() else \"cpu\")\n",
        "model.to(device)\n",
        "\n",
        "# Prepare the test dataset\n",
        "test_dataloader = torch.utils.data.DataLoader(\n",
        "    test_tokenized, batch_size=16, shuffle=False\n",
        ")\n",
        "\n",
        "all_predictions = []\n",
        "all_labels = []\n",
        "\n",
        "# Iterate through the test dataloader for prediction\n",
        "with torch.no_grad():\n",
        "    for batch in test_dataloader:\n",
        "        inputs = {key: value.to(device) for key, value in batch.items() if key != \"labels\"}\n",
        "        labels = batch[\"labels\"].to(device)\n",
        "\n",
        "        # Get predictions from the model\n",
        "        outputs = model(**inputs)\n",
        "        logits = outputs.logits\n",
        "\n",
        "        # Get predicted class indices\n",
        "        predictions = torch.argmax(logits, dim=1)\n",
        "\n",
        "        # Store predictions and true labels\n",
        "        all_predictions.extend(predictions.cpu().numpy())\n",
        "        all_labels.extend(labels.cpu().numpy())\n",
        "\n",
        "# Convert numeric predictions back to labels\n",
        "predicted_labels = le.inverse_transform(all_predictions)\n",
        "true_labels = le.inverse_transform(all_labels)\n",
        "\n",
        "# Evaluate accuracy\n",
        "from sklearn.metrics import accuracy_score, classification_report\n",
        "accuracy = accuracy_score(true_labels, predicted_labels)\n",
        "print(f\"Test Accuracy: {accuracy:.4f}\")\n",
        "\n",
        "# Print classification report\n",
        "print(\"\\nClassification Report:\")\n",
        "print(classification_report(true_labels, predicted_labels))\n"
      ],
      "metadata": {
        "colab": {
          "base_uri": "https://localhost:8080/"
        },
        "id": "skowm_mxXT2I",
        "outputId": "89f19efd-98d1-4252-a24a-3a75dec32075"
      },
      "execution_count": null,
      "outputs": [
        {
          "output_type": "stream",
          "name": "stdout",
          "text": [
            "Test Accuracy: 0.8552\n",
            "\n",
            "Classification Report:\n",
            "               precision    recall  f1-score   support\n",
            "\n",
            "         asyl       0.48      0.91      0.62        11\n",
            "         auto       0.98      0.90      0.94        71\n",
            "demonstration       0.67      0.25      0.36        24\n",
            "      familie       0.75      0.46      0.57        13\n",
            "    fernsehen       0.73      0.89      0.80        45\n",
            "   gesundheit       0.75      0.71      0.73        17\n",
            "       gruene       0.50      0.17      0.25         6\n",
            "     karneval       0.91      0.90      0.90        68\n",
            "        klima       0.40      0.67      0.50        15\n",
            "    konflikte       0.00      0.00      0.00        11\n",
            "        krieg       0.00      0.00      0.00         7\n",
            "kriminalitaet       0.89      0.78      0.83       120\n",
            "        leben       0.65      0.75      0.70        32\n",
            "        leute       0.00      0.00      0.00        12\n",
            "    migration       1.00      0.44      0.62         9\n",
            "       museum       0.75      0.67      0.71         9\n",
            "      netflix       1.00      0.50      0.67         8\n",
            "      politik       0.85      0.88      0.87       456\n",
            "      polizei       0.74      0.75      0.74        89\n",
            "     proteste       0.57      0.81      0.67        21\n",
            "        recht       0.47      0.74      0.58        23\n",
            "    sonstiges       0.77      0.82      0.79       192\n",
            "        sport       0.98      0.98      0.98       530\n",
            "      technik       0.77      0.80      0.78       110\n",
            "       unfall       0.67      0.60      0.63        20\n",
            " unterhaltung       0.94      0.96      0.95       348\n",
            "      verkehr       0.77      0.74      0.75        31\n",
            "       wetter       0.76      0.78      0.77        32\n",
            "   wirtschaft       0.87      0.80      0.83        65\n",
            " wissenschaft       0.67      0.13      0.22        15\n",
            "\n",
            "     accuracy                           0.86      2410\n",
            "    macro avg       0.68      0.63      0.63      2410\n",
            " weighted avg       0.85      0.86      0.85      2410\n",
            "\n"
          ]
        },
        {
          "output_type": "stream",
          "name": "stderr",
          "text": [
            "/usr/local/lib/python3.10/dist-packages/sklearn/metrics/_classification.py:1531: UndefinedMetricWarning: Precision is ill-defined and being set to 0.0 in labels with no predicted samples. Use `zero_division` parameter to control this behavior.\n",
            "  _warn_prf(average, modifier, f\"{metric.capitalize()} is\", len(result))\n",
            "/usr/local/lib/python3.10/dist-packages/sklearn/metrics/_classification.py:1531: UndefinedMetricWarning: Precision is ill-defined and being set to 0.0 in labels with no predicted samples. Use `zero_division` parameter to control this behavior.\n",
            "  _warn_prf(average, modifier, f\"{metric.capitalize()} is\", len(result))\n",
            "/usr/local/lib/python3.10/dist-packages/sklearn/metrics/_classification.py:1531: UndefinedMetricWarning: Precision is ill-defined and being set to 0.0 in labels with no predicted samples. Use `zero_division` parameter to control this behavior.\n",
            "  _warn_prf(average, modifier, f\"{metric.capitalize()} is\", len(result))\n"
          ]
        }
      ]
    },
    {
      "cell_type": "markdown",
      "source": [
        "Predict category using the saved model (XLM-RoBERTa)"
      ],
      "metadata": {
        "id": "rh4_sWXitxAC"
      }
    },
    {
      "cell_type": "code",
      "source": [
        "from transformers import AutoTokenizer, AutoModelForSequenceClassification\n",
        "import torch\n",
        "import numpy as np\n",
        "import joblib\n",
        "\n",
        "le = joblib.load(\"/content/drive/MyDrive/DAT620/label_encoder.joblib\")\n",
        "\n",
        "# Load the fine-tuned model and tokenizer\n",
        "model_path = \"/content/drive/MyDrive/DAT620/german_finetuned_model_roberta\"\n",
        "tokenizer = AutoTokenizer.from_pretrained(model_path)\n",
        "model = AutoModelForSequenceClassification.from_pretrained(model_path)\n",
        "\n",
        "# Ensure the model is in evaluation mode\n",
        "model.eval()\n",
        "\n",
        "# Example text for prediction\n",
        "texts = [\n",
        "    \"Reise mit der Bahn Handballer setzen bei Heim EM auf Nachhaltigkeit der deutsch Bahn werden offiziell Partner der Handball Europameisterschaft 2024 in Deutschland und sollen der Nationalmannschaft Fan und offiziell klimafreundlich zu der Austragungsort befÃ¶rdern.\",\n",
        "    \"Krieg in der Ukraine entscheidend Offensive Putins perfider Plan Putin setzen darauf dass RuÃŸland der Ukraine mit noch mehr Soldat bezwingen kÃ¶nnen geht sein Kriegsplan auf oder kommen der Leopard Spitze|Panzer gerade noch rechtzeitig.\"\n",
        "]\n",
        "\n",
        "# Tokenize the input text\n",
        "inputs = tokenizer(texts, truncation=True, padding=\"max_length\", max_length=256, return_tensors=\"pt\")\n",
        "\n",
        "# Make predictions\n",
        "with torch.no_grad():\n",
        "    outputs = model(**inputs)\n",
        "    logits = outputs.logits\n",
        "\n",
        "# Convert logits to probabilities and class predictions\n",
        "probabilities = torch.nn.functional.softmax(logits, dim=1)\n",
        "predictions = torch.argmax(probabilities, dim=1)\n",
        "\n",
        "# Map predictions back to labels using the LabelEncoder\n",
        "predicted_labels = le.inverse_transform(predictions.numpy())\n",
        "\n",
        "# Print results\n",
        "for text, label in zip(texts, predicted_labels):\n",
        "    print(f\"Text: {text}\")\n",
        "    print(f\"Predicted Label: {label}\")"
      ],
      "metadata": {
        "colab": {
          "base_uri": "https://localhost:8080/"
        },
        "id": "XebvVbT-QtOT",
        "outputId": "e169a426-ca45-482b-f93f-5fb3551d993f"
      },
      "execution_count": null,
      "outputs": [
        {
          "output_type": "stream",
          "name": "stdout",
          "text": [
            "Text: Reise mit der Bahn Handballer setzen bei Heim EM auf Nachhaltigkeit der deutsch Bahn werden offiziell Partner der Handball Europameisterschaft 2024 in Deutschland und sollen der Nationalmannschaft Fan und offiziell klimafreundlich zu der Austragungsort befÃ¶rdern.\n",
            "Predicted Label: sport\n",
            "Text: Krieg in der Ukraine entscheidend Offensive Putins perfider Plan Putin setzen darauf dass RuÃŸland der Ukraine mit noch mehr Soldat bezwingen kÃ¶nnen geht sein Kriegsplan auf oder kommen der Leopard Spitze|Panzer gerade noch rechtzeitig.\n",
            "Predicted Label: politik\n"
          ]
        }
      ]
    },
    {
      "cell_type": "markdown",
      "source": [
        "Predict category using the saved model (DistilBERT)"
      ],
      "metadata": {
        "id": "Y63icWnWt8PD"
      }
    },
    {
      "cell_type": "code",
      "source": [
        "from transformers import AutoTokenizer, AutoModelForSequenceClassification\n",
        "import torch\n",
        "import numpy as np\n",
        "import joblib\n",
        "\n",
        "le = joblib.load(\"/content/drive/MyDrive/DAT620/label_encoder.joblib\")\n",
        "\n",
        "# Load the fine-tuned model and tokenizer\n",
        "model_path = \"/content/drive/MyDrive/DAT620/german_finetuned_model\"\n",
        "tokenizer = AutoTokenizer.from_pretrained(model_path)\n",
        "model = AutoModelForSequenceClassification.from_pretrained(model_path)\n",
        "\n",
        "# Ensure the model is in evaluation mode\n",
        "model.eval()\n",
        "\n",
        "# Example text for prediction\n",
        "texts = [\n",
        "    \"Reise mit der Bahn Handballer setzen bei Heim EM auf Nachhaltigkeit der deutsch Bahn werden offiziell Partner der Handball Europameisterschaft 2024 in Deutschland und sollen der Nationalmannschaft Fan und offiziell klimafreundlich zu der Austragungsort befÃ¶rdern.\",\n",
        "    \"Krieg in der Ukraine entscheidend Offensive Putins perfider Plan Putin setzen darauf dass RuÃŸland der Ukraine mit noch mehr Soldat bezwingen kÃ¶nnen geht sein Kriegsplan auf oder kommen der Leopard Spitze|Panzer gerade noch rechtzeitig.\"\n",
        "]\n",
        "\n",
        "# Tokenize the input text\n",
        "inputs = tokenizer(texts, truncation=True, padding=\"max_length\", max_length=256, return_tensors=\"pt\")\n",
        "\n",
        "# Make predictions\n",
        "with torch.no_grad():\n",
        "    outputs = model(**inputs)\n",
        "    logits = outputs.logits\n",
        "\n",
        "# Convert logits to probabilities and class predictions\n",
        "probabilities = torch.nn.functional.softmax(logits, dim=1)\n",
        "predictions = torch.argmax(probabilities, dim=1)\n",
        "\n",
        "# Map predictions back to labels using the LabelEncoder\n",
        "predicted_labels = le.inverse_transform(predictions.numpy())\n",
        "\n",
        "# Print results\n",
        "for text, label in zip(texts, predicted_labels):\n",
        "    print(f\"Text: {text}\")\n",
        "    print(f\"Predicted Label: {label}\")"
      ],
      "metadata": {
        "colab": {
          "base_uri": "https://localhost:8080/"
        },
        "id": "rZO13sueWE6F",
        "outputId": "3b68c86c-0d4a-41be-8819-0ee1efa06fd4"
      },
      "execution_count": null,
      "outputs": [
        {
          "output_type": "stream",
          "name": "stdout",
          "text": [
            "Text: Reise mit der Bahn Handballer setzen bei Heim EM auf Nachhaltigkeit der deutsch Bahn werden offiziell Partner der Handball Europameisterschaft 2024 in Deutschland und sollen der Nationalmannschaft Fan und offiziell klimafreundlich zu der Austragungsort befÃ¶rdern.\n",
            "Predicted Label: sport\n",
            "Text: Krieg in der Ukraine entscheidend Offensive Putins perfider Plan Putin setzen darauf dass RuÃŸland der Ukraine mit noch mehr Soldat bezwingen kÃ¶nnen geht sein Kriegsplan auf oder kommen der Leopard Spitze|Panzer gerade noch rechtzeitig.\n",
            "Predicted Label: politik\n"
          ]
        }
      ]
    }
  ]
}