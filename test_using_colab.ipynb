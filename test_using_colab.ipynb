{
  "nbformat": 4,
  "nbformat_minor": 0,
  "metadata": {
    "colab": {
      "provenance": []
    },
    "kernelspec": {
      "name": "python3",
      "display_name": "Python 3"
    },
    "language_info": {
      "name": "python"
    }
  },
  "cells": [
    {
      "cell_type": "markdown",
      "source": [
        "Clone git repository"
      ],
      "metadata": {
        "id": "H0szA62mug2v"
      }
    },
    {
      "cell_type": "code",
      "execution_count": null,
      "metadata": {
        "colab": {
          "base_uri": "https://localhost:8080/"
        },
        "id": "zYtnaJ9kx-g-",
        "outputId": "c1a0b531-5922-482d-bfd8-22b949511c1d"
      },
      "outputs": [
        {
          "output_type": "stream",
          "name": "stdout",
          "text": [
            "Cloning into 'German-News-Data-Classification'...\n",
            "remote: Enumerating objects: 18, done.\u001b[K\n",
            "remote: Counting objects: 100% (18/18), done.\u001b[K\n",
            "remote: Compressing objects: 100% (15/15), done.\u001b[K\n",
            "remote: Total 18 (delta 1), reused 15 (delta 1), pack-reused 0 (from 0)\u001b[K\n",
            "Receiving objects: 100% (18/18), 39.78 KiB | 4.97 MiB/s, done.\n",
            "Resolving deltas: 100% (1/1), done.\n"
          ]
        }
      ],
      "source": [
        "!git clone https://github.com/umarmuaz/German-News-Data-Classification.git"
      ]
    },
    {
      "cell_type": "markdown",
      "source": [
        "Move to the directory"
      ],
      "metadata": {
        "id": "l37Lp_8Bumpu"
      }
    },
    {
      "cell_type": "code",
      "source": [
        "%cd German-News-Data-Classification/"
      ],
      "metadata": {
        "colab": {
          "base_uri": "https://localhost:8080/"
        },
        "id": "N_uh6r615CXf",
        "outputId": "829613d7-636e-4079-97d0-4a3469b732de"
      },
      "execution_count": null,
      "outputs": [
        {
          "output_type": "stream",
          "name": "stdout",
          "text": [
            "/content/German-News-Data-Classification\n"
          ]
        }
      ]
    },
    {
      "cell_type": "code",
      "source": [
        "!pwd"
      ],
      "metadata": {
        "colab": {
          "base_uri": "https://localhost:8080/"
        },
        "id": "UC2LSBU05Y6J",
        "outputId": "62a0a89f-603b-48ba-c94b-f235f6608492"
      },
      "execution_count": null,
      "outputs": [
        {
          "output_type": "stream",
          "name": "stdout",
          "text": [
            "/content/German-News-Data-Classification\n"
          ]
        }
      ]
    },
    {
      "cell_type": "markdown",
      "source": [
        "Install requirements"
      ],
      "metadata": {
        "id": "fFQlM6gZurEG"
      }
    },
    {
      "cell_type": "code",
      "source": [
        "!pip install -r '/content/German-News-Data-Classification/requirements.txt'"
      ],
      "metadata": {
        "colab": {
          "base_uri": "https://localhost:8080/"
        },
        "id": "hGux-9mH4zGR",
        "outputId": "f5ea54cc-036b-4d1c-90fb-74c103b2ca0f"
      },
      "execution_count": null,
      "outputs": [
        {
          "output_type": "stream",
          "name": "stdout",
          "text": [
            "Requirement already satisfied: pandas in /usr/local/lib/python3.10/dist-packages (from -r /content/German-News-Data-Classification/requirements.txt (line 4)) (2.2.2)\n",
            "Requirement already satisfied: numpy in /usr/local/lib/python3.10/dist-packages (from -r /content/German-News-Data-Classification/requirements.txt (line 5)) (1.26.4)\n",
            "Requirement already satisfied: scikit-learn in /usr/local/lib/python3.10/dist-packages (from -r /content/German-News-Data-Classification/requirements.txt (line 6)) (1.5.2)\n",
            "Requirement already satisfied: xgboost in /usr/local/lib/python3.10/dist-packages (from -r /content/German-News-Data-Classification/requirements.txt (line 7)) (2.1.3)\n",
            "Requirement already satisfied: joblib in /usr/local/lib/python3.10/dist-packages (from -r /content/German-News-Data-Classification/requirements.txt (line 8)) (1.4.2)\n",
            "Requirement already satisfied: nltk in /usr/local/lib/python3.10/dist-packages (from -r /content/German-News-Data-Classification/requirements.txt (line 11)) (3.9.1)\n",
            "Requirement already satisfied: transformers in /usr/local/lib/python3.10/dist-packages (from -r /content/German-News-Data-Classification/requirements.txt (line 14)) (4.46.3)\n",
            "Collecting datasets (from -r /content/German-News-Data-Classification/requirements.txt (line 15))\n",
            "  Downloading datasets-3.2.0-py3-none-any.whl.metadata (20 kB)\n",
            "Collecting evaluate (from -r /content/German-News-Data-Classification/requirements.txt (line 16))\n",
            "  Downloading evaluate-0.4.3-py3-none-any.whl.metadata (9.2 kB)\n",
            "Requirement already satisfied: torch in /usr/local/lib/python3.10/dist-packages (from -r /content/German-News-Data-Classification/requirements.txt (line 17)) (2.5.1+cu121)\n",
            "Requirement already satisfied: python-dateutil>=2.8.2 in /usr/local/lib/python3.10/dist-packages (from pandas->-r /content/German-News-Data-Classification/requirements.txt (line 4)) (2.8.2)\n",
            "Requirement already satisfied: pytz>=2020.1 in /usr/local/lib/python3.10/dist-packages (from pandas->-r /content/German-News-Data-Classification/requirements.txt (line 4)) (2024.2)\n",
            "Requirement already satisfied: tzdata>=2022.7 in /usr/local/lib/python3.10/dist-packages (from pandas->-r /content/German-News-Data-Classification/requirements.txt (line 4)) (2024.2)\n",
            "Requirement already satisfied: scipy>=1.6.0 in /usr/local/lib/python3.10/dist-packages (from scikit-learn->-r /content/German-News-Data-Classification/requirements.txt (line 6)) (1.13.1)\n",
            "Requirement already satisfied: threadpoolctl>=3.1.0 in /usr/local/lib/python3.10/dist-packages (from scikit-learn->-r /content/German-News-Data-Classification/requirements.txt (line 6)) (3.5.0)\n",
            "Requirement already satisfied: nvidia-nccl-cu12 in /usr/local/lib/python3.10/dist-packages (from xgboost->-r /content/German-News-Data-Classification/requirements.txt (line 7)) (2.23.4)\n",
            "Requirement already satisfied: click in /usr/local/lib/python3.10/dist-packages (from nltk->-r /content/German-News-Data-Classification/requirements.txt (line 11)) (8.1.7)\n",
            "Requirement already satisfied: regex>=2021.8.3 in /usr/local/lib/python3.10/dist-packages (from nltk->-r /content/German-News-Data-Classification/requirements.txt (line 11)) (2024.9.11)\n",
            "Requirement already satisfied: tqdm in /usr/local/lib/python3.10/dist-packages (from nltk->-r /content/German-News-Data-Classification/requirements.txt (line 11)) (4.66.6)\n",
            "Requirement already satisfied: filelock in /usr/local/lib/python3.10/dist-packages (from transformers->-r /content/German-News-Data-Classification/requirements.txt (line 14)) (3.16.1)\n",
            "Requirement already satisfied: huggingface-hub<1.0,>=0.23.2 in /usr/local/lib/python3.10/dist-packages (from transformers->-r /content/German-News-Data-Classification/requirements.txt (line 14)) (0.26.5)\n",
            "Requirement already satisfied: packaging>=20.0 in /usr/local/lib/python3.10/dist-packages (from transformers->-r /content/German-News-Data-Classification/requirements.txt (line 14)) (24.2)\n",
            "Requirement already satisfied: pyyaml>=5.1 in /usr/local/lib/python3.10/dist-packages (from transformers->-r /content/German-News-Data-Classification/requirements.txt (line 14)) (6.0.2)\n",
            "Requirement already satisfied: requests in /usr/local/lib/python3.10/dist-packages (from transformers->-r /content/German-News-Data-Classification/requirements.txt (line 14)) (2.32.3)\n",
            "Requirement already satisfied: tokenizers<0.21,>=0.20 in /usr/local/lib/python3.10/dist-packages (from transformers->-r /content/German-News-Data-Classification/requirements.txt (line 14)) (0.20.3)\n",
            "Requirement already satisfied: safetensors>=0.4.1 in /usr/local/lib/python3.10/dist-packages (from transformers->-r /content/German-News-Data-Classification/requirements.txt (line 14)) (0.4.5)\n",
            "Requirement already satisfied: pyarrow>=15.0.0 in /usr/local/lib/python3.10/dist-packages (from datasets->-r /content/German-News-Data-Classification/requirements.txt (line 15)) (17.0.0)\n",
            "Collecting dill<0.3.9,>=0.3.0 (from datasets->-r /content/German-News-Data-Classification/requirements.txt (line 15))\n",
            "  Downloading dill-0.3.8-py3-none-any.whl.metadata (10 kB)\n",
            "Collecting xxhash (from datasets->-r /content/German-News-Data-Classification/requirements.txt (line 15))\n",
            "  Downloading xxhash-3.5.0-cp310-cp310-manylinux_2_17_x86_64.manylinux2014_x86_64.whl.metadata (12 kB)\n",
            "Collecting multiprocess<0.70.17 (from datasets->-r /content/German-News-Data-Classification/requirements.txt (line 15))\n",
            "  Downloading multiprocess-0.70.16-py310-none-any.whl.metadata (7.2 kB)\n",
            "Collecting fsspec<=2024.9.0,>=2023.1.0 (from fsspec[http]<=2024.9.0,>=2023.1.0->datasets->-r /content/German-News-Data-Classification/requirements.txt (line 15))\n",
            "  Downloading fsspec-2024.9.0-py3-none-any.whl.metadata (11 kB)\n",
            "Requirement already satisfied: aiohttp in /usr/local/lib/python3.10/dist-packages (from datasets->-r /content/German-News-Data-Classification/requirements.txt (line 15)) (3.11.10)\n",
            "Requirement already satisfied: typing-extensions>=4.8.0 in /usr/local/lib/python3.10/dist-packages (from torch->-r /content/German-News-Data-Classification/requirements.txt (line 17)) (4.12.2)\n",
            "Requirement already satisfied: networkx in /usr/local/lib/python3.10/dist-packages (from torch->-r /content/German-News-Data-Classification/requirements.txt (line 17)) (3.4.2)\n",
            "Requirement already satisfied: jinja2 in /usr/local/lib/python3.10/dist-packages (from torch->-r /content/German-News-Data-Classification/requirements.txt (line 17)) (3.1.4)\n",
            "Requirement already satisfied: sympy==1.13.1 in /usr/local/lib/python3.10/dist-packages (from torch->-r /content/German-News-Data-Classification/requirements.txt (line 17)) (1.13.1)\n",
            "Requirement already satisfied: mpmath<1.4,>=1.1.0 in /usr/local/lib/python3.10/dist-packages (from sympy==1.13.1->torch->-r /content/German-News-Data-Classification/requirements.txt (line 17)) (1.3.0)\n",
            "Requirement already satisfied: aiohappyeyeballs>=2.3.0 in /usr/local/lib/python3.10/dist-packages (from aiohttp->datasets->-r /content/German-News-Data-Classification/requirements.txt (line 15)) (2.4.4)\n",
            "Requirement already satisfied: aiosignal>=1.1.2 in /usr/local/lib/python3.10/dist-packages (from aiohttp->datasets->-r /content/German-News-Data-Classification/requirements.txt (line 15)) (1.3.2)\n",
            "Requirement already satisfied: async-timeout<6.0,>=4.0 in /usr/local/lib/python3.10/dist-packages (from aiohttp->datasets->-r /content/German-News-Data-Classification/requirements.txt (line 15)) (4.0.3)\n",
            "Requirement already satisfied: attrs>=17.3.0 in /usr/local/lib/python3.10/dist-packages (from aiohttp->datasets->-r /content/German-News-Data-Classification/requirements.txt (line 15)) (24.2.0)\n",
            "Requirement already satisfied: frozenlist>=1.1.1 in /usr/local/lib/python3.10/dist-packages (from aiohttp->datasets->-r /content/German-News-Data-Classification/requirements.txt (line 15)) (1.5.0)\n",
            "Requirement already satisfied: multidict<7.0,>=4.5 in /usr/local/lib/python3.10/dist-packages (from aiohttp->datasets->-r /content/German-News-Data-Classification/requirements.txt (line 15)) (6.1.0)\n",
            "Requirement already satisfied: propcache>=0.2.0 in /usr/local/lib/python3.10/dist-packages (from aiohttp->datasets->-r /content/German-News-Data-Classification/requirements.txt (line 15)) (0.2.1)\n",
            "Requirement already satisfied: yarl<2.0,>=1.17.0 in /usr/local/lib/python3.10/dist-packages (from aiohttp->datasets->-r /content/German-News-Data-Classification/requirements.txt (line 15)) (1.18.3)\n",
            "Requirement already satisfied: six>=1.5 in /usr/local/lib/python3.10/dist-packages (from python-dateutil>=2.8.2->pandas->-r /content/German-News-Data-Classification/requirements.txt (line 4)) (1.17.0)\n",
            "Requirement already satisfied: charset-normalizer<4,>=2 in /usr/local/lib/python3.10/dist-packages (from requests->transformers->-r /content/German-News-Data-Classification/requirements.txt (line 14)) (3.4.0)\n",
            "Requirement already satisfied: idna<4,>=2.5 in /usr/local/lib/python3.10/dist-packages (from requests->transformers->-r /content/German-News-Data-Classification/requirements.txt (line 14)) (3.10)\n",
            "Requirement already satisfied: urllib3<3,>=1.21.1 in /usr/local/lib/python3.10/dist-packages (from requests->transformers->-r /content/German-News-Data-Classification/requirements.txt (line 14)) (2.2.3)\n",
            "Requirement already satisfied: certifi>=2017.4.17 in /usr/local/lib/python3.10/dist-packages (from requests->transformers->-r /content/German-News-Data-Classification/requirements.txt (line 14)) (2024.8.30)\n",
            "Requirement already satisfied: MarkupSafe>=2.0 in /usr/local/lib/python3.10/dist-packages (from jinja2->torch->-r /content/German-News-Data-Classification/requirements.txt (line 17)) (3.0.2)\n",
            "Downloading datasets-3.2.0-py3-none-any.whl (480 kB)\n",
            "\u001b[2K   \u001b[90m━━━━━━━━━━━━━━━━━━━━━━━━━━━━━━━━━━━━━━━━\u001b[0m \u001b[32m480.6/480.6 kB\u001b[0m \u001b[31m11.3 MB/s\u001b[0m eta \u001b[36m0:00:00\u001b[0m\n",
            "\u001b[?25hDownloading evaluate-0.4.3-py3-none-any.whl (84 kB)\n",
            "\u001b[2K   \u001b[90m━━━━━━━━━━━━━━━━━━━━━━━━━━━━━━━━━━━━━━━━\u001b[0m \u001b[32m84.0/84.0 kB\u001b[0m \u001b[31m5.5 MB/s\u001b[0m eta \u001b[36m0:00:00\u001b[0m\n",
            "\u001b[?25hDownloading dill-0.3.8-py3-none-any.whl (116 kB)\n",
            "\u001b[2K   \u001b[90m━━━━━━━━━━━━━━━━━━━━━━━━━━━━━━━━━━━━━━━━\u001b[0m \u001b[32m116.3/116.3 kB\u001b[0m \u001b[31m7.9 MB/s\u001b[0m eta \u001b[36m0:00:00\u001b[0m\n",
            "\u001b[?25hDownloading fsspec-2024.9.0-py3-none-any.whl (179 kB)\n",
            "\u001b[2K   \u001b[90m━━━━━━━━━━━━━━━━━━━━━━━━━━━━━━━━━━━━━━━━\u001b[0m \u001b[32m179.3/179.3 kB\u001b[0m \u001b[31m10.4 MB/s\u001b[0m eta \u001b[36m0:00:00\u001b[0m\n",
            "\u001b[?25hDownloading multiprocess-0.70.16-py310-none-any.whl (134 kB)\n",
            "\u001b[2K   \u001b[90m━━━━━━━━━━━━━━━━━━━━━━━━━━━━━━━━━━━━━━━━\u001b[0m \u001b[32m134.8/134.8 kB\u001b[0m \u001b[31m8.7 MB/s\u001b[0m eta \u001b[36m0:00:00\u001b[0m\n",
            "\u001b[?25hDownloading xxhash-3.5.0-cp310-cp310-manylinux_2_17_x86_64.manylinux2014_x86_64.whl (194 kB)\n",
            "\u001b[2K   \u001b[90m━━━━━━━━━━━━━━━━━━━━━━━━━━━━━━━━━━━━━━━━\u001b[0m \u001b[32m194.1/194.1 kB\u001b[0m \u001b[31m12.3 MB/s\u001b[0m eta \u001b[36m0:00:00\u001b[0m\n",
            "\u001b[?25hInstalling collected packages: xxhash, fsspec, dill, multiprocess, datasets, evaluate\n",
            "  Attempting uninstall: fsspec\n",
            "    Found existing installation: fsspec 2024.10.0\n",
            "    Uninstalling fsspec-2024.10.0:\n",
            "      Successfully uninstalled fsspec-2024.10.0\n",
            "\u001b[31mERROR: pip's dependency resolver does not currently take into account all the packages that are installed. This behaviour is the source of the following dependency conflicts.\n",
            "gcsfs 2024.10.0 requires fsspec==2024.10.0, but you have fsspec 2024.9.0 which is incompatible.\u001b[0m\u001b[31m\n",
            "\u001b[0mSuccessfully installed datasets-3.2.0 dill-0.3.8 evaluate-0.4.3 fsspec-2024.9.0 multiprocess-0.70.16 xxhash-3.5.0\n"
          ]
        }
      ]
    },
    {
      "cell_type": "markdown",
      "source": [
        "Make directories for the data or models"
      ],
      "metadata": {
        "id": "huXokBrXu4tf"
      }
    },
    {
      "cell_type": "code",
      "source": [
        "!mkdir /content/German-News-Data-Classification/data"
      ],
      "metadata": {
        "id": "PBIRyF7l572N"
      },
      "execution_count": null,
      "outputs": []
    },
    {
      "cell_type": "code",
      "source": [
        "!mkdir /content/German-News-Data-Classification/models"
      ],
      "metadata": {
        "id": "ClMJsm6D6gp0"
      },
      "execution_count": null,
      "outputs": []
    },
    {
      "cell_type": "markdown",
      "source": [
        "Copy the data and models to these folders"
      ],
      "metadata": {
        "id": "Jp5ojY_-vIIU"
      }
    },
    {
      "cell_type": "code",
      "source": [
        "!cp /content/drive/MyDrive/DAT620/new_data_updated.csv /content/German-News-Data-Classification/data/new_data_updated.csv"
      ],
      "metadata": {
        "id": "V6_59QIy5awG"
      },
      "execution_count": null,
      "outputs": []
    },
    {
      "cell_type": "code",
      "source": [
        "!cp /content/drive/MyDrive/DAT620/data.csv /content/German-News-Data-Classification/data/data.csv"
      ],
      "metadata": {
        "id": "6hJ4avKt6HHX"
      },
      "execution_count": null,
      "outputs": []
    },
    {
      "cell_type": "code",
      "source": [
        "!cp /content/drive/MyDrive/DAT620/Categories_manual_adapted.xlsx /content/German-News-Data-Classification/data/Categories_manual_adapted.xlsx"
      ],
      "metadata": {
        "id": "lGPtB6Ia6L2D"
      },
      "execution_count": null,
      "outputs": []
    },
    {
      "cell_type": "code",
      "source": [
        "!cp -r /content/drive/MyDrive/DAT620/german_finetuned_model /content/German-News-Data-Classification/models/german_finetuned_model"
      ],
      "metadata": {
        "id": "hdItZA6OOD5T"
      },
      "execution_count": null,
      "outputs": []
    },
    {
      "cell_type": "markdown",
      "source": [
        "Train the classical machine learning models"
      ],
      "metadata": {
        "id": "1gync8KbvV9a"
      }
    },
    {
      "cell_type": "code",
      "source": [
        "!python -m src.train_classical_models"
      ],
      "metadata": {
        "colab": {
          "base_uri": "https://localhost:8080/"
        },
        "id": "x4Ij6Drc424Q",
        "outputId": "353eace6-78d0-4cac-e22f-f281cd2829b4"
      },
      "execution_count": null,
      "outputs": [
        {
          "output_type": "stream",
          "name": "stdout",
          "text": [
            "LogisticRegression Accuracy: 0.7659751037344399\n",
            "RandomForest Accuracy: 0.7713692946058092\n",
            "/usr/local/lib/python3.10/dist-packages/xgboost/core.py:158: UserWarning: [13:20:03] WARNING: /workspace/src/learner.cc:740: \n",
            "Parameters: { \"use_label_encoder\" } are not used.\n",
            "\n",
            "  warnings.warn(smsg, UserWarning)\n",
            "XGBoost Accuracy: 0.7634854771784232\n",
            "KNN Accuracy: 0.7203319502074689\n",
            "SVM Accuracy: 0.8120331950207469\n"
          ]
        }
      ]
    },
    {
      "cell_type": "markdown",
      "source": [
        "Train the transformer models"
      ],
      "metadata": {
        "id": "sULVRJ8ovbFI"
      }
    },
    {
      "cell_type": "code",
      "source": [
        "!python -m src.train_transformer_models"
      ],
      "metadata": {
        "id": "Mc_95TU-6dLO"
      },
      "execution_count": null,
      "outputs": []
    },
    {
      "cell_type": "markdown",
      "source": [
        "Evaluate the models"
      ],
      "metadata": {
        "id": "kQsFoDHuvjzE"
      }
    },
    {
      "cell_type": "code",
      "source": [
        "!python -m src.evaluate_models"
      ],
      "metadata": {
        "colab": {
          "base_uri": "https://localhost:8080/"
        },
        "id": "fjADEhxM8NHS",
        "outputId": "0e4e199a-da86-495b-cf4e-835fd9d53f9b"
      },
      "execution_count": null,
      "outputs": [
        {
          "output_type": "stream",
          "name": "stdout",
          "text": [
            "LogisticRegression Accuracy: 0.7659751037344399\n",
            "RandomForest Accuracy: 0.7713692946058092\n",
            "XGBoost Accuracy: 0.7634854771784232\n",
            "KNN Accuracy: 0.7203319502074689\n",
            "SVM Accuracy: 0.8120331950207469\n",
            "Map: 100% 2410/2410 [00:00<00:00, 249994.38 examples/s]\n",
            "Map: 100% 2410/2410 [00:00<00:00, 3530.26 examples/s]\n",
            "2024-12-18 14:46:25.737931: E external/local_xla/xla/stream_executor/cuda/cuda_fft.cc:485] Unable to register cuFFT factory: Attempting to register factory for plugin cuFFT when one has already been registered\n",
            "2024-12-18 14:46:25.763812: E external/local_xla/xla/stream_executor/cuda/cuda_dnn.cc:8454] Unable to register cuDNN factory: Attempting to register factory for plugin cuDNN when one has already been registered\n",
            "2024-12-18 14:46:25.772075: E external/local_xla/xla/stream_executor/cuda/cuda_blas.cc:1452] Unable to register cuBLAS factory: Attempting to register factory for plugin cuBLAS when one has already been registered\n",
            "2024-12-18 14:46:25.802311: I tensorflow/core/platform/cpu_feature_guard.cc:210] This TensorFlow binary is optimized to use available CPU instructions in performance-critical operations.\n",
            "To enable the following instructions: AVX2 FMA, in other operations, rebuild TensorFlow with the appropriate compiler flags.\n",
            "2024-12-18 14:46:28.879716: W tensorflow/compiler/tf2tensorrt/utils/py_utils.cc:38] TF-TRT Warning: Could not find TensorRT\n",
            "Transformer Model Accuracy: 0.8551867219917012\n",
            "/usr/local/lib/python3.10/dist-packages/sklearn/metrics/_classification.py:1531: UndefinedMetricWarning: Precision is ill-defined and being set to 0.0 in labels with no predicted samples. Use `zero_division` parameter to control this behavior.\n",
            "  _warn_prf(average, modifier, f\"{metric.capitalize()} is\", len(result))\n",
            "/usr/local/lib/python3.10/dist-packages/sklearn/metrics/_classification.py:1531: UndefinedMetricWarning: Precision is ill-defined and being set to 0.0 in labels with no predicted samples. Use `zero_division` parameter to control this behavior.\n",
            "  _warn_prf(average, modifier, f\"{metric.capitalize()} is\", len(result))\n",
            "/usr/local/lib/python3.10/dist-packages/sklearn/metrics/_classification.py:1531: UndefinedMetricWarning: Precision is ill-defined and being set to 0.0 in labels with no predicted samples. Use `zero_division` parameter to control this behavior.\n",
            "  _warn_prf(average, modifier, f\"{metric.capitalize()} is\", len(result))\n",
            "               precision    recall  f1-score   support\n",
            "\n",
            "         asyl       0.48      0.91      0.62        11\n",
            "         auto       0.98      0.90      0.94        71\n",
            "demonstration       0.67      0.25      0.36        24\n",
            "      familie       0.75      0.46      0.57        13\n",
            "    fernsehen       0.73      0.89      0.80        45\n",
            "   gesundheit       0.75      0.71      0.73        17\n",
            "       gruene       0.50      0.17      0.25         6\n",
            "     karneval       0.91      0.90      0.90        68\n",
            "        klima       0.40      0.67      0.50        15\n",
            "    konflikte       0.00      0.00      0.00        11\n",
            "        krieg       0.00      0.00      0.00         7\n",
            "kriminalitaet       0.89      0.78      0.83       120\n",
            "        leben       0.65      0.75      0.70        32\n",
            "        leute       0.00      0.00      0.00        12\n",
            "    migration       1.00      0.44      0.62         9\n",
            "       museum       0.75      0.67      0.71         9\n",
            "      netflix       1.00      0.50      0.67         8\n",
            "      politik       0.85      0.88      0.87       456\n",
            "      polizei       0.74      0.75      0.74        89\n",
            "     proteste       0.57      0.81      0.67        21\n",
            "        recht       0.47      0.74      0.58        23\n",
            "    sonstiges       0.77      0.82      0.79       192\n",
            "        sport       0.98      0.98      0.98       530\n",
            "      technik       0.77      0.80      0.78       110\n",
            "       unfall       0.67      0.60      0.63        20\n",
            " unterhaltung       0.94      0.96      0.95       348\n",
            "      verkehr       0.77      0.74      0.75        31\n",
            "       wetter       0.76      0.78      0.77        32\n",
            "   wirtschaft       0.87      0.80      0.83        65\n",
            " wissenschaft       0.67      0.13      0.22        15\n",
            "\n",
            "     accuracy                           0.86      2410\n",
            "    macro avg       0.68      0.63      0.63      2410\n",
            " weighted avg       0.85      0.86      0.85      2410\n",
            "\n"
          ]
        }
      ]
    },
    {
      "cell_type": "markdown",
      "source": [
        "Predict category using the best performing model (DistilBERT)"
      ],
      "metadata": {
        "id": "b139AXC8vo-V"
      }
    },
    {
      "cell_type": "code",
      "source": [
        "import torch\n",
        "import joblib\n",
        "from transformers import AutoTokenizer, AutoModelForSequenceClassification\n",
        "\n",
        "le = joblib.load(\"./models/label_encoder.joblib\")\n",
        "model_path = \"./models/german_finetuned_model\"\n",
        "\n",
        "tokenizer = AutoTokenizer.from_pretrained(model_path)\n",
        "model = AutoModelForSequenceClassification.from_pretrained(model_path)\n",
        "model.eval()\n",
        "\n",
        "texts = [\"Krieg in der Ukraine entscheidend Offensive Putins perfider Plan Putin setzen darauf dass RuÃŸland der Ukraine mit noch mehr Soldat bezwingen kÃ¶nnen geht sein Kriegsplan auf oder kommen der Leopard Spitze|Panzer gerade noch rechtzeitig\"]\n",
        "inputs = tokenizer(texts, return_tensors=\"pt\", truncation=True, padding=\"max_length\", max_length=256)\n",
        "with torch.no_grad():\n",
        "    outputs = model(**inputs)\n",
        "    logits = outputs.logits\n",
        "\n",
        "predictions = torch.argmax(logits, dim=1).numpy()\n",
        "predicted_labels = le.inverse_transform(predictions)\n",
        "print(predicted_labels)"
      ],
      "metadata": {
        "colab": {
          "base_uri": "https://localhost:8080/"
        },
        "id": "w-Wod7RD9Sx3",
        "outputId": "cd8b8c1d-7831-44ec-bd48-0550c00a9435"
      },
      "execution_count": null,
      "outputs": [
        {
          "output_type": "stream",
          "name": "stdout",
          "text": [
            "['politik']\n"
          ]
        }
      ]
    }
  ]
}